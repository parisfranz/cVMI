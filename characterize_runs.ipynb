{
 "cells": [
  {
   "cell_type": "code",
   "execution_count": 3,
   "id": "b3c16a6b-591e-4df6-881b-b39f595b74f6",
   "metadata": {},
   "outputs": [
    {
     "name": "stdout",
     "output_type": "stream",
     "text": [
      "The autoreload extension is already loaded. To reload it, use:\n",
      "  %reload_ext autoreload\n"
     ]
    }
   ],
   "source": [
    "%load_ext autoreload\n",
    "%autoreload 2"
   ]
  },
  {
   "cell_type": "code",
   "execution_count": 5,
   "id": "6aabe689-c9bf-43e9-8668-9bb7ef2dd477",
   "metadata": {},
   "outputs": [
    {
     "name": "stderr",
     "output_type": "stream",
     "text": [
      "/reg/neh/home/tdd14/modules/CPBASEX/pbasex-Python/pbasex/gData.py:55: SyntaxWarning: \"is not\" with a literal. Did you mean \"!=\"?\n",
      "  if gData['rBF'] is not 'custom':\n"
     ]
    },
    {
     "name": "stdout",
     "output_type": "stream",
     "text": [
      "Hi! I imported. \n"
     ]
    }
   ],
   "source": [
    "from __future__ import print_function\n",
    "import numpy as np\n",
    "from tqdm import tqdm\n",
    "import matplotlib.colors as colors\n",
    "import matplotlib.pyplot as plt\n",
    "from matplotlib.dates import DateFormatter\n",
    "from matplotlib import cm\n",
    "plt.rcParams.update({'font.size': 14, 'lines.markersize' : 4})\n",
    "\n",
    "from scipy.optimize import curve_fit\n",
    "import sys, os\n",
    "import time, datetime\n",
    "from datetime import timedelta\n",
    "import pandas as pd\n",
    "sys.path.append('/reg/d/psdm/tmo/tmox51020/results/paris/recon')\n",
    "from recon_funcs import *\n",
    "import h5py\n",
    "from scipy.interpolate import interp1d\n",
    "sys.path.append('/reg/neh/home/tdd14/modules/cart2pol/cart2pol')\n",
    "import cart2pol\n",
    "from cart2pol import PolarRebin\n",
    "import scipy.ndimage as scimg"
   ]
  },
  {
   "cell_type": "code",
   "execution_count": 6,
   "id": "1f6ed8bb-4c7f-43ab-b70a-c1dc6bab6efb",
   "metadata": {},
   "outputs": [],
   "source": [
    "runnums = [110,112,121,123,125,127]"
   ]
  },
  {
   "cell_type": "code",
   "execution_count": 52,
   "id": "6540a5df-15d8-4cd9-941e-0289d62dc03f",
   "metadata": {},
   "outputs": [
    {
     "data": {
      "text/plain": [
       "-0.010032245889306068"
      ]
     },
     "execution_count": 52,
     "metadata": {},
     "output_type": "execute_result"
    }
   ],
   "source": [
    "ebeam.raw.ebeamUndPosX(event)"
   ]
  },
  {
   "cell_type": "code",
   "execution_count": 61,
   "id": "b143935f-ddf6-4612-85a2-aabf15431beb",
   "metadata": {},
   "outputs": [
    {
     "data": {
      "text/plain": [
       "121"
      ]
     },
     "execution_count": 61,
     "metadata": {},
     "output_type": "execute_result"
    }
   ],
   "source": [
    "ds.runnum"
   ]
  },
  {
   "cell_type": "code",
   "execution_count": 60,
   "id": "2f9f1299-d7bb-42e9-b74c-7a7ea941e72e",
   "metadata": {},
   "outputs": [
    {
     "data": {
      "text/plain": [
       "['__abstractmethods__',\n",
       " '__class__',\n",
       " '__del__',\n",
       " '__delattr__',\n",
       " '__dict__',\n",
       " '__dir__',\n",
       " '__doc__',\n",
       " '__eq__',\n",
       " '__format__',\n",
       " '__ge__',\n",
       " '__getattribute__',\n",
       " '__gt__',\n",
       " '__hash__',\n",
       " '__init__',\n",
       " '__init_subclass__',\n",
       " '__le__',\n",
       " '__lt__',\n",
       " '__module__',\n",
       " '__ne__',\n",
       " '__new__',\n",
       " '__reduce__',\n",
       " '__reduce_ex__',\n",
       " '__repr__',\n",
       " '__setattr__',\n",
       " '__sizeof__',\n",
       " '__slots__',\n",
       " '__str__',\n",
       " '__subclasshook__',\n",
       " '__weakref__',\n",
       " '_abc_impl',\n",
       " '_apply_detector_selection',\n",
       " '_check_file_exist_with_retry',\n",
       " '_close_opened_smd_files',\n",
       " '_configs',\n",
       " '_end_prometheus_client',\n",
       " '_get_configs',\n",
       " '_get_file_info_from_db',\n",
       " '_get_runinfo',\n",
       " '_setup_beginruns',\n",
       " '_setup_run',\n",
       " '_setup_run_calibconst',\n",
       " '_setup_run_files',\n",
       " '_setup_runnum_list',\n",
       " '_start_prometheus_client',\n",
       " '_start_run',\n",
       " 'batch_size',\n",
       " 'beginruns',\n",
       " 'current_retry_no',\n",
       " 'dbsuffix',\n",
       " 'destination',\n",
       " 'detectors',\n",
       " 'dir',\n",
       " 'dm',\n",
       " 'dsparms',\n",
       " 'exp',\n",
       " 'files',\n",
       " 'filter',\n",
       " 'intg_det',\n",
       " 'is_mpi',\n",
       " 'live',\n",
       " 'max_events',\n",
       " 'monitor',\n",
       " 'n_files',\n",
       " 'prom_man',\n",
       " 'runnum',\n",
       " 'runnum_list',\n",
       " 'runnum_list_index',\n",
       " 'runs',\n",
       " 'shmem',\n",
       " 'small_xtc',\n",
       " 'smalldata',\n",
       " 'smalldata_kwargs',\n",
       " 'smalldata_obj',\n",
       " 'smd_callback',\n",
       " 'smd_fds',\n",
       " 'smd_files',\n",
       " 'smd_inprogress_converted',\n",
       " 'smdr_man',\n",
       " 'terminate',\n",
       " 'timestamps',\n",
       " 'unique_user_rank',\n",
       " 'xdetectors',\n",
       " 'xtc_files',\n",
       " 'xtc_path']"
      ]
     },
     "execution_count": 60,
     "metadata": {},
     "output_type": "execute_result"
    }
   ],
   "source": [
    "dir(ds)"
   ]
  },
  {
   "cell_type": "code",
   "execution_count": null,
   "id": "c5c28303-cf14-458f-b2e3-dc60c61ddded",
   "metadata": {},
   "outputs": [
    {
     "name": "stdout",
     "output_type": "stream",
     "text": [
      "110\n",
      "100\n",
      "200\n",
      "300\n",
      "400\n",
      "500\n",
      "600\n",
      "700\n",
      "800\n",
      "900\n",
      "1000\n",
      "1100\n",
      "1200\n",
      "1300\n",
      "1400\n",
      "1500\n",
      "1600\n",
      "1700\n",
      "1800\n",
      "1900\n",
      "2000\n",
      "2100\n",
      "2200\n",
      "2300\n",
      "2400\n",
      "2500\n",
      "2600\n",
      "2700\n",
      "2800\n",
      "2900\n",
      "3000\n",
      "3100\n",
      "3200\n",
      "3300\n",
      "3400\n",
      "3500\n",
      "3600\n",
      "3700\n",
      "3800\n",
      "3900\n",
      "4000\n",
      "4100\n",
      "4200\n",
      "4300\n",
      "4400\n",
      "4500\n",
      "4600\n",
      "4700\n",
      "4800\n",
      "4900\n",
      "5000\n",
      "5100\n",
      "5200\n",
      "5300\n",
      "5400\n",
      "5500\n",
      "5600\n",
      "5700\n",
      "5800\n",
      "5900\n",
      "6000\n",
      "6100\n",
      "6200\n",
      "6300\n",
      "6400\n",
      "6500\n",
      "6600\n",
      "6700\n",
      "6800\n",
      "6900\n",
      "7000\n",
      "7100\n",
      "7200\n",
      "7300\n",
      "7400\n",
      "7500\n",
      "7600\n",
      "7700\n",
      "7800\n",
      "7900\n",
      "8000\n",
      "8100\n",
      "8200\n",
      "8300\n",
      "8400\n",
      "8500\n",
      "8600\n",
      "8700\n",
      "8800\n",
      "8900\n",
      "9000\n",
      "9100\n",
      "9200\n",
      "9300\n",
      "9400\n",
      "9500\n",
      "9600\n",
      "9700\n",
      "9800\n",
      "9900\n",
      "10000\n",
      "10100\n",
      "10200\n",
      "10300\n",
      "10400\n",
      "10500\n",
      "10600\n",
      "10700\n",
      "10800\n",
      "10900\n",
      "11000\n",
      "11100\n",
      "11200\n",
      "11300\n",
      "11400\n",
      "11500\n",
      "11600\n",
      "11700\n",
      "11800\n",
      "11900\n",
      "12000\n",
      "12100\n",
      "12200\n",
      "12300\n",
      "12400\n",
      "12500\n",
      "12600\n",
      "12700\n",
      "12800\n",
      "12900\n",
      "13000\n",
      "13100\n",
      "13200\n",
      "13300\n",
      "13400\n",
      "13500\n",
      "13600\n",
      "13700\n",
      "13800\n",
      "13900\n",
      "14000\n",
      "14100\n",
      "14200\n",
      "14300\n",
      "14400\n",
      "112\n",
      "14500\n",
      "14600\n",
      "14700\n",
      "14800\n",
      "14900\n",
      "15000\n",
      "15100\n",
      "15200\n",
      "15300\n",
      "15400\n",
      "15500\n",
      "15600\n",
      "15700\n",
      "15800\n",
      "15900\n",
      "16000\n",
      "16100\n",
      "16200\n",
      "16300\n",
      "16400\n",
      "16500\n",
      "16600\n",
      "16700\n",
      "16800\n",
      "16900\n",
      "17000\n",
      "17100\n",
      "17200\n",
      "17300\n",
      "17400\n",
      "17500\n",
      "17600\n",
      "17700\n",
      "17800\n",
      "17900\n",
      "18000\n",
      "18100\n",
      "18200\n",
      "18300\n",
      "18400\n",
      "18500\n",
      "18600\n",
      "18700\n",
      "18800\n",
      "18900\n",
      "19000\n",
      "19100\n",
      "19200\n",
      "19300\n",
      "19400\n",
      "19500\n",
      "19600\n",
      "19700\n",
      "19800\n",
      "19900\n",
      "20000\n",
      "20100\n",
      "20200\n",
      "20300\n",
      "20400\n",
      "20500\n",
      "20600\n",
      "20700\n",
      "20800\n",
      "20900\n",
      "21000\n",
      "21100\n",
      "21200\n",
      "21300\n",
      "21400\n",
      "21500\n",
      "21600\n",
      "21700\n",
      "21800\n",
      "21900\n",
      "22000\n",
      "22100\n",
      "22200\n",
      "22300\n",
      "22400\n",
      "22500\n",
      "22600\n",
      "22700\n",
      "22800\n",
      "22900\n",
      "23000\n",
      "23100\n",
      "23200\n",
      "23300\n",
      "23400\n",
      "23500\n",
      "23600\n",
      "23700\n",
      "23800\n",
      "23900\n",
      "24000\n",
      "24100\n",
      "24200\n",
      "24300\n",
      "24400\n",
      "24500\n",
      "24600\n",
      "24700\n",
      "24800\n",
      "24900\n",
      "25000\n",
      "25100\n",
      "25200\n",
      "25300\n",
      "25400\n",
      "25500\n",
      "25600\n",
      "25700\n",
      "25800\n",
      "25900\n",
      "26000\n",
      "26100\n",
      "26200\n",
      "26300\n",
      "26400\n",
      "26500\n",
      "26600\n",
      "26700\n",
      "26800\n",
      "26900\n",
      "27000\n",
      "27100\n",
      "27200\n",
      "27300\n",
      "27400\n",
      "27500\n",
      "27600\n",
      "27700\n",
      "27800\n",
      "27900\n",
      "28000\n",
      "28100\n",
      "28200\n",
      "28300\n",
      "28400\n",
      "28500\n",
      "28600\n",
      "28700\n",
      "28800\n",
      "28900\n",
      "29000\n",
      "29100\n",
      "29200\n",
      "29300\n",
      "29400\n",
      "29500\n",
      "29600\n",
      "29700\n",
      "29800\n",
      "29900\n",
      "30000\n",
      "30100\n",
      "30200\n",
      "30300\n",
      "30400\n",
      "30500\n",
      "30600\n",
      "30700\n",
      "30800\n",
      "30900\n",
      "31000\n",
      "31100\n",
      "31200\n",
      "31300\n",
      "31400\n",
      "31500\n",
      "31600\n",
      "31700\n",
      "31800\n",
      "31900\n",
      "32000\n",
      "32100\n",
      "32200\n",
      "32300\n",
      "32400\n",
      "32500\n",
      "32600\n",
      "32700\n",
      "32800\n",
      "32900\n",
      "33000\n",
      "33100\n",
      "33200\n",
      "33300\n",
      "33400\n",
      "33500\n",
      "33600\n",
      "33700\n",
      "33800\n",
      "33900\n",
      "34000\n",
      "34100\n",
      "34200\n",
      "34300\n",
      "34400\n",
      "34500\n",
      "34600\n",
      "34700\n",
      "34800\n",
      "34900\n",
      "35000\n",
      "35100\n",
      "35200\n",
      "35300\n",
      "35400\n",
      "35500\n",
      "35600\n",
      "35700\n",
      "35800\n",
      "35900\n",
      "36000\n",
      "36100\n",
      "36200\n",
      "36300\n",
      "36400\n",
      "36500\n",
      "36600\n",
      "36700\n",
      "36800\n",
      "36900\n",
      "37000\n",
      "37100\n",
      "37200\n",
      "37300\n",
      "37400\n",
      "37500\n",
      "37600\n",
      "37700\n",
      "37800\n",
      "37900\n",
      "38000\n",
      "38100\n",
      "38200\n",
      "38300\n",
      "38400\n",
      "38500\n",
      "38600\n",
      "38700\n",
      "38800\n",
      "38900\n",
      "39000\n",
      "39100\n",
      "39200\n",
      "39300\n",
      "39400\n",
      "39500\n",
      "39600\n",
      "39700\n",
      "39800\n",
      "39900\n",
      "40000\n",
      "40100\n",
      "40200\n",
      "40300\n",
      "40400\n",
      "40500\n",
      "40600\n",
      "40700\n",
      "40800\n",
      "40900\n",
      "41000\n",
      "41100\n",
      "41200\n",
      "41300\n",
      "41400\n",
      "41500\n",
      "41600\n",
      "41700\n",
      "41800\n",
      "41900\n",
      "42000\n",
      "42100\n",
      "42200\n",
      "42300\n",
      "42400\n",
      "42500\n",
      "42600\n",
      "42700\n",
      "42800\n",
      "42900\n",
      "43000\n",
      "43100\n",
      "43200\n",
      "43300\n",
      "43400\n",
      "43500\n",
      "43600\n",
      "43700\n",
      "43800\n",
      "43900\n",
      "44000\n",
      "44100\n",
      "44200\n",
      "44300\n",
      "44400\n",
      "44500\n",
      "44600\n",
      "44700\n",
      "44800\n",
      "44900\n",
      "45000\n",
      "45100\n",
      "45200\n",
      "45300\n",
      "45400\n",
      "45500\n",
      "45600\n",
      "45700\n",
      "45800\n",
      "45900\n",
      "46000\n",
      "46100\n",
      "46200\n",
      "46300\n",
      "46400\n",
      "46500\n",
      "46600\n",
      "46700\n",
      "46800\n",
      "46900\n",
      "47000\n",
      "47100\n",
      "47200\n",
      "47300\n",
      "47400\n",
      "47500\n",
      "47600\n",
      "47700\n",
      "47800\n",
      "47900\n",
      "48000\n",
      "48100\n",
      "48200\n",
      "48300\n",
      "48400\n",
      "48500\n",
      "48600\n",
      "48700\n",
      "48800\n",
      "48900\n",
      "49000\n",
      "49100\n",
      "49200\n",
      "49300\n",
      "49400\n",
      "49500\n",
      "49600\n",
      "49700\n",
      "49800\n",
      "49900\n",
      "50000\n",
      "50100\n",
      "50200\n",
      "50300\n",
      "50400\n",
      "121\n",
      "50500\n",
      "50600\n",
      "50700\n",
      "50800\n",
      "50900\n",
      "51000\n",
      "51100\n",
      "51200\n",
      "51300\n",
      "51400\n",
      "51500\n",
      "51600\n",
      "51700\n",
      "51800\n",
      "51900\n",
      "52000\n",
      "52100\n",
      "52200\n",
      "52300\n",
      "52400\n",
      "52500\n",
      "52600\n",
      "52700\n",
      "52800\n",
      "52900\n",
      "53000\n",
      "53100\n",
      "53200\n",
      "53300\n",
      "53400\n",
      "53500\n",
      "53600\n",
      "53700\n",
      "53800\n",
      "53900\n",
      "54000\n",
      "54100\n",
      "54200\n",
      "54300\n",
      "54400\n",
      "54500\n",
      "54600\n",
      "54700\n",
      "54800\n",
      "54900\n",
      "55000\n",
      "55100\n",
      "55200\n",
      "55300\n",
      "55400\n",
      "55500\n",
      "55600\n",
      "55700\n",
      "55800\n",
      "55900\n",
      "56000\n",
      "56100\n",
      "56200\n",
      "56300\n",
      "56400\n",
      "56500\n",
      "56600\n",
      "56700\n",
      "56800\n",
      "56900\n",
      "57000\n",
      "57100\n",
      "57200\n",
      "57300\n",
      "57400\n",
      "57500\n",
      "57600\n",
      "57700\n",
      "57800\n",
      "57900\n",
      "58000\n",
      "58100\n",
      "58200\n",
      "58300\n",
      "58400\n",
      "58500\n",
      "58600\n",
      "58700\n",
      "58800\n",
      "58900\n",
      "59000\n",
      "59100\n",
      "59200\n",
      "59300\n",
      "59400\n",
      "59500\n",
      "59600\n",
      "59700\n",
      "59800\n",
      "59900\n",
      "60000\n",
      "60100\n",
      "60200\n",
      "60300\n",
      "60400\n",
      "60500\n",
      "60600\n",
      "60700\n",
      "60800\n",
      "60900\n",
      "61000\n",
      "61100\n",
      "61200\n",
      "61300\n",
      "61400\n",
      "61500\n",
      "61600\n",
      "61700\n",
      "61800\n",
      "61900\n",
      "62000\n",
      "62100\n",
      "62200\n",
      "62300\n",
      "62400\n",
      "62500\n",
      "62600\n",
      "62700\n",
      "62800\n",
      "62900\n",
      "63000\n",
      "63100\n",
      "63200\n",
      "63300\n",
      "63400\n",
      "63500\n",
      "63600\n",
      "63700\n",
      "63800\n",
      "63900\n",
      "64000\n",
      "64100\n",
      "64200\n",
      "64300\n",
      "64400\n",
      "64500\n",
      "64600\n",
      "64700\n",
      "64800\n",
      "64900\n",
      "65000\n",
      "65100\n",
      "65200\n",
      "65300\n",
      "65400\n",
      "65500\n",
      "65600\n",
      "65700\n",
      "65800\n",
      "65900\n",
      "66000\n",
      "66100\n",
      "66200\n",
      "66300\n",
      "66400\n",
      "66500\n",
      "66600\n",
      "66700\n",
      "66800\n",
      "66900\n",
      "67000\n",
      "67100\n",
      "67200\n",
      "67300\n",
      "67400\n",
      "67500\n",
      "67600\n",
      "67700\n",
      "67800\n",
      "67900\n",
      "68000\n",
      "68100\n",
      "68200\n",
      "68300\n",
      "68400\n",
      "68500\n",
      "68600\n",
      "68700\n",
      "68800\n",
      "68900\n",
      "69000\n",
      "69100\n",
      "69200\n",
      "69300\n",
      "69400\n",
      "69500\n",
      "69600\n",
      "69700\n",
      "69800\n",
      "69900\n",
      "70000\n",
      "70100\n",
      "70200\n",
      "70300\n",
      "70400\n",
      "70500\n",
      "70600\n",
      "70700\n",
      "70800\n",
      "70900\n",
      "71000\n",
      "71100\n",
      "71200\n",
      "71300\n",
      "71400\n",
      "71500\n",
      "71600\n",
      "71700\n",
      "71800\n",
      "71900\n",
      "72000\n",
      "72100\n",
      "72200\n",
      "72300\n",
      "72400\n",
      "72500\n",
      "72600\n",
      "72700\n",
      "72800\n",
      "72900\n",
      "73000\n",
      "73100\n",
      "73200\n",
      "73300\n",
      "73400\n",
      "73500\n",
      "73600\n",
      "73700\n",
      "73800\n",
      "73900\n",
      "74000\n",
      "74100\n",
      "74200\n",
      "74300\n",
      "74400\n",
      "74500\n",
      "74600\n",
      "74700\n",
      "74800\n",
      "74900\n",
      "75000\n",
      "75100\n",
      "75200\n",
      "75300\n",
      "75400\n",
      "75500\n",
      "75600\n",
      "75700\n",
      "75800\n",
      "75900\n",
      "76000\n",
      "76100\n",
      "76200\n",
      "76300\n",
      "76400\n",
      "76500\n",
      "76600\n",
      "76700\n",
      "76800\n",
      "76900\n",
      "77000\n",
      "77100\n",
      "77200\n",
      "77300\n",
      "77400\n",
      "77500\n",
      "77600\n",
      "77700\n",
      "77800\n",
      "77900\n",
      "78000\n",
      "78100\n",
      "78200\n",
      "78300\n",
      "78400\n",
      "78500\n",
      "78600\n",
      "78700\n",
      "78800\n",
      "78900\n",
      "79000\n",
      "79100\n",
      "79200\n",
      "79300\n",
      "79400\n",
      "79500\n",
      "79600\n",
      "79700\n",
      "79800\n",
      "79900\n",
      "80000\n",
      "80100\n",
      "80200\n",
      "80300\n",
      "80400\n",
      "80500\n",
      "80600\n",
      "80700\n",
      "80800\n",
      "80900\n",
      "81000\n",
      "81100\n",
      "81200\n",
      "81300\n",
      "81400\n",
      "81500\n",
      "81600\n",
      "81700\n",
      "81800\n",
      "81900\n",
      "82000\n",
      "82100\n",
      "82200\n",
      "82300\n",
      "82400\n",
      "82500\n",
      "82600\n",
      "82700\n",
      "82800\n",
      "82900\n",
      "83000\n",
      "83100\n",
      "83200\n",
      "83300\n",
      "83400\n",
      "83500\n",
      "83600\n",
      "83700\n",
      "83800\n",
      "83900\n",
      "84000\n",
      "84100\n",
      "84200\n",
      "84300\n",
      "84400\n",
      "84500\n",
      "84600\n",
      "84700\n",
      "84800\n",
      "84900\n",
      "85000\n",
      "85100\n",
      "85200\n",
      "85300\n",
      "85400\n",
      "85500\n",
      "85600\n",
      "85700\n",
      "85800\n",
      "85900\n",
      "86000\n",
      "86100\n",
      "86200\n",
      "86300\n",
      "86400\n",
      "123\n",
      "86500\n",
      "86600\n",
      "86700\n",
      "86800\n",
      "86900\n",
      "87000\n",
      "87100\n",
      "87200\n",
      "87300\n",
      "87400\n",
      "87500\n",
      "87600\n",
      "87700\n",
      "87800\n",
      "87900\n",
      "88000\n",
      "88100\n",
      "88200\n",
      "88300\n",
      "88400\n",
      "88500\n",
      "88600\n",
      "88700\n",
      "88800\n",
      "88900\n",
      "89000\n",
      "89100\n",
      "89200\n",
      "89300\n",
      "89400\n",
      "89500\n",
      "89600\n",
      "89700\n",
      "89800\n",
      "89900\n",
      "90000\n",
      "90100\n",
      "90200\n",
      "90300\n",
      "90400\n",
      "90500\n",
      "90600\n",
      "90700\n",
      "90800\n",
      "90900\n",
      "91000\n",
      "91100\n",
      "91200\n",
      "91300\n",
      "91400\n",
      "91500\n",
      "91600\n",
      "91700\n",
      "91800\n",
      "91900\n",
      "92000\n",
      "92100\n",
      "92200\n",
      "92300\n",
      "92400\n",
      "92500\n",
      "92600\n",
      "92700\n",
      "92800\n",
      "92900\n",
      "93000\n",
      "93100\n",
      "93200\n",
      "93300\n",
      "93400\n",
      "93500\n",
      "93600\n",
      "93700\n",
      "93800\n",
      "93900\n",
      "94000\n",
      "94100\n",
      "94200\n",
      "94300\n",
      "94400\n",
      "94500\n",
      "94600\n",
      "94700\n",
      "94800\n",
      "94900\n",
      "95000\n",
      "95100\n",
      "95200\n",
      "95300\n",
      "95400\n",
      "95500\n",
      "95600\n",
      "95700\n",
      "95800\n",
      "95900\n",
      "96000\n",
      "96100\n",
      "96200\n",
      "96300\n",
      "96400\n",
      "96500\n",
      "96600\n",
      "96700\n",
      "96800\n",
      "96900\n",
      "97000\n",
      "97100\n",
      "97200\n",
      "97300\n",
      "97400\n",
      "97500\n",
      "97600\n",
      "97700\n",
      "97800\n",
      "97900\n",
      "98000\n",
      "98100\n",
      "98200\n",
      "98300\n",
      "98400\n",
      "98500\n",
      "98600\n",
      "98700\n",
      "98800\n",
      "98900\n",
      "99000\n",
      "99100\n",
      "99200\n",
      "99300\n",
      "99400\n",
      "99500\n",
      "99600\n",
      "99700\n",
      "99800\n",
      "99900\n",
      "100000\n",
      "100100\n",
      "100200\n",
      "100300\n",
      "100400\n",
      "100500\n",
      "100600\n",
      "100700\n",
      "100800\n",
      "100900\n",
      "101000\n",
      "101100\n"
     ]
    }
   ],
   "source": [
    "L3s = []\n",
    "gds = []\n",
    "runs = []\n",
    "posX =[]\n",
    "posY = []\n",
    "\n",
    "for runnum in runnums:\n",
    "    print(runnum)\n",
    "    ds=ps.DataSource(exp = 'tmox51020', run= runnum)\n",
    "    run = next(ds.runs())\n",
    "    #opal1 = run.Detector('tmo_opal1') # OPAL camera looking at the holey mirror\n",
    "    gmd = run.Detector(\"gmd\") # gas intensity detector \n",
    "    timing = run.Detector('timing') # this gives access to evr codes\n",
    "    ebeam = run.Detector(\"ebeam\")\n",
    "    #opalfzp = run.Detector('tmo_fzpopal') \n",
    "\n",
    "    if hasattr(run, 'epicsinfo'):\n",
    "        epics_strs = [item[0] for item in run.epicsinfo.keys()][1:] # first one is weird\n",
    "        epics_detectors = [run.Detector(item) for item in epics_strs]    \n",
    "\n",
    "    for nevent, event in enumerate(run.events()):\n",
    "        gd_i=gmd.raw.energy(event)\n",
    "        gds.append(gd_i)\n",
    "        L3 = ebeam.raw.ebeamL3Energy(event)\n",
    "        L3s.append(L3)\n",
    "        runs.append(ds.runnum)\n",
    "        X = ebeam.raw.ebeamUndPosX(event)\n",
    "        posX.append(X)\n",
    "        Y = ebeam.raw.ebeamUndPosY(event)\n",
    "        posY.append(Y)\n",
    "        if len(gds)%100 == 0: print(len(gds))\n"
   ]
  },
  {
   "cell_type": "code",
   "execution_count": 16,
   "id": "65298a04-3d8c-4c68-9cdd-49025fce7b86",
   "metadata": {},
   "outputs": [],
   "source": [
    "gds = np.array(gds)\n",
    "L3s = np.array(L3s)\n",
    "posX = np.array(posX)\n",
    "posY = np.array(posY)\n",
    "runs = np.array(runs)"
   ]
  },
  {
   "cell_type": "code",
   "execution_count": 17,
   "id": "9b5a29c2-0ba1-4fbc-a45f-719a1da166f0",
   "metadata": {},
   "outputs": [
    {
     "data": {
      "text/plain": [
       "0.0078125"
      ]
     },
     "execution_count": 17,
     "metadata": {},
     "output_type": "execute_result"
    }
   ],
   "source": [
    "for g in range(len(gds)):\n",
    "    if type(gds[g]) == type(None): gds[g] = np.nan\n",
    "    if type(posX[g]) == type(None): posX[g] = np.nan\n",
    "    if type(posY[g]) == type(None): posY[g] = np.nan\n",
    "    \n",
    "np.min(gds)"
   ]
  },
  {
   "cell_type": "code",
   "execution_count": 18,
   "id": "3f4ca551-4fcd-4230-ab61-ec254ba7a223",
   "metadata": {
    "tags": []
   },
   "outputs": [
    {
     "data": {
      "image/png": "[encoded data removed]",
      "text/plain": [
       "<Figure size 640x480 with 1 Axes>"
      ]
     },
     "metadata": {},
     "output_type": "display_data"
    },
    {
     "data": {
      "image/png": "[encoded data removed]",
      "text/plain": [
       "<Figure size 640x480 with 1 Axes>"
      ]
     },
     "metadata": {},
     "output_type": "display_data"
    },
    {
     "data": {
      "image/png": "[encoded data removed]",
      "text/plain": [
       "<Figure size 640x480 with 1 Axes>"
      ]
     },
     "metadata": {},
     "output_type": "display_data"
    }
   ],
   "source": [
    "plt.hist(gds);\n",
    "plt.show()\n",
    "plt.hist(posX);\n",
    "plt.show()\n",
    "plt.hist(posY);\n",
    "plt.show()\n",
    "#plt.hist(L3s)"
   ]
  },
  {
   "cell_type": "code",
   "execution_count": 19,
   "id": "65013504-4253-4a77-9667-133d261da016",
   "metadata": {},
   "outputs": [
    {
     "name": "stdout",
     "output_type": "stream",
     "text": [
      "nan nan\n",
      "-0.022470906376838684 0.014177667092896215\n",
      "-0.024575423449277878 0.0065769517402225666\n",
      "-0.0309959277510643 0.006408801733569516\n",
      "-0.06696832180023193 0.006105933658156527\n",
      "-0.042170450091362 0.00661375740015654\n"
     ]
    },
    {
     "data": {
      "text/plain": [
       "<matplotlib.legend.Legend at 0x7fcaf8763c40>"
      ]
     },
     "execution_count": 19,
     "metadata": {},
     "output_type": "execute_result"
    },
    {
     "data": {
      "image/png": "[encoded data removed]",
      "text/plain": [
       "<Figure size 640x480 with 1 Axes>"
      ]
     },
     "metadata": {},
     "output_type": "display_data"
    }
   ],
   "source": [
    "devX = []\n",
    "meanX = []\n",
    "for r in np.unique(runs):\n",
    "    plt.hist(posX[runs == r], alpha = 0.5, label = r)\n",
    "    print(np.percentile(posX[runs == r],.5),np.mean(posX[runs == r]))\n",
    "    devX.append(np.std(posX[runs == r]))\n",
    "    meanX.append(np.mean(posX[runs == r]))\n",
    "plt.legend()\n"
   ]
  },
  {
   "cell_type": "code",
   "execution_count": 20,
   "id": "111a3e08-669d-467b-8cce-090382f6a810",
   "metadata": {},
   "outputs": [
    {
     "name": "stdout",
     "output_type": "stream",
     "text": [
      "-0.01880563050508499 nan\n",
      "-0.03556020883843303 0.005311650571540945\n",
      "-0.045837853103876114 0.000752293460150802\n",
      "-0.03391066566109657 0.0010325803684156927\n",
      "-0.1314055621623993 0.0012381542395448154\n",
      "-0.037215281277894974 0.0017535872961393056\n"
     ]
    },
    {
     "data": {
      "text/plain": [
       "<matplotlib.legend.Legend at 0x7fcac189e640>"
      ]
     },
     "execution_count": 20,
     "metadata": {},
     "output_type": "execute_result"
    },
    {
     "data": {
      "image/png": "[encoded data removed]",
      "text/plain": [
       "<Figure size 640x480 with 1 Axes>"
      ]
     },
     "metadata": {},
     "output_type": "display_data"
    }
   ],
   "source": [
    "devY = []\n",
    "meanY = []\n",
    "for r in np.unique(runs):\n",
    "    plt.hist(posY[runs == r], alpha = 0.5, label = r)\n",
    "    print(np.percentile(posY[runs == r],.5),np.mean(posY[runs == r]))\n",
    "    devY.append(np.std(posX[runs == r]))\n",
    "    meanY.append(np.mean(posX[runs == r]))\n",
    "plt.legend()\n"
   ]
  },
  {
   "cell_type": "code",
   "execution_count": 21,
   "id": "c2be662c-3e32-47d7-bc4c-49c50eaa23bf",
   "metadata": {
    "tags": []
   },
   "outputs": [
    {
     "name": "stderr",
     "output_type": "stream",
     "text": [
      "/tmp/ipykernel_18703/2952914888.py:3: RuntimeWarning: invalid value encountered in less_equal\n",
      "  look = (runs==r)& (np.abs(posY-meanY[i])<=devY[i])& (np.abs(posX-meanX[i])<=devX[i])\n",
      "/cds/sw/ds/ana/conda2/inst/envs/ps-4.5.26/lib/python3.9/site-packages/numpy/lib/nanfunctions.py:1558: RuntimeWarning: Mean of empty slice\n",
      "  return np.nanmean(a, axis, out=out, keepdims=keepdims)\n"
     ]
    },
    {
     "data": {
      "image/png": "[encoded data removed]",
      "text/plain": [
       "<Figure size 640x480 with 1 Axes>"
      ]
     },
     "metadata": {},
     "output_type": "display_data"
    },
    {
     "data": {
      "image/png": "[encoded data removed]",
      "text/plain": [
       "<Figure size 640x480 with 1 Axes>"
      ]
     },
     "metadata": {},
     "output_type": "display_data"
    },
    {
     "data": {
      "image/png": "[encoded data removed]",
      "text/plain": [
       "<Figure size 640x480 with 1 Axes>"
      ]
     },
     "metadata": {},
     "output_type": "display_data"
    },
    {
     "data": {
      "image/png": "[encoded data removed]",
      "text/plain": [
       "<Figure size 640x480 with 1 Axes>"
      ]
     },
     "metadata": {},
     "output_type": "display_data"
    },
    {
     "data": {
      "image/png": "[encoded data removed]",
      "text/plain": [
       "<Figure size 640x480 with 1 Axes>"
      ]
     },
     "metadata": {},
     "output_type": "display_data"
    },
    {
     "data": {
      "image/png": "[encoded data removed]",
      "text/plain": [
       "<Figure size 640x480 with 1 Axes>"
      ]
     },
     "metadata": {},
     "output_type": "display_data"
    }
   ],
   "source": [
    "p50 = []\n",
    "for i,r in enumerate(np.unique(runs)):\n",
    "    look = (runs==r)& (np.abs(posY-meanY[i])<=devY[i])& (np.abs(posX-meanX[i])<=devX[i])\n",
    "    plt.hist(gds[look])\n",
    "    try:\n",
    "        plt.title(np.nanpercentile(gds[look],50))\n",
    "        p50.append(np.nanpercentile(gds[look],50))\n",
    "    except: print(r)\n",
    "    plt.show()\n",
    "    "
   ]
  },
  {
   "cell_type": "code",
   "execution_count": 22,
   "id": "0c7bfa93-241b-4925-9935-40be9bd2cf18",
   "metadata": {},
   "outputs": [
    {
     "data": {
      "text/plain": [
       "0.156494140625"
      ]
     },
     "execution_count": 22,
     "metadata": {},
     "output_type": "execute_result"
    }
   ],
   "source": [
    "np.nanpercentile(gds,50)"
   ]
  },
  {
   "cell_type": "code",
   "execution_count": 94,
   "id": "31f15b51-c8bb-40b1-9d63-96cdc1777a59",
   "metadata": {},
   "outputs": [
    {
     "data": {
      "text/plain": [
       "[nan,\n",
       " 0.14794921875,\n",
       " 0.1522216796875,\n",
       " 0.1558837890625,\n",
       " 0.1829833984375,\n",
       " 0.2003173828125]"
      ]
     },
     "execution_count": 94,
     "metadata": {},
     "output_type": "execute_result"
    }
   ],
   "source": [
    "p50"
   ]
  },
  {
   "cell_type": "code",
   "execution_count": 23,
   "id": "3cf54617-8cfc-41c9-948c-52f7b5ee83c5",
   "metadata": {},
   "outputs": [
    {
     "data": {
      "text/plain": [
       "0.16787109375"
      ]
     },
     "execution_count": 23,
     "metadata": {},
     "output_type": "execute_result"
    }
   ],
   "source": [
    "np.nanmean(p50)"
   ]
  },
  {
   "cell_type": "code",
   "execution_count": 24,
   "id": "7d2f955f-78cb-480f-a523-a748c6cbd6be",
   "metadata": {},
   "outputs": [
    {
     "name": "stderr",
     "output_type": "stream",
     "text": [
      "/tmp/ipykernel_18703/3321468977.py:3: RuntimeWarning: invalid value encountered in less_equal\n",
      "  look = (runs==r)& (np.abs(posY-meanY[i])<=devY[i])& (np.abs(posX-meanX[i])<=devX[i])\n"
     ]
    }
   ],
   "source": [
    "after_retune = np.array([np.nan])\n",
    "for i,r in enumerate([121,123,125,127]):\n",
    "    look = (runs==r)& (np.abs(posY-meanY[i])<=devY[i])& (np.abs(posX-meanX[i])<=devX[i])\n",
    "    after_retune = np.hstack((after_retune,gds[look]))\n",
    "\n",
    "    "
   ]
  },
  {
   "cell_type": "code",
   "execution_count": 26,
   "id": "4060fa2e-236f-4c11-8000-d2416339823c",
   "metadata": {},
   "outputs": [
    {
     "name": "stdout",
     "output_type": "stream",
     "text": [
      "0.6087885707594122\n"
     ]
    },
    {
     "name": "stderr",
     "output_type": "stream",
     "text": [
      "/tmp/ipykernel_18703/3581254506.py:2: RuntimeWarning: invalid value encountered in less_equal\n",
      "  p_guess = np.sum(after_retune<=0.202880859375)/len(after_retune)\n"
     ]
    },
    {
     "data": {
      "text/plain": [
       "0.202880859375"
      ]
     },
     "execution_count": 26,
     "metadata": {},
     "output_type": "execute_result"
    }
   ],
   "source": [
    "#percentile of the min peak power reconstructed\n",
    "p_guess = np.sum(after_retune<=0.202880859375)/len(after_retune)\n",
    "print(p_guess)\n",
    "np.nanpercentile(after_retune, p_guess*100)"
   ]
  },
  {
   "cell_type": "code",
   "execution_count": 30,
   "id": "1d823b55-a656-4155-b6c7-e51db08c0af8",
   "metadata": {},
   "outputs": [
    {
     "data": {
      "text/plain": [
       "(array([ 473., 1936., 6885., 9755., 7777., 4377., 2107.,  682.,  118.,\n",
       "          15.]),\n",
       " array([0.00219727, 0.05010986, 0.09802246, 0.14593506, 0.19384766,\n",
       "        0.24176025, 0.28967285, 0.33758545, 0.38549805, 0.43341064,\n",
       "        0.48132324]),\n",
       " <BarContainer object of 10 artists>)"
      ]
     },
     "execution_count": 30,
     "metadata": {},
     "output_type": "execute_result"
    },
    {
     "data": {
      "image/png": "[encoded data removed]",
      "text/plain": [
       "<Figure size 640x480 with 1 Axes>"
      ]
     },
     "metadata": {},
     "output_type": "display_data"
    }
   ],
   "source": [
    "plt.hist(after_retune)"
   ]
  },
  {
   "cell_type": "code",
   "execution_count": 107,
   "id": "817d9944-0497-4f87-9341-f6e0404d6e0c",
   "metadata": {},
   "outputs": [
    {
     "data": {
      "text/plain": [
       "0.18359375"
      ]
     },
     "execution_count": 107,
     "metadata": {},
     "output_type": "execute_result"
    }
   ],
   "source": [
    "np.nanpercentile(after_retune, 50)"
   ]
  },
  {
   "cell_type": "code",
   "execution_count": 109,
   "id": "006fd927-77d6-4d91-b363-41dcd6bae208",
   "metadata": {},
   "outputs": [
    {
     "data": {
      "text/plain": [
       "0.18945831544757327"
      ]
     },
     "execution_count": 109,
     "metadata": {},
     "output_type": "execute_result"
    }
   ],
   "source": [
    "np.nanmean(after_retune)"
   ]
  },
  {
   "cell_type": "code",
   "execution_count": 27,
   "id": "134e989f-3798-498a-80a3-6027ce3a3559",
   "metadata": {},
   "outputs": [
    {
     "name": "stderr",
     "output_type": "stream",
     "text": [
      "/tmp/ipykernel_18703/2861274738.py:3: RuntimeWarning: invalid value encountered in less_equal\n",
      "  look = (runs==r)& (np.abs(posY-meanY[i])<=devY[i])& (np.abs(posX-meanX[i])<=devX[i])\n"
     ]
    }
   ],
   "source": [
    "before_retune = np.array([np.nan])\n",
    "for i,r in enumerate([110,112]):\n",
    "    look = (runs==r)& (np.abs(posY-meanY[i])<=devY[i])& (np.abs(posX-meanX[i])<=devX[i])\n",
    "    before_retune = np.hstack((before_retune,gds[look]))\n"
   ]
  },
  {
   "cell_type": "code",
   "execution_count": 29,
   "id": "2dc38e0d-3565-46d9-99f4-a4367d609a82",
   "metadata": {},
   "outputs": [
    {
     "name": "stdout",
     "output_type": "stream",
     "text": [
      "0.285360903209438\n"
     ]
    },
    {
     "name": "stderr",
     "output_type": "stream",
     "text": [
      "/tmp/ipykernel_18703/2851809215.py:2: RuntimeWarning: invalid value encountered in less_equal\n",
      "  p_guess = np.sum(before_retune<=0.1300048828125)/len(before_retune)\n"
     ]
    },
    {
     "data": {
      "text/plain": [
       "0.1300048828125"
      ]
     },
     "execution_count": 29,
     "metadata": {},
     "output_type": "execute_result"
    }
   ],
   "source": [
    "#percentile of the min peak power reconstructed\n",
    "p_guess = np.sum(before_retune<=0.1300048828125)/len(before_retune)\n",
    "print(p_guess)\n",
    "np.nanpercentile(before_retune, p_guess*100)"
   ]
  },
  {
   "cell_type": "code",
   "execution_count": 31,
   "id": "6e440942-f066-4705-93bd-65888f313272",
   "metadata": {},
   "outputs": [
    {
     "data": {
      "text/plain": [
       "(array([ 291.,   97., 1027., 4404., 6117., 2730.,  783.,  224.,   68.,\n",
       "          10.]),\n",
       " array([0.00244141, 0.03616943, 0.06989746, 0.10362549, 0.13735352,\n",
       "        0.17108154, 0.20480957, 0.2385376 , 0.27226563, 0.30599365,\n",
       "        0.33972168]),\n",
       " <BarContainer object of 10 artists>)"
      ]
     },
     "execution_count": 31,
     "metadata": {},
     "output_type": "execute_result"
    },
    {
     "data": {
      "image/png": "[encoded data removed]",
      "text/plain": [
       "<Figure size 640x480 with 1 Axes>"
      ]
     },
     "metadata": {},
     "output_type": "display_data"
    }
   ],
   "source": [
    "plt.hist(before_retune)"
   ]
  },
  {
   "cell_type": "code",
   "execution_count": 33,
   "id": "83d86de2-13f5-444b-a353-29f77f948a1b",
   "metadata": {},
   "outputs": [],
   "source": [
    "np.save('before_retune_X510', before_retune)\n",
    "np.save('after_retune_X510', after_retune)"
   ]
  },
  {
   "cell_type": "code",
   "execution_count": 32,
   "id": "d84f2293-c63d-497c-9b3f-f178e67a5a25",
   "metadata": {},
   "outputs": [
    {
     "data": {
      "text/plain": [
       "0.14794921875"
      ]
     },
     "execution_count": 32,
     "metadata": {},
     "output_type": "execute_result"
    }
   ],
   "source": [
    "np.nanpercentile(before_retune, 50)"
   ]
  },
  {
   "cell_type": "code",
   "execution_count": 112,
   "id": "0e3248e9-8374-4365-a026-1db6238a1a08",
   "metadata": {},
   "outputs": [
    {
     "data": {
      "text/plain": [
       "0.1484512097570194"
      ]
     },
     "execution_count": 112,
     "metadata": {},
     "output_type": "execute_result"
    }
   ],
   "source": [
    "np.nanmean(before_retune)"
   ]
  },
  {
   "cell_type": "code",
   "execution_count": 125,
   "id": "993342b1-4a70-42e4-880f-26abfb03ec27",
   "metadata": {},
   "outputs": [],
   "source": [
    "both = np.array([np.nan])\n",
    "for i,r in enumerate([110,112,121,123,125,127]):\n",
    "    look = (runs==r)& (np.abs(posY-meanY[i])<=devY[i])& (np.abs(posX-meanX[i])<=devX[i])\n",
    "    both = np.hstack((both,gds[look]))\n"
   ]
  },
  {
   "cell_type": "code",
   "execution_count": 126,
   "id": "f0360636-bfff-4852-b37a-0462f01148e2",
   "metadata": {},
   "outputs": [
    {
     "data": {
      "text/plain": [
       "0.16259765625"
      ]
     },
     "execution_count": 126,
     "metadata": {},
     "output_type": "execute_result"
    }
   ],
   "source": [
    "np.nanpercentile(both, 50)"
   ]
  },
  {
   "cell_type": "code",
   "execution_count": 127,
   "id": "edaf6a91-865e-4a8b-b4d3-7ef1d7d6f8af",
   "metadata": {},
   "outputs": [
    {
     "data": {
      "text/plain": [
       "0.16896124405337387"
      ]
     },
     "execution_count": 127,
     "metadata": {},
     "output_type": "execute_result"
    }
   ],
   "source": [
    "np.nanmean(both)"
   ]
  },
  {
   "cell_type": "code",
   "execution_count": 74,
   "id": "a2a832e1-820e-4ccf-998f-0f2a383221b0",
   "metadata": {},
   "outputs": [
    {
     "name": "stdout",
     "output_type": "stream",
     "text": [
      "110\n",
      "112\n",
      "121\n",
      "123\n",
      "125\n",
      "127\n"
     ]
    }
   ],
   "source": [
    "for r in np.unique(runs): print(r)"
   ]
  },
  {
   "cell_type": "code",
   "execution_count": null,
   "id": "4c1c7ad7-a1e6-4241-91e2-97121b86c89c",
   "metadata": {},
   "outputs": [],
   "source": []
  }
 ],
 "metadata": {
  "kernelspec": {
   "display_name": "LCLS-II py3",
   "language": "python",
   "name": "ana2-current"
  },
  "language_info": {
   "codemirror_mode": {
    "name": "ipython",
    "version": 3
   },
   "file_extension": ".py",
   "mimetype": "text/x-python",
   "name": "python",
   "nbconvert_exporter": "python",
   "pygments_lexer": "ipython3",
   "version": "3.9.15"
  }
 },
 "nbformat": 4,
 "nbformat_minor": 5
}
