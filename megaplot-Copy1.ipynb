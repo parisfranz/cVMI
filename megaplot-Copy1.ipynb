{
 "cells": [
  {
   "cell_type": "code",
   "execution_count": 1,
   "id": "f1d2ba17-7925-48aa-aad3-70134d440a28",
   "metadata": {},
   "outputs": [],
   "source": [
    "%load_ext autoreload\n",
    "%autoreload 2"
   ]
  },
  {
   "cell_type": "code",
   "execution_count": 2,
   "id": "5bc96eff-0b52-478f-864c-9e27335b8f6a",
   "metadata": {},
   "outputs": [
    {
     "name": "stderr",
     "output_type": "stream",
     "text": [
      "/reg/neh/home/tdd14/modules/CPBASEX/pbasex-Python/pbasex/gData.py:55: SyntaxWarning: \"is not\" with a literal. Did you mean \"!=\"?\n",
      "  if gData['rBF'] is not 'custom':\n"
     ]
    },
    {
     "name": "stdout",
     "output_type": "stream",
     "text": [
      "Hi! I imported. \n"
     ]
    }
   ],
   "source": [
    "from __future__ import print_function\n",
    "import numpy as np\n",
    "from tqdm import tqdm\n",
    "import matplotlib.colors as colors\n",
    "import matplotlib.pyplot as plt\n",
    "from matplotlib.dates import DateFormatter\n",
    "from matplotlib import cm\n",
    "plt.rcParams.update({'font.size': 14, 'lines.markersize' : 4})\n",
    "\n",
    "from scipy.optimize import curve_fit\n",
    "import sys, os\n",
    "import time, datetime\n",
    "from datetime import timedelta\n",
    "import pandas as pd\n",
    "sys.path.append('/reg/d/psdm/tmo/tmox51020/results/paris/recon')\n",
    "from recon_funcs import *\n",
    "import h5py\n",
    "from scipy.interpolate import interp1d\n",
    "sys.path.append('/reg/neh/home/tdd14/modules/cart2pol/cart2pol')\n",
    "import cart2pol\n",
    "from cart2pol import PolarRebin\n",
    "import scipy.ndimage as scimg"
   ]
  },
  {
   "cell_type": "code",
   "execution_count": 3,
   "id": "25162698-b93b-495e-a88d-18b8919f1394",
   "metadata": {},
   "outputs": [],
   "source": [
    "from matplotlib import cm\n",
    "from matplotlib.colors import ListedColormap\n",
    "my_cmap = cm.get_cmap('jet')\n",
    "xr = np.linspace(0, 1, 2000)\n",
    "my_cmap = my_cmap(xr)\n",
    "my_cmap[0][-1] = 0\n",
    "my_cmap = ListedColormap(my_cmap)"
   ]
  },
  {
   "cell_type": "code",
   "execution_count": 124,
   "id": "faa05b68-6ad2-43db-8126-2be1c6935630",
   "metadata": {},
   "outputs": [],
   "source": [
    "def make_MM(x0):\n",
    "    xshift, yshift =  x0[8], x0[9] \n",
    "\n",
    "    # Coordinates that you want to Perspective Transform\n",
    "    pts1 = np.float32([[0,0],\\\n",
    "                       [0,1024],\\\n",
    "                       [1024,0],\\\n",
    "                       [1024, 1024]])\n",
    "\n",
    "\n",
    "    # Size of the Transformed Image\n",
    "    pts2 = np.float32([[0+xshift-x0[0],0 + yshift-x0[1]],\\\n",
    "                       [0+xshift-x0[2],1024 + yshift-x0[3]],\\\n",
    "                       [1024+xshift-x0[4],0 + yshift-x0[5]],\\\n",
    "                       [1024+xshift-x0[6],1024 + yshift-x0[7]]])\n",
    "\n",
    "    MM = cv2.getPerspectiveTransform(pts1,pts2)\n",
    "    return MM\n",
    "\n",
    "X,Y=np.meshgrid(np.arange(1024),np.arange(1024))\n",
    "rs=np.sqrt((X-512)**2+(Y-512)**2)\n",
    "maskhm=np.zeros((1024,1024))\n",
    "maskhm[(rs>120) & (rs<420)]=1\n",
    "nmask = np.reshape(rebin(rebin(maskhm,4),4),[64**2,])\n",
    "\n",
    "\n",
    "x,y, = 530,512\n",
    "X,Y=np.meshgrid(np.arange(1024),np.arange(1024))\n",
    "rs=np.sqrt((X-x)**2+(Y-y)**2)\n",
    "mask=np.zeros((1024,1024))\n",
    "mask[rs>1*48]=1\n",
    "\n",
    "nmask = np.reshape(rebin(rebin(maskhm,4),4),[64**2,]) #rebin later\n",
    "nnmask = (rebin(np.reshape(nmask, [64,64]))).flatten()\n",
    "nnmask = rebin(rebin(maskhm,4),4)\n",
    "#nnmask = (rebin(np.reshape(nmask, [64,64])*(inbg))).flatten()\n",
    "nnmask[nnmask<0.5] = 0\n",
    "nnmask[nnmask>=0.5] = 1\n",
    "\n",
    "maskscale = np.zeros((1024,1024))\n",
    "X,Y=np.meshgrid(np.arange(1024),np.arange(1024))\n",
    "rs=np.sqrt((X-512)**2+(Y-512)**2)\n",
    "maskscale [(rs>120) & (rs<270)]=1"
   ]
  },
  {
   "cell_type": "code",
   "execution_count": 5,
   "id": "f2490e87-a794-4138-8538-12f8df1a7143",
   "metadata": {},
   "outputs": [],
   "source": [
    "def make_quads(x0):\n",
    "    quads=np.ones((1024,1024))\n",
    "    quads[:512,:512]= x0[0]\n",
    "    quads[:512,512:]= x0[1]\n",
    "    quads[512:,:512]= x0[2]\n",
    "    quads[512:,512:]= x0[3]\n",
    "    return quads\n"
   ]
  },
  {
   "cell_type": "code",
   "execution_count": 6,
   "id": "dbef24f5-6245-40a3-b151-906ffdc76ff6",
   "metadata": {},
   "outputs": [],
   "source": [
    "MM = make_MM([-17.998,-2.74, 17.9, -17.39, 17.86, 8.52, -3.85, 17.9, 11.47, 47.86])"
   ]
  },
  {
   "cell_type": "code",
   "execution_count": 10,
   "id": "5d7efacc-d8ed-44a8-b4f3-231b9837e46f",
   "metadata": {},
   "outputs": [],
   "source": [
    "d1 = np.load('/cds/home/p/paris/cVMI/clean recon July/torch_Mar12_112_datdict_Aug31.npy', allow_pickle = True)[()]['datall']\n",
    "d2 = np.load('/cds/home/p/paris/cVMI/clean recon July/torch_Mar28_112_datdict_Aug31.npy', allow_pickle = True)[()]['datall']\n",
    "#d3 = np.load('torch_Aug17_131_datdict_Aug31.npy', allow_pickle = True)[()]['datall']\n",
    "d3 = np.load('/cds/home/p/paris/cVMI/clean recon July/torch_Sep1_131_datdict_Aug31.npy', allow_pickle = True)[()]['datall']\n",
    "d4 = np.load('/cds/home/p/paris/cVMI/clean recon July/torch_Mar23_125_datdict_Aug31.npy', allow_pickle = True)[()]['datall']\n",
    "d5 = np.load('/cds/home/p/paris/cVMI/clean recon July/torch_Aug31_127_datdict_Aug31.npy', allow_pickle = True)[()]['datall']\n",
    "d6 = np.load('/cds/home/p/paris/cVMI/clean recon July/torch_Mar14_121_datdict_Aug31.npy', allow_pickle = True)[()]['datall']\n",
    "idx = np.where(d6['ID'] == 21)[0]\n",
    "for i in range(len(idx)):\n",
    "    d6[idx[i]]['Up_conv'] = False\n",
    "d7 = np.load('/cds/home/p/paris/cVMI/clean recon July/torch_Sep4_131_datdict_Aug31.npy', allow_pickle = True)[()]['datall']"
   ]
  },
  {
   "cell_type": "code",
   "execution_count": 101,
   "id": "cde5fe5f-9ae1-4813-9acb-9647d11ba9f6",
   "metadata": {},
   "outputs": [
    {
     "data": {
      "text/plain": [
       "'/cds/home/p/paris/reconVMI_clean/recon X510 Dec/Ms_Mar12_112.npy'"
      ]
     },
     "execution_count": 101,
     "metadata": {},
     "output_type": "execute_result"
    }
   ],
   "source": [
    "np.load('/cds/home/p/paris/cVMI/clean recon July/torch_Mar12_112_datdict_Aug31.npy', allow_pickle = True)[()]['mdatname']"
   ]
  },
  {
   "cell_type": "code",
   "execution_count": 11,
   "id": "caef46c7-383c-46c3-8a0d-8de4210bcf40",
   "metadata": {},
   "outputs": [],
   "source": [
    "datall = np.concatenate([d1,d2,d3,d4,d5,d6,d7])"
   ]
  },
  {
   "cell_type": "code",
   "execution_count": 113,
   "id": "edb5a3bd-89d0-461d-a2a8-c378a34b603e",
   "metadata": {},
   "outputs": [],
   "source": [
    "mdatname = ['/cds/home/p/paris/reconVMI_clean/recon X510 Dec/Ms_Mar12_112.npy',\\\n",
    "            '/cds/home/p/paris/reconVMI_clean/recon X510 Dec/Ms_Mar23_125.npy',\\\n",
    "            '/cds/home/p/paris/reconVMI_clean/recon X510 Dec/Ms_Aug31_127.npy',\\\n",
    "            '/cds/home/p/paris/reconVMI_clean/recon X510 Dec/Ms_Aug21_131.npy']\n",
    "\n",
    "mdatname = np.array(mdatname)\n",
    "\n",
    "runmdat = [112,125,127,131]\n",
    "runmdat = np.array(runmdat)          \n",
    "            "
   ]
  },
  {
   "cell_type": "code",
   "execution_count": 103,
   "id": "892ec0c5-1e8b-4ec9-b678-5ef9c0f9d996",
   "metadata": {},
   "outputs": [],
   "source": [
    "tmstmps = np.array([4410467689813058340, 4410467513749662082, 4410467613009185416, 4410467066956109577,\\\n",
    "           4410497995441170790, 4410495757465619491, 4410497737457767587, 4410497742469699341,\\\n",
    "           4410507263569544070, 4410507332768750257, 4410507134894447000, 4410507217196004681], dtype = np.uint64)\n"
   ]
  },
  {
   "cell_type": "code",
   "execution_count": 104,
   "id": "5ccb68b5-acec-4618-9fa2-85124c49dc3a",
   "metadata": {},
   "outputs": [
    {
     "name": "stdout",
     "output_type": "stream",
     "text": [
      "[112 125 127 131]\n"
     ]
    }
   ],
   "source": [
    "runs = []\n",
    "IDs = []\n",
    "for i in range(len(tmstmps)):\n",
    "    runs.append(datall[datall['timestamp'] == tmstmps[i]]['run'][0])\n",
    "    IDs.append(datall[datall['timestamp'] == tmstmps[i]]['ID'][0])\n",
    "print(np.unique(runs))"
   ]
  },
  {
   "cell_type": "code",
   "execution_count": 122,
   "id": "ff8987e5-16cb-4c57-9088-022c818b563e",
   "metadata": {},
   "outputs": [
    {
     "data": {
      "text/plain": [
       "array(['/cds/home/p/paris/reconVMI_clean/recon X510 Dec/Ms_Mar12_112.npy'],\n",
       "      dtype='<U64')"
      ]
     },
     "execution_count": 122,
     "metadata": {},
     "output_type": "execute_result"
    }
   ],
   "source": [
    "mdatname[np.where(runmdat == runs[1])[0]]"
   ]
  },
  {
   "cell_type": "code",
   "execution_count": 125,
   "id": "0d72331d-34ab-45b7-a430-1e82cd69a62c",
   "metadata": {},
   "outputs": [
    {
     "name": "stdout",
     "output_type": "stream",
     "text": [
      "/cds/home/p/paris/reconVMI_clean/recon X510 Dec/Ms_Mar12_112.npy\n",
      "4410467689813058340\n",
      "/cds/home/p/paris/reconVMI_clean/recon X510 Dec/Ms_Mar12_112.npy\n",
      "4410467513749662082\n",
      "/cds/home/p/paris/reconVMI_clean/recon X510 Dec/Ms_Mar12_112.npy\n",
      "4410467613009185416\n",
      "/cds/home/p/paris/reconVMI_clean/recon X510 Dec/Ms_Mar12_112.npy\n",
      "4410467066956109577\n",
      "/cds/home/p/paris/reconVMI_clean/recon X510 Dec/Ms_Aug31_127.npy\n",
      "4410497995441170790\n",
      "/cds/home/p/paris/reconVMI_clean/recon X510 Dec/Ms_Mar23_125.npy\n",
      "4410495757465619491\n",
      "/cds/home/p/paris/reconVMI_clean/recon X510 Dec/Ms_Aug31_127.npy\n",
      "4410497737457767587\n",
      "/cds/home/p/paris/reconVMI_clean/recon X510 Dec/Ms_Aug31_127.npy\n",
      "4410497742469699341\n",
      "/cds/home/p/paris/reconVMI_clean/recon X510 Dec/Ms_Aug21_131.npy\n",
      "4410507263569544070\n",
      "/cds/home/p/paris/reconVMI_clean/recon X510 Dec/Ms_Aug21_131.npy\n",
      "4410507332768750257\n",
      "/cds/home/p/paris/reconVMI_clean/recon X510 Dec/Ms_Aug21_131.npy\n",
      "4410507134894447000\n",
      "/cds/home/p/paris/reconVMI_clean/recon X510 Dec/Ms_Aug21_131.npy\n",
      "4410507217196004681\n",
      "fanmask\n"
     ]
    }
   ],
   "source": [
    "cVMIs = []\n",
    "specs = []\n",
    "unproc = []\n",
    "raw = []\n",
    "gds = []\n",
    "timestamps = []\n",
    "\n",
    "for i in range(len(tmstmps)):\n",
    "    ds=ps.DataSource(exp = 'tmox51020', run= int(runs[i]), timestamps= np.array([tmstmps[i]],dtype = np.uint64))\n",
    "    #ds=ps.DataSource(exp = 'tmox51020', run= runnum, filter = lambda evt:evt.timestamp in tt)\n",
    "\n",
    "    run = next(ds.runs())\n",
    "    opal1 = run.Detector('tmo_opal1') # OPAL camera looking at the holey mirror\n",
    "    gmd = run.Detector(\"gmd\") # gas intensity detector \n",
    "    timing = run.Detector('timing') # this gives access to evr codes\n",
    "    ebeam = run.Detector(\"ebeam\")\n",
    "    opalfzp = run.Detector('tmo_fzpopal') \n",
    "\n",
    "\n",
    "\n",
    "    if hasattr(run, 'epicsinfo'):\n",
    "        epics_strs = [item[0] for item in run.epicsinfo.keys()][1:] # first one is weird\n",
    "        epics_detectors = [run.Detector(item) for item in epics_strs]    \n",
    "\n",
    "    for nevent, event in enumerate(run.events()):\n",
    "        # fetch the information from the different events\n",
    "        im_look=np.copy(opal1.raw.raw(event))  #opal1im_i=np.copy(opal1.raw.image(event)) #doesn't work since update\n",
    "        im1=im_look\n",
    "        ims = np.rot90(im1*mask)\n",
    "        #ims = cv2.warpPerspective(ims,MM,(1024,1024))\n",
    "        gasoff = 0 #gasoff0#/np.mean(gasoff0)*np.mean(ims)\n",
    "        ims = cv2.warpPerspective(ims-gasoff,MM,(1024,1024))\n",
    "        raw.append(ims)\n",
    "        ims[ims<0] = 0\n",
    "        ims2 = np.copy(ims)\n",
    "        # ims2 = mf(ims2, mfn)\n",
    "        # ims2 = gf(ims2, gfn)\n",
    "        ims2= rebin(rebin(ims2,4),4)\n",
    "        unproc.append(ims2)\n",
    "        mname = mdatname[np.where(runmdat == runs[i])[0]][0]\n",
    "        print(mname)\n",
    "        cVMIs.append(np.load(mname)[()][IDs[i]])\n",
    "\n",
    "        '''\n",
    "        fig,axs = plt.subplots(nrows = 1, ncols = 2, figsize = (8,4))\n",
    "        axs[0].pcolormesh(ims2, cmap = my_cmap)\n",
    "        axs[0].plot((512+332*np.cos(phi_rad))/16, (512+332*np.sin(phi_rad))/16, 'r--', alpha = 0.5)\n",
    "        axs[1].pcolormesh(testim, cmap = my_cmap)\n",
    "        axs[1].plot((512+332*np.cos(phi_rad))/16, (512+332*np.sin(phi_rad))/16, 'r--', alpha = 0.5)\n",
    "        plt.show()\n",
    "        '''\n",
    "\n",
    "        opalfz= np.copy(opalfzp.raw.image(event)) #np.copy(opal1.raw.image(event)) #np.copy(opal1.raw.raw(event))\n",
    "        zps_data = opalfz\n",
    "        zps_pixel = 100+np.argmax(np.sum(zps_data[100:900],axis=1))\n",
    "        px_2d_width = 25 #spacing to cut the 2d image slice to store. Typically 50 pixel width. 25 on either side\n",
    "        px_edge_width = 5 #spacing to integrate for the line out. \n",
    "\n",
    "        zps_2d = zps_data[zps_pixel-px_2d_width:zps_pixel+px_2d_width][:]\n",
    "        zps = zps_data[zps_pixel-px_edge_width:zps_pixel+px_edge_width][:].mean(0)#\n",
    "        zps_bg = zps_data[zps_pixel-px_2d_width:zps_pixel-px_2d_width+px_edge_width][:].mean(0)#\n",
    "        zps = zps-zps_bg\n",
    "        spec = np.squeeze(fastsmooth1(zps,10))\n",
    "        spec = np.array(np.squeeze(spec) - np.mean(np.squeeze(spec)[800:900])) \n",
    "        specs.append(spec)\n",
    "        gd_i=gmd.raw.energy(event)\n",
    "        gds.append(gd_i)\n",
    "        print(event.timestamp) \n",
    "        timestamps.append(event.timestamp)\n",
    "\n",
    "print('fanmask')"
   ]
  },
  {
   "cell_type": "code",
   "execution_count": 109,
   "id": "3147037b-5ffe-419e-b6f7-0c98a6c77773",
   "metadata": {},
   "outputs": [],
   "source": [
    "#basesdir = '/reg/d/psdm/tmo/tmox51020/results/paris/circularpol_vNbases_dipole_K5/'\n",
    "basesdir = '/reg/d/psdm/tmo/tmox51020/results/paris/circularpol_vNbases_dipole_Feb/'\n",
    "PR = PolarRebin('/reg/d/psdm/tmo/tmox51020/results/paris/recon/PR_c32_r32_th32.h5') \n"
   ]
  },
  {
   "cell_type": "code",
   "execution_count": 60,
   "id": "14f85218-9a58-42f1-ae1a-80bee4401fc0",
   "metadata": {},
   "outputs": [
    {
     "data": {
      "text/plain": [
       "array([0. , 0.1, 0.2, 0.3, 0.4, 0.5, 0.6, 0.7, 0.8, 0.9, 1. , 1.1, 1.2])"
      ]
     },
     "execution_count": 60,
     "metadata": {},
     "output_type": "execute_result"
    }
   ],
   "source": [
    "Ups = np.unique(datall['Up'])\n",
    "Ups"
   ]
  },
  {
   "cell_type": "code",
   "execution_count": 64,
   "id": "1e8ced03-901a-4fc9-b1b1-3cd0b02f10a9",
   "metadata": {},
   "outputs": [],
   "source": [
    "gfsig = 0.985\n",
    "gfcart = 0.25"
   ]
  },
  {
   "cell_type": "code",
   "execution_count": 65,
   "id": "42944ced-d5b1-4eb9-891b-d49b0be86b1e",
   "metadata": {},
   "outputs": [
    {
     "name": "stdout",
     "output_type": "stream",
     "text": [
      "Bpbasis_Np128_Nw6_Nt6_Up0.npy\n"
     ]
    },
    {
     "name": "stderr",
     "output_type": "stream",
     "text": [
      "/tmp/ipykernel_14586/16415107.py:44: DeprecationWarning: Please use `gaussian_filter` from the `scipy.ndimage` namespace, the `scipy.ndimage.filters` namespace is deprecated.\n",
      "  bb[1:64,1:64]= PR.pol2cart(scimg.filters.gaussian_filter(polimg,[gfsig,0]))\n",
      "/tmp/ipykernel_14586/16415107.py:51: DeprecationWarning: Please use `gaussian_filter` from the `scipy.ndimage` namespace, the `scipy.ndimage.filters` namespace is deprecated.\n",
      "  bb[1:64,1:64]= PR.pol2cart(scimg.filters.gaussian_filter(polimg,[gfsig,0]))\n"
     ]
    },
    {
     "name": "stdout",
     "output_type": "stream",
     "text": [
      "Bpbasis_Np128_Nw6_Nt6_Up0.1.npy\n",
      "Bpbasis_Np128_Nw6_Nt6_Up0.2.npy\n",
      "Bpbasis_Np128_Nw6_Nt6_Up0.3.npy\n",
      "Bpbasis_Np128_Nw6_Nt6_Up0.4.npy\n",
      "Bpbasis_Np128_Nw6_Nt6_Up0.5.npy\n",
      "Bpbasis_Np128_Nw6_Nt6_Up0.6.npy\n",
      "Bpbasis_Np128_Nw6_Nt6_Up0.7.npy\n",
      "Bpbasis_Np128_Nw6_Nt6_Up0.8.npy\n",
      "Bpbasis_Np128_Nw6_Nt6_Up0.9.npy\n",
      "Bpbasis_Np128_Nw6_Nt6_Up1.0.npy\n",
      "Bpbasis_Np128_Nw6_Nt6_Up1.1.npy\n",
      "Bpbasis_Np128_Nw6_Nt6_Up1.2.npy\n"
     ]
    }
   ],
   "source": [
    "Bps = []\n",
    "alphas = []\n",
    "vNaxiss = []\n",
    "alphaws = []\n",
    "N_w = 6\n",
    "N_t = 6\n",
    "Nb = N_w*N_t\n",
    "for i in range(len(Ups)):\n",
    "    Np = 128\n",
    "    Up = Ups[i]  \n",
    "    if Up == 0: Up = int(0)\n",
    "    filename = 'Bpbasis_Np' + str(Np) + '_Nw' + str(N_w) +'_Nt' + str(N_t) + '_Up' + str(Up)+'.npy'\n",
    "    print(filename)\n",
    "    br = np.load(basesdir+filename, allow_pickle=True)\n",
    "    Breal = br[()]['Breal']\n",
    "    Bimag = br[()]['Bimag']\n",
    "    breal = br[()]['breal']\n",
    "    bimag = br[()]['bimag']\n",
    "    vNaxis = br[()]['vNaxis']\n",
    "    alpha = br[()]['alpha']\n",
    "\n",
    "    \n",
    "    tempr = np.zeros((Breal.shape[0], 64**2))\n",
    "    tempi = np.zeros((Breal.shape[0], 64**2))\n",
    "    for i in range(len(Breal)):\n",
    "        tempr[i,:] = np.reshape(rebin(np.reshape(Breal[i,:], [128,128])), [64**2])\n",
    "        tempi[i,:] = np.reshape(rebin(np.reshape(Bimag[i,:], [128,128])), [64**2])\n",
    "\n",
    "    Breal = tempr\n",
    "    Bimag = tempi\n",
    "\n",
    "    alphw = np.zeros(alpha['t_sample'].shape, dtype = complex)\n",
    "    for i in range(len(alphw)):\n",
    "        f = interp1d(vNaxis['t_sample'], alpha['t_sample'][i], fill_value = 0, bounds_error = False)\n",
    "        N = 2801 #1024\n",
    "        ts = np.linspace(vNaxis['t_sample'][0],-vNaxis['t_sample'][0], N)\n",
    "        alphw[i] = np.fft.ifftshift(np.fft.ifft(f(ts)))\n",
    "\n",
    "    Np = 64\n",
    "    for j in range(Breal.shape[0]):\n",
    "        temp=np.reshape(Breal[j,:],[Np,Np])\n",
    "        polimg = PR.cart2pol(temp,32,32)\n",
    "        bb = np.zeros((64,64))\n",
    "        bb[1:64,1:64]= PR.pol2cart(scimg.filters.gaussian_filter(polimg,[gfsig,0]))\n",
    "        Breal[j,:]=np.reshape(bb,newshape=(1,Np**2))\n",
    "        #temp=scimg.filters.gaussian_filter(temp,0.8889)\n",
    "        #Bpr[j,:]=Variable(Tensor(np.reshape(temp,newshape=(1,Np**2))))\n",
    "        temp=np.reshape(Bimag[j,:],[Np,Np])\n",
    "        polimg = PR.cart2pol(temp,32,32)\n",
    "        bb = np.zeros((64,64))\n",
    "        bb[1:64,1:64]= PR.pol2cart(scimg.filters.gaussian_filter(polimg,[gfsig,0]))\n",
    "        Bimag[j,:]=np.reshape(bb,newshape=(1,Np**2))\n",
    "        #temp=scimg.filters.gaussian_filter(temp,0.8889)\n",
    "        #Bpi[j,:]=Variable(Tensor(np.reshape(temp,newshape=(1,Np**2))))\n",
    "\n",
    "    Bp_basis = Breal+1j*Bimag\n",
    "\n",
    "    Bps.append(Bp_basis)\n",
    "    alphas.append(alpha)\n",
    "    vNaxiss.append(vNaxis)\n",
    "    alphaws.append(alphw)"
   ]
  },
  {
   "cell_type": "code",
   "execution_count": 66,
   "id": "24bf6bd7-3236-4d62-bf99-00d7b3837aa9",
   "metadata": {},
   "outputs": [],
   "source": [
    "Upsall = np.unique(datall['Up'])"
   ]
  },
  {
   "cell_type": "code",
   "execution_count": 83,
   "id": "ffbeb989-b267-4b0d-ab21-a58cb3a68ed0",
   "metadata": {},
   "outputs": [
    {
     "data": {
      "text/plain": [
       "array([-0.00785111, -0.01333102, -0.14342839, -0.06030688, -0.04111674,\n",
       "        0.00562123, -0.05444751,  0.07517559,  0.19257736,  0.1143897 ,\n",
       "        0.04698974,  0.01138719,  0.01640349, -0.03264576, -0.20682508,\n",
       "       -0.03852275,  0.00983782, -0.00302694,  0.01897938, -0.02073578,\n",
       "       -0.10456102, -0.10100742, -0.13849109, -0.03331345, -0.0341914 ,\n",
       "       -0.13436803, -0.44307485,  0.34291297,  0.09442058,  0.11399801,\n",
       "        0.02938381,  0.16027597,  0.93217534, -1.41604316,  0.77747959,\n",
       "        0.05716928, -0.20125039,  0.43296474,  0.09466881,  0.0233933 ,\n",
       "       -0.00426749,  0.03050333,  0.07361532,  0.2673344 , -0.04194149,\n",
       "       -0.05872196, -0.03542174, -0.06376824, -0.04708365,  0.07123001,\n",
       "       -0.07929292,  0.01089579,  0.03252152,  0.03712244,  0.04820964,\n",
       "        0.58884788,  0.19370945, -0.03454194, -0.0194605 , -0.01649959,\n",
       "       -0.05700758, -0.08788348, -0.4460659 ,  0.35505465,  0.12763077,\n",
       "       -0.01378936, -0.0886662 , -0.43486652,  2.03775525,  0.06445114,\n",
       "       -0.2622236 ])"
      ]
     },
     "execution_count": 83,
     "metadata": {},
     "output_type": "execute_result"
    }
   ],
   "source": [
    "dat[(dat['Up'] == uplook)]['Qs'][0]"
   ]
  },
  {
   "cell_type": "code",
   "execution_count": null,
   "id": "84ba3d61-85e2-4153-bea2-0256d04da498",
   "metadata": {},
   "outputs": [],
   "source": [
    "fwhms = []\n",
    "std_t = []\n",
    "ups_b = []\n",
    "fwhms_avg = []\n",
    "fwhms_maxs = []\n",
    "fwhms2_maxs = []\n",
    "\n",
    "eshift = 1\n",
    "thresh = 0.0006\n",
    "wr = 1200 #1340\n",
    "phis = np.arange(0,360)*np.pi/180\n",
    "\n",
    "\n",
    "X,Y=np.meshgrid(np.arange(1024),np.arange(1024))\n",
    "rs=np.sqrt((X-512)**2+(Y-512)**2)\n",
    "maskhm=np.zeros((1024,1024))\n",
    "maskhm[(rs>325-20) & (rs<420)]=1\n",
    "mask1 = rebin(rebin(maskhm,4),4)\n",
    "\n",
    "\n",
    "X,Y=np.meshgrid(np.arange(1024),np.arange(1024))\n",
    "rs=np.sqrt((X-512)**2+(Y-512)**2)\n",
    "maskhm=np.zeros((1024,1024))\n",
    "maskhm[(rs>325-30) & (rs<420)]=1\n",
    "mask2 = rebin(rebin(maskhm,4),4)\n",
    "\n",
    "for ii in range(len(tmstmps)):\n",
    "    fig,axs = plt.subplots(ncols =7, figsize = (40,5))\n",
    "    \n",
    "    dat = datall[datall['timestamp'] == tmstmps[ii]]\n",
    "    if dat['run'][0] == 112: \n",
    "        mask = mask2\n",
    "        r = 18.1\n",
    "    else: \n",
    "        mask = mask1\n",
    "        r = 18.7\n",
    "\n",
    "    axs[0].pcolormesh(raw[ii],cmap = my_cmap, vmin = 40)\n",
    "    axs[0].plot(32*16+ 20*r*np.cos(phis), 32*16+ 20*r*np.sin(phis), 'k-', alpha = 0.5)\n",
    "    \n",
    "    axs[1].pcolormesh(unproc[ii],cmap = my_cmap, vmin = 40)\n",
    "    axs[1].plot(32+r*np.cos(phis), 32+ r*np.sin(phis), 'k-', alpha = 0.5)\n",
    "    \n",
    "    \n",
    "    \n",
    "    cost_avg = []\n",
    "    us = []\n",
    "    for i,u in enumerate(np.unique(dat['Up'])):\n",
    "        cost_avg.append(np.mean(dat[(dat['Up'] == u)]['costs'][:,-1]))\n",
    "        us.append(u)\n",
    "\n",
    "    uplook = us[np.argmin(cost_avg)]\n",
    "    u = int(np.where(np.array(Upsall) == uplook)[0])\n",
    "    seed_order = np.argsort(dat[(dat['Up'] == uplook)]['costs'][:,-1])\n",
    "    seeds = np.unique(dat[(dat['Up'] == uplook)]['seed'])\n",
    "    \n",
    "    duration = []\n",
    "    ets = []\n",
    "\n",
    "    for ss in range(len(seeds)):   \n",
    "\n",
    "        x = dat[(dat['seed'] == seeds[seed_order[ss]])]['Up']\n",
    "        y= dat[(dat['seed'] == seeds[seed_order[ss]])]['costs'][:,-1]\n",
    "        #y= dat[(dat['ID'] == IDs[k])]['costM'][:,-1]\n",
    "        axs[4].plot(x[np.argsort(x)], y[np.argsort(x)], '-o', label = 'seed %1.0f' %seeds[seed_order[ss]])\n",
    "\n",
    "        if ss == len(seeds)-1:\n",
    "            axs[4].set_title('Up')\n",
    "            axs[4].legend(fontsize = 8)\n",
    "\n",
    "\n",
    "    Bp = Bps[u]\n",
    "    vNaxis = vNaxiss[u]\n",
    "    alpha = alphas[u]\n",
    "    alphw = alphaws[u]\n",
    "    ts= vNaxis['t_sample']\n",
    "\n",
    "    t1 = np.argmin((vNaxis['t_sample'] -vNaxis['t'][0])**2) \n",
    "    t2 = np.argmin((vNaxis['t_sample'] -vNaxis['t'][-1])**2)\n",
    "\n",
    "\n",
    "    m = cVMIs[ii]\n",
    "    spec = dat[0]['spec']\n",
    "    m = m/np.sum(m)\n",
    "    N = 2801\n",
    "    xf = np.arange(-N/2-1/2,N/2-1/2,1)/np.abs(vNaxis['t_sample'][0])/2\n",
    "    # xf = np.arange(-N/2+1/2,N/2+1/2,1)/((vNaxis['t_sample'][-1] - vNaxis['t_sample'][0])) #using tsample range\n",
    "    eV = 1239.84*(2*np.pi*xf)/2.9979E8/(2*np.pi)*1e-9 \n",
    "    #Interpolate spec outside of the loop to match eV\n",
    "    xeV = pix_2_eV(np.arange(1024), pixpereV = 22, spectra_hw0 = 0, spectra_pix0 = 512)\n",
    "    xeV = xeV - eshift#3 #know this from previous calibration\n",
    "\n",
    "    for s in range(len(seeds)):\n",
    "\n",
    "        if len(seeds)>1:\n",
    "            Q = np.squeeze(dat[(dat['Up'] == uplook)]['Qs'][seeds[seed_order[s]],:])\n",
    "        else:\n",
    "            Q = np.squeeze(dat[(dat['Up'] == uplook)]['Qs'])\n",
    "        N_basis = 36\n",
    "        eVshift_idx = 0\n",
    "        Q1=Q[0:N_basis]\n",
    "        Q1=np.reshape(Q1,[1,N_basis])\n",
    "        Q2=np.concatenate(([0],Q[N_basis:2*N_basis-1]))\n",
    "        Q2=np.reshape(Q2,[1,N_basis])\n",
    "        Qguess=Q1+1j*Q2\n",
    "        Qguess=np.reshape(Qguess,[N_basis,1])\n",
    "        Mgr=np.real(np.matmul(np.matmul(Qguess,Qguess.conj().transpose()).transpose().flatten(),Bp))\n",
    "        Mgr=Mgr/np.sum(Mgr)\n",
    "        Mgr[Mgr<thresh] = 0\n",
    "        Mgr=Mgr/np.sum(Mgr)\n",
    "\n",
    "        alpha_t = alpha['t_sample']/np.max(np.abs(alpha['t_sample'])) ##take out carrier\n",
    "        #alpha_t = alpha['t']/np.max(np.abs(alpha['t'])) #alpha_t = alpha_t*np.exp(-1.j*(energy_x)/hbar*np.tile(vNaxis['t'],(N_basis,1)))\n",
    "        Et = np.squeeze(np.matmul(Qguess.T,alpha_t))\n",
    "\n",
    "        f = interp1d(vNaxis['t_sample'],Et, fill_value = 0, bounds_error = False)\n",
    "        Et_l = f(np.linspace(vNaxis['t_sample'][0],-vNaxis['t_sample'][0], len(vNaxis['t_sample'])))\n",
    "        aghh = np.argmax(np.abs(Et_l))\n",
    "        Ew = np.fft.ifftshift(np.fft.ifft(np.roll(Et_l,-aghh))) #need this to get imag part, must be evenly spaced\n",
    "        #Ew = np.squeeze(np.matmul(Qguess.T,alphw))\n",
    "        EwEw = np.real(Ew*Ew.conj())\n",
    "        EwEw = EwEw[wr-eVshift_idx:-wr-eVshift_idx]\n",
    "        EwEw = EwEw/np.max(EwEw)\n",
    "        wphase = np.unwrap(np.angle(Ew))\n",
    "        wphase = wphase - np.mean(wphase)\n",
    "        Ew = np.squeeze(np.matmul(Qguess.T,alphw)) \n",
    "        EwEw = np.real(Ew*Ew.conj())\n",
    "        EwEw = EwEw[wr-eVshift_idx:-wr-eVshift_idx]\n",
    "        EwEw = EwEw/np.max(EwEw)\n",
    "\n",
    "\n",
    "    #             aghh = np.argmax(np.abs(Et))\n",
    "    #             Ew = np.fft.ifftshift(np.fft.ifft(np.roll(Et,-aghh))) #need this to get imag part\n",
    "    #             #Ew = np.squeeze(np.matmul(Qguess.T,alphw))\n",
    "    #             EwEw = np.real(Ew*Ew.conj())\n",
    "    #             EwEw = EwEw[1340-eVshift_idx:-1340-eVshift_idx]\n",
    "    #             EwEw = EwEw/np.max(EwEw)\n",
    "    #             wphase = np.unwrap(np.angle(Ew))\n",
    "    #             wphase = wphase - np.mean(wphase)\n",
    "\n",
    "        phis = np.linspace(0,359,100)*np.pi/180\n",
    "        if s == 0:\n",
    "\n",
    "            pscale = 1/np.max(m/np.sum(m*mask))\n",
    "            Mt = m/np.sum(m*mask)*pscale\n",
    "            Mp = pscale*np.reshape(Mgr/np.sum(mask*np.reshape(Mgr, [64,64])), [64,64])\n",
    "            #Mp = Mp/np.max(Mp)\n",
    "            #tosave[str(k) + '_Q'] = Q\n",
    "            #tosave[str(k) + '_Up'] = uplook\n",
    "            p =axs[2].pcolormesh(Mt, cmap = my_cmap,vmax = np.max([np.max(Mp),1]))\n",
    "            axs[2].plot(32+r*np.cos(phis), 32+ r*np.sin(phis), 'k-', alpha = 0.5)\n",
    "            #axs[2].plot(32+ 18.5*np.cos(phis), 32+ 18.5*np.sin(phis), 'k--', alpha = 0.5)\n",
    "            #plt.colorbar(p, ax = axs[1])\n",
    "            #axs[1].set_title(str(idn)+', '+str(uplook)+', GMD = %1.0f uJ' %(1000*gds[idn]))\n",
    "            ups_b.append(uplook)\n",
    "\n",
    "            p =axs[3].pcolormesh(Mp, cmap = my_cmap,vmax = np.max([np.max(Mp),1]))#, vmin = np.min(m), vmax = np.max(m))\n",
    "            #plt.colorbar(p, ax = axs[2])\n",
    "            phis = np.linspace(0,359,100)*np.pi/180\n",
    "            axs[3].plot(32+r*np.cos(phis), 32+ r*np.sin(phis), 'k-', alpha = 0.5)\n",
    "        ###axs[3].plot(32+ 20*np.cos(phis), 32+ 20*np.sin(phis), 'k-', alpha = 0.5)\n",
    "            #axs[3].plot(32+ 18.5*np.cos(phis), 32+ 18.5*np.sin(phis), 'k--', alpha = 0.5)\n",
    "\n",
    "            # p = axs[3].pcolormesh((Mt-Mp)*mask, cmap = 'bwr')\n",
    "            # axs[3].set_title('%1.4f' %np.sum(np.abs(Mt-Mp)*mask))\n",
    "            # #p = axs[2].pcolormesh(m-np.reshape(Mgr, [64,64]), cmap = 'bwr')\n",
    "            # axs[3].plot(32+ 20*np.cos(phis), 32+ 20*np.sin(phis), 'k-', alpha = 0.5)\n",
    "            # axs[3].plot(32+ 18.5*np.cos(phis), 32+ 18.5*np.sin(phis), 'k--', alpha = 0.5)\n",
    "            # plt.colorbar(p, ax = axs[3])\n",
    "\n",
    "            f = interp1d(xeV,spec, bounds_error=False, fill_value = 0)\n",
    "            spec_in = f(eV[wr:-wr])\n",
    "            ############# spec cal\n",
    "            xxx1 = np.arange(len(spec_in))\n",
    "            f = interp1d(xxx1, spec_in, fill_value = 0, bounds_error = False)\n",
    "            xs = np.linspace((xxx1[0] -np.argmax(spec_in)), (xxx1[-1]-np.argmax(spec_in)), len(xxx1))+np.argmax(spec_in)\n",
    "            spec_in = f(xs)\n",
    "            #########\n",
    "\n",
    "            spec_in=spec_in/np.max(spec_in)\n",
    "            # ax1 = axs[6].twinx()\n",
    "            # ax1.plot(eV[wr:-wr], spec_in, color= 'tab:green', alpha = 0.5)\n",
    "            ax = axs[6].twinx()\n",
    "            ax.plot(eV[wr:-wr], spec_in, color= 'tab:green', alpha = 0.5)\n",
    "\n",
    "\n",
    "\n",
    "        #axs[l][4].set_title('t')\n",
    "        axs[6].plot(np.linspace(eV[wr],eV[-wr], len(EwEw)), np.squeeze(EwEw))\n",
    "        #ax.set_ylim(axs[5].get_ylim())\n",
    "        EtEt = np.abs(Et*Et.conj())\n",
    "        EtEt = EtEt/np.max(EtEt)\n",
    "        axs[5].plot(ts[t1:t2]*1e15, EtEt[t1:t2],label = 'seed %1.0f' %seeds[seed_order[s]])\n",
    "        #axs[5].grid()\n",
    "        #axs[l][4].set_xlim(-4e-15,4e-15)\n",
    "\n",
    "        roll_to = np.argmax(EtEt[t1:t2])\n",
    "        # a,mu,sig = gaus_fit(ts*1e15,np.roll(EtEt, int(len(EtEt)/2)-roll_to))\n",
    "        # duration.append(2.355*sig)\n",
    "\n",
    "        #duration.append(FWHM(ts[t1:t2]*1e15,np.roll(EtEt[t1:t2], int(len(EtEt[t1:t2])/2)-roll_to)))\n",
    "        ets.append(EtEt)\n",
    "\n",
    "\n",
    "\n",
    "        # axs[6].plot(eV[wr-eVshift_idx:-wr-eVshift_idx], wphase[wr-eVshift_idx:-wr-eVshift_idx])\n",
    "        # mid = int(len(eV[wr-eVshift_idx:-wr-eVshift_idx])/4)\n",
    "        # if s == 0: ymin,ymax = np.min(wphase[wr-eVshift_idx:-wr-eVshift_idx][mid:-mid]),np.max(wphase[wr-eVshift_idx:-wr-eVshift_idx][mid:-mid])\n",
    "        # if s>0: \n",
    "        #     if np.min(wphase[wr-eVshift_idx:-wr-eVshift_idx][mid:-mid]) < ymin: ymin = np.min(wphase[wr-eVshift_idx:-wr-eVshift_idx][mid:-mid])\n",
    "        #     if np.max(wphase[wr-eVshift_idx:-wr-eVshift_idx][mid:-mid]) > ymax: ymax = np.max(wphase[wr-eVshift_idx:-wr-eVshift_idx][mid:-mid])\n",
    "        # axs[6].set_ylim(ymin,ymax)\n",
    "        if s == len(seeds)-1: axs[4].legend(fontsize = 8)\n",
    "    #axs[4].set_title('t FWHM = %1.3f fs' %np.mean(duration)) \n",
    "    axs[6].set_xlim(-16,12)\n",
    "    EtEtm = np.mean(ets,axis = 0)\n",
    "    EtEtmax = np.max(ets,axis = 0)\n",
    "    #fwhms2_maxs.append(FWHM2(ts[t1:t2]*1e15,np.roll(EtEtmax[t1:t2], int(len(EtEtmax[t1:t2])/2)--np.argmax(EtEtmax[t1:t2]))))\n",
    "    #fwhms.append(np.mean(duration))\n",
    "    #fwhms_avg.append(FWHM(ts*1e15, np.roll(EtEtm[t1:t2], int(len(EtEtm[t1:t2])/2)-np.argmax(EtEtm[t1:t2]))))\n",
    "    #fwhms_maxs.append(FWHM(ts*1e15, np.roll(EtEtmax[t1:t2], int(len(EtEtm[t1:t2])/2)-np.argmax(EtEtm[t1:t2]))))\n",
    "    #std_t.append(np.sum(np.std(np.array(ets),axis = 0)))\n",
    "\n",
    "    #axs[1].set_title(str(idn)+', '+str(uplook)+', GMD = %1.0f uJ' %(1000*gds[idn]))\n",
    "    axs[5].set_title('w')\n",
    "    axs[6].set_title('w phase')\n",
    "\n",
    "    axs[0].set_title('Raw? cVMI')\n",
    "    axs[1].set_title('cVMI image')\n",
    "    axs[2].set_title('Background Subtracted \\nand Thresholded')\n",
    "    axs[3].set_title('Reconstructed cVMI')\n",
    "    axs[4].set_title('Up scan')\n",
    "    axs[5].set_title('Temporal Reconstruction')\n",
    "    axs[6].set_title('Spectral Reconstruction')\n",
    "    #plt.suptitle('put the mask hole somewhere- superimpose it')\n",
    "    # axs[1].pcolormesh(maskp, cmap = mask_cmap)\n",
    "    # axs[2].pcolormesh(maskp, cmap = mask_cmap)\n",
    "    # axs[3].pcolormesh(maskp, cmap = mask_cmap)\n",
    "    axs[4].set_yticks([])\n",
    "    axs[4].set_ylabel('Fit Cost Arb.')\n",
    "    axs[5].set_xlabel('t [fs]')\n",
    "    axs[6].set_xlabel(r'$\\Delta\\omega$ [eV]')\n",
    "    #axs[5].grid()\n",
    "    plt.show()\n",
    "#print(eshift)"
   ]
  },
  {
   "cell_type": "code",
   "execution_count": 111,
   "id": "b9f4d3a1-dfd2-4b10-aafe-1361ea3905b2",
   "metadata": {},
   "outputs": [],
   "source": [
    "m = np.load('/cds/home/p/paris/reconVMI_clean/recon X510 Dec/Ms_Mar12_112.npy')[()]"
   ]
  },
  {
   "cell_type": "code",
   "execution_count": 88,
   "id": "439262f3-c228-4c88-98b6-0df8f5a085c2",
   "metadata": {},
   "outputs": [
    {
     "data": {
      "text/plain": [
       "[194, 171, 184, 114, 58, 13, 18, 24, 120, 140, 40, 88]"
      ]
     },
     "execution_count": 88,
     "metadata": {},
     "output_type": "execute_result"
    }
   ],
   "source": [
    "IDs"
   ]
  },
  {
   "cell_type": "code",
   "execution_count": null,
   "id": "474cb863-56cd-439a-b1ac-630d343afb2e",
   "metadata": {},
   "outputs": [],
   "source": [
    "mask_cmap = cm.get_cmap('binary_r')\n",
    "xr = np.linspace(0, 1, 2000)\n",
    "mask_cmap = mask_cmap(xr)\n",
    "mask_cmap[-1000:][:,-1] = 0\n",
    "mask_cmap[:1000][:,-1] = 0.7\n",
    "mask_cmap = ListedColormap(mask_cmap)"
   ]
  },
  {
   "cell_type": "code",
   "execution_count": 251,
   "id": "1ad9cf9f-156c-4443-835f-6d116b35aaaa",
   "metadata": {},
   "outputs": [
    {
     "data": {
      "text/plain": [
       "(1024, 1024)"
      ]
     },
     "execution_count": 251,
     "metadata": {},
     "output_type": "execute_result"
    }
   ],
   "source": []
  },
  {
   "cell_type": "code",
   "execution_count": 89,
   "id": "5c477f1e-9962-456f-af98-6c7ba3724b21",
   "metadata": {},
   "outputs": [],
   "source": [
    "maskp = np.copy(mask)\n",
    "X,Y=np.meshgrid(np.arange(64),np.arange(64))\n",
    "rs=np.sqrt((X-32)**2+(Y-32)**2)\n",
    "maskp[(rs>25)]=1"
   ]
  },
  {
   "cell_type": "code",
   "execution_count": 99,
   "id": "26044fc8-e36f-4901-acf6-01ebdd6801f4",
   "metadata": {},
   "outputs": [
    {
     "data": {
      "text/plain": [
       "<matplotlib.colorbar.Colorbar at 0x7fe92938f3d0>"
      ]
     },
     "execution_count": 99,
     "metadata": {},
     "output_type": "execute_result"
    },
    {
     "data": {
      "image/png": "[encoded data removed]",
      "text/plain": [
       "<Figure size 640x480 with 2 Axes>"
      ]
     },
     "metadata": {},
     "output_type": "display_data"
    }
   ],
   "source": [
    "plt.pcolormesh(cVMIs[-1],cmap = my_cmap, vmin = 40)\n",
    "plt.pcolormesh(maskp, cmap = mask_cmap)\n",
    "plt.plot(32+18.7*np.cos(phis), 32+ 18.7*np.sin(phis), 'k-', alpha = 0.5) #18.1\n",
    "plt.colorbar()"
   ]
  },
  {
   "cell_type": "code",
   "execution_count": 169,
   "id": "1af51d30-b440-4d52-aff4-b769502bf94f",
   "metadata": {},
   "outputs": [
    {
     "data": {
      "text/plain": [
       "0.2008056640625"
      ]
     },
     "execution_count": 169,
     "metadata": {},
     "output_type": "execute_result"
    }
   ],
   "source": [
    "chose a characteristic shot "
   ]
  },
  {
   "cell_type": "code",
   "execution_count": null,
   "id": "1c9b72ba-ea7f-4749-8baa-af8f241cf8c6",
   "metadata": {},
   "outputs": [],
   "source": [
    "get the median pulse energy\n",
    "\n",
    "sincd already cutting in beam energy, should include the lower shots below GMD threshold\n",
    "can throwaway low energy if the spectra looks bad for the bandwidth one"
   ]
  }
 ],
 "metadata": {
  "kernelspec": {
   "display_name": "LCLS-II py3",
   "language": "python",
   "name": "ana2-current"
  },
  "language_info": {
   "codemirror_mode": {
    "name": "ipython",
    "version": 3
   },
   "file_extension": ".py",
   "mimetype": "text/x-python",
   "name": "python",
   "nbconvert_exporter": "python",
   "pygments_lexer": "ipython3",
   "version": "3.9.15"
  }
 },
 "nbformat": 4,
 "nbformat_minor": 5
}
