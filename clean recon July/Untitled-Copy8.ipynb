{
 "cells": [
  {
   "cell_type": "code",
   "execution_count": 1,
   "id": "aa9649d2-31a8-4f71-a0c2-6af888944065",
   "metadata": {},
   "outputs": [],
   "source": [
    "%load_ext autoreload\n",
    "%autoreload 2"
   ]
  },
  {
   "cell_type": "code",
   "execution_count": 3,
   "id": "8855990b-a837-4e1a-9a77-6cf4bc164c1d",
   "metadata": {},
   "outputs": [
    {
     "name": "stdout",
     "output_type": "stream",
     "text": [
      "one done, new indexes for run 127\n",
      "one done, new indexes for run 127\n",
      "one done, new indexes for run 127\n",
      "one done, new indexes for run 127\n",
      "one done, new indexes for run 127\n"
     ]
    }
   ],
   "source": [
    "%run itorch_hole_longt 0.5 0"
   ]
  },
  {
   "cell_type": "code",
   "execution_count": 4,
   "id": "f6c9c664-56b4-409a-b8e5-0d9a8bb38210",
   "metadata": {},
   "outputs": [
    {
     "name": "stdout",
     "output_type": "stream",
     "text": [
      "one done\n",
      "one done\n",
      "one done\n",
      "one done\n",
      "one done\n",
      "one done\n",
      "one done\n",
      "one done\n",
      "one done\n",
      "one done\n",
      "one done\n",
      "one done\n",
      "one done\n",
      "one done\n",
      "one done\n",
      "one done\n",
      "one done\n",
      "one done\n",
      "one done\n",
      "one done\n",
      "one done\n",
      "one done\n",
      "one done\n",
      "one done\n",
      "one done\n",
      "one done\n",
      "one done\n",
      "one done\n",
      "one done\n",
      "one done\n",
      "one done\n",
      "one done\n",
      "one done\n",
      "one done\n",
      "one done\n",
      "one done\n",
      "one done\n",
      "one done\n",
      "one done\n",
      "one done\n",
      "one done\n",
      "one done\n",
      "one done\n",
      "one done\n",
      "one done\n",
      "one done\n",
      "one done\n",
      "one done\n",
      "one done\n",
      "one done\n",
      "one done\n",
      "one done\n",
      "one done\n",
      "one done\n",
      "one done\n",
      "one done\n",
      "one done\n",
      "one done\n",
      "one done\n",
      "one done\n",
      "one done\n",
      "one done\n",
      "one done\n",
      "one done\n",
      "one done\n",
      "one done\n",
      "one done\n",
      "one done\n",
      "one done\n",
      "one done\n",
      "one done\n",
      "one done\n",
      "one done\n",
      "one done\n",
      "one done\n",
      "one done\n",
      "one done\n",
      "one done\n",
      "one done\n",
      "one done\n",
      "one done\n",
      "one done\n",
      "one done\n",
      "one done\n",
      "one done\n",
      "one done\n",
      "one done\n",
      "one done\n",
      "one done\n",
      "one done\n",
      "one done\n",
      "one done\n",
      "one done\n",
      "one done\n",
      "one done\n",
      "one done\n",
      "one done\n",
      "one done\n",
      "one done\n",
      "one done\n",
      "one done\n",
      "one done\n",
      "one done\n",
      "one done\n",
      "one done\n",
      "one done\n",
      "one done\n",
      "one done\n",
      "one done\n",
      "one done\n",
      "one done\n",
      "one done\n",
      "one done\n",
      "one done\n",
      "one done\n",
      "one done\n",
      "one done\n",
      "one done\n",
      "one done\n",
      "one done\n",
      "one done\n",
      "one done\n",
      "one done\n",
      "one done\n",
      "one done\n"
     ]
    }
   ],
   "source": [
    "%run itorch_half0 0.1 0 "
   ]
  },
  {
   "cell_type": "code",
   "execution_count": null,
   "id": "f264014b-1129-496d-9288-a6cc0cfb5011",
   "metadata": {},
   "outputs": [],
   "source": [
    "%run itorch_hole_longt 0 0"
   ]
  },
  {
   "cell_type": "code",
   "execution_count": null,
   "id": "0c012e4a-ff59-4791-8709-94db9f20e0d8",
   "metadata": {},
   "outputs": [],
   "source": [
    "%run itorch_hole_longt 0.8"
   ]
  },
  {
   "cell_type": "code",
   "execution_count": null,
   "id": "2d4b5e9d-0a58-4899-83be-01a90b90aa66",
   "metadata": {},
   "outputs": [],
   "source": []
  }
 ],
 "metadata": {
  "kernelspec": {
   "display_name": "Deeplearning3 py3",
   "language": "python",
   "name": "deeplearning3"
  },
  "language_info": {
   "codemirror_mode": {
    "name": "ipython",
    "version": 3
   },
   "file_extension": ".py",
   "mimetype": "text/x-python",
   "name": "python",
   "nbconvert_exporter": "python",
   "pygments_lexer": "ipython3",
   "version": "3.7.6"
  }
 },
 "nbformat": 4,
 "nbformat_minor": 5
}
