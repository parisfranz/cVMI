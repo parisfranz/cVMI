{
 "cells": [
  {
   "cell_type": "code",
   "execution_count": 1,
   "id": "aa9649d2-31a8-4f71-a0c2-6af888944065",
   "metadata": {},
   "outputs": [],
   "source": [
    "%load_ext autoreload\n",
    "%autoreload 2"
   ]
  },
  {
   "cell_type": "code",
   "execution_count": 2,
   "id": "8eb3902a-760d-4760-9bc1-261e59f72b24",
   "metadata": {},
   "outputs": [
    {
     "name": "stdout",
     "output_type": "stream",
     "text": [
      "mkdir: cannot create directory ‘/reg/d/psdm/tmo/tmox51020/results/paris/recon/torch_Jul13_127’: File exists\n"
     ]
    }
   ],
   "source": [
    "! mkdir /reg/d/psdm/tmo/tmox51020/results/paris/recon/torch_Jul13_127"
   ]
  },
  {
   "cell_type": "code",
   "execution_count": 5,
   "id": "f264014b-1129-496d-9288-a6cc0cfb5011",
   "metadata": {},
   "outputs": [
    {
     "name": "stdout",
     "output_type": "stream",
     "text": [
      "/reg/d/psdm/tmo/tmox51020/results/paris/recon/torch_Jul27_112/pytorchrecon_33_Up0.0_seed0.npy exists\n",
      "/reg/d/psdm/tmo/tmox51020/results/paris/recon/torch_Jul27_112/pytorchrecon_33_Up0.0_seed1.npy exists\n",
      "/reg/d/psdm/tmo/tmox51020/results/paris/recon/torch_Jul27_112/pytorchrecon_33_Up0.0_seed2.npy exists\n",
      "/reg/d/psdm/tmo/tmox51020/results/paris/recon/torch_Jul27_112/pytorchrecon_33_Up0.0_seed3.npy exists\n",
      "/reg/d/psdm/tmo/tmox51020/results/paris/recon/torch_Jul27_112/pytorchrecon_33_Up0.0_seed4.npy exists\n",
      "/reg/d/psdm/tmo/tmox51020/results/paris/recon/torch_Jul27_112/pytorchrecon_102_Up0.0_seed0.npy exists\n",
      "/reg/d/psdm/tmo/tmox51020/results/paris/recon/torch_Jul27_112/pytorchrecon_102_Up0.0_seed1.npy exists\n",
      "/reg/d/psdm/tmo/tmox51020/results/paris/recon/torch_Jul27_112/pytorchrecon_102_Up0.0_seed2.npy exists\n",
      "/reg/d/psdm/tmo/tmox51020/results/paris/recon/torch_Jul27_112/pytorchrecon_102_Up0.0_seed3.npy exists\n",
      "/reg/d/psdm/tmo/tmox51020/results/paris/recon/torch_Jul27_112/pytorchrecon_102_Up0.0_seed4.npy exists\n",
      "/reg/d/psdm/tmo/tmox51020/results/paris/recon/torch_Jul27_112/pytorchrecon_114_Up0.0_seed0.npy exists\n",
      "/reg/d/psdm/tmo/tmox51020/results/paris/recon/torch_Jul27_112/pytorchrecon_114_Up0.0_seed1.npy exists\n",
      "/reg/d/psdm/tmo/tmox51020/results/paris/recon/torch_Jul27_112/pytorchrecon_114_Up0.0_seed2.npy exists\n",
      "/reg/d/psdm/tmo/tmox51020/results/paris/recon/torch_Jul27_112/pytorchrecon_114_Up0.0_seed3.npy exists\n",
      "/reg/d/psdm/tmo/tmox51020/results/paris/recon/torch_Jul27_112/pytorchrecon_114_Up0.0_seed4.npy exists\n",
      "/reg/d/psdm/tmo/tmox51020/results/paris/recon/torch_Jul27_112/pytorchrecon_121_Up0.0_seed0.npy exists\n",
      "/reg/d/psdm/tmo/tmox51020/results/paris/recon/torch_Jul27_112/pytorchrecon_121_Up0.0_seed1.npy exists\n",
      "/reg/d/psdm/tmo/tmox51020/results/paris/recon/torch_Jul27_112/pytorchrecon_121_Up0.0_seed2.npy exists\n",
      "/reg/d/psdm/tmo/tmox51020/results/paris/recon/torch_Jul27_112/pytorchrecon_121_Up0.0_seed3.npy exists\n",
      "/reg/d/psdm/tmo/tmox51020/results/paris/recon/torch_Jul27_112/pytorchrecon_121_Up0.0_seed4.npy exists\n",
      "/reg/d/psdm/tmo/tmox51020/results/paris/recon/torch_Jul27_112/pytorchrecon_127_Up0.0_seed0.npy exists\n",
      "/reg/d/psdm/tmo/tmox51020/results/paris/recon/torch_Jul27_112/pytorchrecon_127_Up0.0_seed1.npy exists\n",
      "/reg/d/psdm/tmo/tmox51020/results/paris/recon/torch_Jul27_112/pytorchrecon_127_Up0.0_seed2.npy exists\n",
      "/reg/d/psdm/tmo/tmox51020/results/paris/recon/torch_Jul27_112/pytorchrecon_127_Up0.0_seed3.npy exists\n",
      "/reg/d/psdm/tmo/tmox51020/results/paris/recon/torch_Jul27_112/pytorchrecon_127_Up0.0_seed4.npy exists\n",
      "/reg/d/psdm/tmo/tmox51020/results/paris/recon/torch_Jul27_112/pytorchrecon_129_Up0.0_seed0.npy exists\n",
      "/reg/d/psdm/tmo/tmox51020/results/paris/recon/torch_Jul27_112/pytorchrecon_129_Up0.0_seed1.npy exists\n",
      "/reg/d/psdm/tmo/tmox51020/results/paris/recon/torch_Jul27_112/pytorchrecon_129_Up0.0_seed2.npy exists\n",
      "/reg/d/psdm/tmo/tmox51020/results/paris/recon/torch_Jul27_112/pytorchrecon_129_Up0.0_seed3.npy exists\n",
      "/reg/d/psdm/tmo/tmox51020/results/paris/recon/torch_Jul27_112/pytorchrecon_129_Up0.0_seed4.npy exists\n",
      "/reg/d/psdm/tmo/tmox51020/results/paris/recon/torch_Jul27_112/pytorchrecon_139_Up0.0_seed0.npy exists\n",
      "/reg/d/psdm/tmo/tmox51020/results/paris/recon/torch_Jul27_112/pytorchrecon_139_Up0.0_seed1.npy exists\n",
      "/reg/d/psdm/tmo/tmox51020/results/paris/recon/torch_Jul27_112/pytorchrecon_139_Up0.0_seed2.npy exists\n",
      "/reg/d/psdm/tmo/tmox51020/results/paris/recon/torch_Jul27_112/pytorchrecon_139_Up0.0_seed3.npy exists\n",
      "/reg/d/psdm/tmo/tmox51020/results/paris/recon/torch_Jul27_112/pytorchrecon_139_Up0.0_seed4.npy exists\n",
      "/reg/d/psdm/tmo/tmox51020/results/paris/recon/torch_Jul27_112/pytorchrecon_155_Up0.0_seed0.npy exists\n",
      "/reg/d/psdm/tmo/tmox51020/results/paris/recon/torch_Jul27_112/pytorchrecon_155_Up0.0_seed1.npy exists\n",
      "/reg/d/psdm/tmo/tmox51020/results/paris/recon/torch_Jul27_112/pytorchrecon_155_Up0.0_seed2.npy exists\n",
      "/reg/d/psdm/tmo/tmox51020/results/paris/recon/torch_Jul27_112/pytorchrecon_155_Up0.0_seed3.npy exists\n",
      "/reg/d/psdm/tmo/tmox51020/results/paris/recon/torch_Jul27_112/pytorchrecon_155_Up0.0_seed4.npy exists\n",
      "/reg/d/psdm/tmo/tmox51020/results/paris/recon/torch_Jul27_112/pytorchrecon_169_Up0.0_seed0.npy exists\n",
      "/reg/d/psdm/tmo/tmox51020/results/paris/recon/torch_Jul27_112/pytorchrecon_169_Up0.0_seed1.npy exists\n",
      "/reg/d/psdm/tmo/tmox51020/results/paris/recon/torch_Jul27_112/pytorchrecon_169_Up0.0_seed2.npy exists\n",
      "/reg/d/psdm/tmo/tmox51020/results/paris/recon/torch_Jul27_112/pytorchrecon_169_Up0.0_seed3.npy exists\n",
      "/reg/d/psdm/tmo/tmox51020/results/paris/recon/torch_Jul27_112/pytorchrecon_169_Up0.0_seed4.npy exists\n",
      "/reg/d/psdm/tmo/tmox51020/results/paris/recon/torch_Jul27_112/pytorchrecon_171_Up0.0_seed0.npy exists\n",
      "/reg/d/psdm/tmo/tmox51020/results/paris/recon/torch_Jul27_112/pytorchrecon_171_Up0.0_seed1.npy exists\n",
      "/reg/d/psdm/tmo/tmox51020/results/paris/recon/torch_Jul27_112/pytorchrecon_171_Up0.0_seed2.npy exists\n",
      "/reg/d/psdm/tmo/tmox51020/results/paris/recon/torch_Jul27_112/pytorchrecon_171_Up0.0_seed3.npy exists\n",
      "/reg/d/psdm/tmo/tmox51020/results/paris/recon/torch_Jul27_112/pytorchrecon_171_Up0.0_seed4.npy exists\n",
      "/reg/d/psdm/tmo/tmox51020/results/paris/recon/torch_Jul27_112/pytorchrecon_175_Up0.0_seed0.npy exists\n",
      "/reg/d/psdm/tmo/tmox51020/results/paris/recon/torch_Jul27_112/pytorchrecon_175_Up0.0_seed1.npy exists\n",
      "/reg/d/psdm/tmo/tmox51020/results/paris/recon/torch_Jul27_112/pytorchrecon_175_Up0.0_seed2.npy exists\n",
      "/reg/d/psdm/tmo/tmox51020/results/paris/recon/torch_Jul27_112/pytorchrecon_175_Up0.0_seed3.npy exists\n",
      "/reg/d/psdm/tmo/tmox51020/results/paris/recon/torch_Jul27_112/pytorchrecon_175_Up0.0_seed4.npy exists\n",
      "/reg/d/psdm/tmo/tmox51020/results/paris/recon/torch_Jul27_112/pytorchrecon_177_Up0.0_seed0.npy exists\n",
      "/reg/d/psdm/tmo/tmox51020/results/paris/recon/torch_Jul27_112/pytorchrecon_177_Up0.0_seed1.npy exists\n",
      "/reg/d/psdm/tmo/tmox51020/results/paris/recon/torch_Jul27_112/pytorchrecon_177_Up0.0_seed2.npy exists\n",
      "/reg/d/psdm/tmo/tmox51020/results/paris/recon/torch_Jul27_112/pytorchrecon_177_Up0.0_seed3.npy exists\n",
      "/reg/d/psdm/tmo/tmox51020/results/paris/recon/torch_Jul27_112/pytorchrecon_177_Up0.0_seed4.npy exists\n",
      "/reg/d/psdm/tmo/tmox51020/results/paris/recon/torch_Jul27_112/pytorchrecon_184_Up0.0_seed0.npy exists\n",
      "/reg/d/psdm/tmo/tmox51020/results/paris/recon/torch_Jul27_112/pytorchrecon_184_Up0.0_seed1.npy exists\n",
      "/reg/d/psdm/tmo/tmox51020/results/paris/recon/torch_Jul27_112/pytorchrecon_184_Up0.0_seed2.npy exists\n",
      "/reg/d/psdm/tmo/tmox51020/results/paris/recon/torch_Jul27_112/pytorchrecon_184_Up0.0_seed3.npy exists\n",
      "/reg/d/psdm/tmo/tmox51020/results/paris/recon/torch_Jul27_112/pytorchrecon_184_Up0.0_seed4.npy exists\n",
      "/reg/d/psdm/tmo/tmox51020/results/paris/recon/torch_Jul27_112/pytorchrecon_191_Up0.0_seed0.npy exists\n",
      "/reg/d/psdm/tmo/tmox51020/results/paris/recon/torch_Jul27_112/pytorchrecon_191_Up0.0_seed1.npy exists\n",
      "/reg/d/psdm/tmo/tmox51020/results/paris/recon/torch_Jul27_112/pytorchrecon_191_Up0.0_seed2.npy exists\n",
      "/reg/d/psdm/tmo/tmox51020/results/paris/recon/torch_Jul27_112/pytorchrecon_191_Up0.0_seed3.npy exists\n",
      "/reg/d/psdm/tmo/tmox51020/results/paris/recon/torch_Jul27_112/pytorchrecon_191_Up0.0_seed4.npy exists\n",
      "/reg/d/psdm/tmo/tmox51020/results/paris/recon/torch_Jul27_112/pytorchrecon_194_Up0.0_seed0.npy exists\n",
      "/reg/d/psdm/tmo/tmox51020/results/paris/recon/torch_Jul27_112/pytorchrecon_194_Up0.0_seed1.npy exists\n",
      "/reg/d/psdm/tmo/tmox51020/results/paris/recon/torch_Jul27_112/pytorchrecon_194_Up0.0_seed2.npy exists\n",
      "/reg/d/psdm/tmo/tmox51020/results/paris/recon/torch_Jul27_112/pytorchrecon_194_Up0.0_seed3.npy exists\n",
      "/reg/d/psdm/tmo/tmox51020/results/paris/recon/torch_Jul27_112/pytorchrecon_194_Up0.0_seed4.npy exists\n",
      "/reg/d/psdm/tmo/tmox51020/results/paris/recon/torch_Jul27_112/pytorchrecon_195_Up0.0_seed0.npy exists\n",
      "/reg/d/psdm/tmo/tmox51020/results/paris/recon/torch_Jul27_112/pytorchrecon_195_Up0.0_seed1.npy exists\n",
      "/reg/d/psdm/tmo/tmox51020/results/paris/recon/torch_Jul27_112/pytorchrecon_195_Up0.0_seed2.npy exists\n",
      "/reg/d/psdm/tmo/tmox51020/results/paris/recon/torch_Jul27_112/pytorchrecon_195_Up0.0_seed3.npy exists\n",
      "/reg/d/psdm/tmo/tmox51020/results/paris/recon/torch_Jul27_112/pytorchrecon_195_Up0.0_seed4.npy exists\n",
      "/reg/d/psdm/tmo/tmox51020/results/paris/recon/torch_Jul27_112/pytorchrecon_202_Up0.0_seed0.npy exists\n",
      "/reg/d/psdm/tmo/tmox51020/results/paris/recon/torch_Jul27_112/pytorchrecon_202_Up0.0_seed1.npy exists\n",
      "/reg/d/psdm/tmo/tmox51020/results/paris/recon/torch_Jul27_112/pytorchrecon_202_Up0.0_seed2.npy exists\n",
      "/reg/d/psdm/tmo/tmox51020/results/paris/recon/torch_Jul27_112/pytorchrecon_202_Up0.0_seed3.npy exists\n",
      "/reg/d/psdm/tmo/tmox51020/results/paris/recon/torch_Jul27_112/pytorchrecon_202_Up0.0_seed4.npy exists\n"
     ]
    }
   ],
   "source": [
    "%run itorch_hole_longt 0"
   ]
  },
  {
   "cell_type": "code",
   "execution_count": null,
   "id": "0c012e4a-ff59-4791-8709-94db9f20e0d8",
   "metadata": {},
   "outputs": [],
   "source": []
  },
  {
   "cell_type": "code",
   "execution_count": null,
   "id": "2d4b5e9d-0a58-4899-83be-01a90b90aa66",
   "metadata": {},
   "outputs": [],
   "source": []
  }
 ],
 "metadata": {
  "kernelspec": {
   "display_name": "Deeplearning3 py3",
   "language": "python",
   "name": "deeplearning3"
  },
  "language_info": {
   "codemirror_mode": {
    "name": "ipython",
    "version": 3
   },
   "file_extension": ".py",
   "mimetype": "text/x-python",
   "name": "python",
   "nbconvert_exporter": "python",
   "pygments_lexer": "ipython3",
   "version": "3.7.6"
  }
 },
 "nbformat": 4,
 "nbformat_minor": 5
}
