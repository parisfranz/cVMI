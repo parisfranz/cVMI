{
 "cells": [
  {
   "cell_type": "code",
   "execution_count": 2,
   "id": "5a09455a-e240-47ff-a0d1-d73dcfc687d0",
   "metadata": {},
   "outputs": [],
   "source": [
    "%load_ext autoreload\n",
    "%autoreload 2"
   ]
  },
  {
   "cell_type": "code",
   "execution_count": 3,
   "id": "3b1e9a43-d6d9-4b2b-84ea-45dac0268582",
   "metadata": {},
   "outputs": [
    {
     "name": "stderr",
     "output_type": "stream",
     "text": [
      "/reg/neh/home/tdd14/modules/CPBASEX/pbasex-Python/pbasex/gData.py:55: SyntaxWarning: \"is not\" with a literal. Did you mean \"!=\"?\n",
      "  if gData['rBF'] is not 'custom':\n"
     ]
    },
    {
     "name": "stdout",
     "output_type": "stream",
     "text": [
      "Hi! I imported. \n"
     ]
    }
   ],
   "source": [
    "import numpy as np\n",
    "import sys\n",
    "import h5py\n",
    "#sys.path.append('/reg/neh/home/tdd14/tmo_repo') #this is a temporary home for the general TMO analysis code\n",
    "# sys.path.append('/cds/home/p/paris/reconVMI')\n",
    "# import analyzers_anna as az # this raises a few runtime errors which require some updating\n",
    "import psana as ps\n",
    "from matplotlib import pyplot as plt\n",
    "from tqdm import tqdm\n",
    "import matplotlib.colors as colors\n",
    "from scipy.ndimage import gaussian_filter as gf\n",
    "from scipy import optimize\n",
    "\n",
    "from matplotlib import cm\n",
    "from matplotlib.colors import ListedColormap\n",
    "from scipy.optimize import minimize\n",
    "from scipy.signal import find_peaks\n",
    "import scipy\n",
    "#from scipy.ndimage import gaussian_filter\n",
    "sys.path.append('/reg/neh/home/tdd14/modules/cart2pol/cart2pol')\n",
    "import cart2pol\n",
    "import scipy.misc as scmis\n",
    "from scipy.optimize import minimize\n",
    "from scipy.optimize import curve_fit\n",
    "import scipy.special as sp\n",
    "from datetime import datetime\n",
    "import cv2\n",
    "sys.path.append('/reg/d/psdm/tmo/tmox51020/results/paris/recon')\n",
    "from recon_funcs import *"
   ]
  },
  {
   "cell_type": "code",
   "execution_count": 4,
   "id": "53b9b616-cd53-4731-919b-c7aa18719dcb",
   "metadata": {},
   "outputs": [],
   "source": [
    "exp = \"tmox51020\" #\"tmoly9120\" #'tmox45719' #exp = 'tmolv1720'\n",
    "gas_jet = 1\n",
    "runnum = 112\n",
    "gmd_min = 0.000\n",
    "\n",
    "mfn = 25 \n",
    "gfn = 15\n",
    "gfsig = 0.985 \n",
    "gfcart = 0.25 \n",
    "mfcart = 1"
   ]
  },
  {
   "cell_type": "code",
   "execution_count": null,
   "id": "808dacef-1210-4118-8025-4fe6230797fb",
   "metadata": {},
   "outputs": [],
   "source": [
    "#specs = []\n",
    "gds = []\n",
    "tmstmps = []\n",
    "\n",
    "ds=ps.DataSource(exp = exp, run= runnum)\n",
    "#ds=ps.DataSource(exp = 'tmox51020', run= runnum, filter = lambda evt:evt.timestamp in tt)\n",
    "\n",
    "run = next(ds.runs())\n",
    "\n",
    "#opal1 = run.Detector('tmo_opal1') # OPAL camera looking at the holey mirror\n",
    "gmd = run.Detector(\"gmd\") # gas intensity detector \n",
    "timing = run.Detector('timing') # this gives access to evr codes\n",
    "ebeam = run.Detector(\"ebeam\")\n",
    "if exp == \"tmox51020\": opalfzp = run.Detector('tmo_fzpopal') \n",
    "if exp == 'tmolv1720': opalfzp = run.Detector('tmo_opal3') \n",
    "\n",
    "n = 0\n",
    "\n",
    "if hasattr(run, 'epicsinfo'):\n",
    "    epics_strs = [item[0] for item in run.epicsinfo.keys()][1:] # first one is weird\n",
    "    epics_detectors = [run.Detector(item) for item in epics_strs]    \n",
    "\n",
    "for nevent, event in enumerate(run.events()):\n",
    "    #opal1im_i=np.copy(opal1.raw.raw(event))\n",
    "    gd_i=gmd.raw.energy(event)\n",
    "    evr=timing.raw.eventcodes(event)\n",
    "\n",
    "    # identify relevant event codes\n",
    "    gas=evr[70] # did the gas jet fire\n",
    "    ir_timed=evr[67] # was the ir laser timed\n",
    "    ir_misttimed=evr[68] # was the ir laser mis-timed\n",
    "    \n",
    "    if gd_i is None or gd_i<gmd_min or (gas != gas_jet): continue #opal1im_i is None \n",
    "    \n",
    "#     opalfz= np.copy(opalfzp.raw.image(event)) #np.copy(opal1.raw.image(event)) #np.copy(opal1.raw.raw(event))\n",
    "#     zps_data = opalfz\n",
    "#     zps_pixel = 100+np.argmax(np.sum(zps_data[100:900],axis=1))\n",
    "#     px_2d_width = 25 #spacing to cut the 2d image slice to store. Typically 50 pixel width. 25 on either side\n",
    "#     px_edge_width = 5 #spacing to integrate for the line out. \n",
    "\n",
    "#     zps_2d = zps_data[zps_pixel-px_2d_width:zps_pixel+px_2d_width][:]\n",
    "#     zps = zps_data[zps_pixel-px_edge_width:zps_pixel+px_edge_width][:].mean(0)#\n",
    "#     zps_bg = zps_data[zps_pixel-px_2d_width:zps_pixel-px_2d_width+px_edge_width][:].mean(0)#\n",
    "#     zps = zps-zps_bg\n",
    "#     #spec = np.squeeze(fastsmooth1(zps,10))\n",
    "#     spec = np.squeeze(zps)\n",
    "#     spec = np.array(np.squeeze(spec) - np.mean(np.squeeze(spec)[800:900])) \n",
    "    \n",
    "#     specs.append(spec)\n",
    "    gds.append(gd_i)\n",
    "    tmstmps.append(event.timestamp)\n",
    "    n+=1\n",
    "    if n%50 == 0: print(n)"
   ]
  }
 ],
 "metadata": {
  "kernelspec": {
   "display_name": "LCLS-II py3",
   "language": "python",
   "name": "ana2-current"
  },
  "language_info": {
   "codemirror_mode": {
    "name": "ipython",
    "version": 3
   },
   "file_extension": ".py",
   "mimetype": "text/x-python",
   "name": "python",
   "nbconvert_exporter": "python",
   "pygments_lexer": "ipython3",
   "version": "3.9.15"
  }
 },
 "nbformat": 4,
 "nbformat_minor": 5
}
