{
 "cells": [
  {
   "cell_type": "code",
   "execution_count": 15,
   "id": "539dbdf9-9979-4e81-a5f6-1f11e08fb593",
   "metadata": {},
   "outputs": [
    {
     "name": "stdout",
     "output_type": "stream",
     "text": [
      "cp: cannot stat ‘../../reconVMI_clean/recon X510 Jan/recon_funcs.py’: No such file or directory\n"
     ]
    }
   ],
   "source": [
    "! cp '../../reconVMI_clean/recon X510 Jan/Process_output_for_plotting.ipynb' ."
   ]
  },
  {
   "cell_type": "code",
   "execution_count": null,
   "id": "a8189aa1-3949-480e-9e44-80ee9ff3dd00",
   "metadata": {},
   "outputs": [],
   "source": [
    "#new files\n",
    "np.save('/cds/home/p/paris/reconVMI_clean/recon X510 Dec/specs_Jul13_127.npy', specs)\n",
    "np.save('/cds/home/p/paris/reconVMI_clean/recon X510 Dec/Ms_Jul13_127.npy', cVMIs)\n",
    "np.save('/cds/home/p/paris/reconVMI_clean/recon X510 Dec/GDs_Jul13_127.npy', gds)\n",
    "np.save('/cds/home/p/paris/reconVMI_clean/recon X510 Dec/tmpstmps_Jul13_127.npy', tmstmps)\n"
   ]
  }
 ],
 "metadata": {
  "kernelspec": {
   "display_name": "LCLS-II py3",
   "language": "python",
   "name": "ana2-current"
  },
  "language_info": {
   "codemirror_mode": {
    "name": "ipython",
    "version": 3
   },
   "file_extension": ".py",
   "mimetype": "text/x-python",
   "name": "python",
   "nbconvert_exporter": "python",
   "pygments_lexer": "ipython3",
   "version": "3.9.15"
  }
 },
 "nbformat": 4,
 "nbformat_minor": 5
}
