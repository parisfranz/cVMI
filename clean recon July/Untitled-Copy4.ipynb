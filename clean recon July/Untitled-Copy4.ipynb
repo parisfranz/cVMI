{
 "cells": [
  {
   "cell_type": "code",
   "execution_count": 1,
   "id": "aa9649d2-31a8-4f71-a0c2-6af888944065",
   "metadata": {},
   "outputs": [],
   "source": [
    "%load_ext autoreload\n",
    "%autoreload 2"
   ]
  },
  {
   "cell_type": "code",
   "execution_count": 2,
   "id": "b0291234-f7ba-4a21-ace2-d756b3f5cc15",
   "metadata": {},
   "outputs": [],
   "source": [
    "import numpy as np"
   ]
  },
  {
   "cell_type": "code",
   "execution_count": 19,
   "id": "b3f0f345-0514-431b-9bcf-66b2fb8a534c",
   "metadata": {},
   "outputs": [
    {
     "data": {
      "text/plain": [
       "305.3200599093529"
      ]
     },
     "execution_count": 19,
     "metadata": {},
     "output_type": "execute_result"
    }
   ],
   "source": [
    "x= -3\n",
    "np.sqrt((36+x)/0.000354)"
   ]
  },
  {
   "cell_type": "code",
   "execution_count": 4,
   "id": "3e053a98-4a28-4ecd-af46-239adc4d1e2c",
   "metadata": {},
   "outputs": [
    {
     "name": "stdout",
     "output_type": "stream",
     "text": [
      "one done, new indexes for run 127\n",
      "one done, new indexes for run 127\n",
      "one done, new indexes for run 127\n",
      "one done, new indexes for run 127\n",
      "one done, new indexes for run 127\n"
     ]
    }
   ],
   "source": [
    "%run itorch_hole_longt 0.3 0"
   ]
  },
  {
   "cell_type": "code",
   "execution_count": 3,
   "id": "4ae3ed4a-fe1d-49a2-acae-cc84c65c301b",
   "metadata": {},
   "outputs": [
    {
     "name": "stdout",
     "output_type": "stream",
     "text": [
      "one done\n",
      "one done\n",
      "one done\n",
      "one done\n",
      "one done\n",
      "one done\n",
      "one done\n",
      "one done\n",
      "one done\n",
      "one done\n",
      "one done\n",
      "one done\n",
      "one done\n",
      "one done\n",
      "one done\n",
      "one done\n",
      "one done\n",
      "one done\n",
      "one done\n",
      "one done\n",
      "one done\n",
      "one done\n",
      "one done\n",
      "one done\n",
      "one done\n",
      "one done\n",
      "one done\n",
      "one done\n",
      "one done\n",
      "one done\n",
      "one done\n",
      "one done\n",
      "one done\n",
      "one done\n",
      "one done\n",
      "one done\n",
      "one done\n",
      "one done\n",
      "one done\n",
      "one done\n",
      "one done\n",
      "one done\n",
      "one done\n",
      "one done\n",
      "one done\n",
      "one done\n",
      "one done\n",
      "one done\n",
      "one done\n",
      "one done\n",
      "one done\n",
      "one done\n",
      "one done\n",
      "one done\n",
      "one done\n",
      "one done\n",
      "one done\n",
      "one done\n",
      "one done\n",
      "one done\n",
      "one done\n",
      "one done\n",
      "one done\n",
      "one done\n",
      "one done\n",
      "one done\n",
      "one done\n",
      "one done\n",
      "one done\n",
      "one done\n",
      "one done\n",
      "one done\n",
      "one done\n",
      "one done\n",
      "one done\n",
      "one done\n",
      "one done\n",
      "one done\n",
      "one done\n",
      "one done\n",
      "one done\n",
      "one done\n",
      "one done\n",
      "one done\n",
      "one done\n",
      "one done\n",
      "one done\n",
      "one done\n",
      "one done\n",
      "one done\n",
      "one done\n",
      "one done\n",
      "one done\n",
      "one done\n",
      "one done\n",
      "one done\n",
      "one done\n",
      "one done\n",
      "one done\n",
      "one done\n",
      "one done\n",
      "one done\n",
      "one done\n",
      "one done\n",
      "one done\n",
      "one done\n",
      "one done\n",
      "one done\n",
      "one done\n",
      "one done\n",
      "one done\n",
      "one done\n",
      "one done\n",
      "one done\n",
      "one done\n",
      "one done\n",
      "one done\n",
      "one done\n",
      "one done\n",
      "one done\n",
      "one done\n",
      "one done\n",
      "one done\n",
      "one done\n",
      "one done\n"
     ]
    }
   ],
   "source": [
    "%run itorch_half0 0.3 0 "
   ]
  },
  {
   "cell_type": "code",
   "execution_count": null,
   "id": "f264014b-1129-496d-9288-a6cc0cfb5011",
   "metadata": {},
   "outputs": [],
   "source": [
    "%run itorch_hole_longt 0.1 0"
   ]
  },
  {
   "cell_type": "code",
   "execution_count": null,
   "id": "0c012e4a-ff59-4791-8709-94db9f20e0d8",
   "metadata": {},
   "outputs": [],
   "source": []
  },
  {
   "cell_type": "code",
   "execution_count": null,
   "id": "2d4b5e9d-0a58-4899-83be-01a90b90aa66",
   "metadata": {},
   "outputs": [],
   "source": [
    "%run itorch_half 0.1"
   ]
  }
 ],
 "metadata": {
  "kernelspec": {
   "display_name": "Deeplearning3 py3",
   "language": "python",
   "name": "deeplearning3"
  },
  "language_info": {
   "codemirror_mode": {
    "name": "ipython",
    "version": 3
   },
   "file_extension": ".py",
   "mimetype": "text/x-python",
   "name": "python",
   "nbconvert_exporter": "python",
   "pygments_lexer": "ipython3",
   "version": "3.7.6"
  }
 },
 "nbformat": 4,
 "nbformat_minor": 5
}
