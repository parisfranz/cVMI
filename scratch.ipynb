{
 "cells": [
  {
   "cell_type": "code",
   "execution_count": 23,
   "id": "6aa79897-8c15-4785-9571-3dca831f4ba4",
   "metadata": {},
   "outputs": [
    {
     "name": "stdout",
     "output_type": "stream",
     "text": [
      "The autoreload extension is already loaded. To reload it, use:\n",
      "  %reload_ext autoreload\n"
     ]
    }
   ],
   "source": [
    "%load_ext autoreload\n",
    "%autoreload 2"
   ]
  },
  {
   "cell_type": "code",
   "execution_count": 1250,
   "id": "eb786eb9-fd2a-4685-8c58-99b87e0a3393",
   "metadata": {},
   "outputs": [],
   "source": [
    "from __future__ import print_function\n",
    "import sys\n",
    "\n",
    "sys.path.append('/reg/d/psdm/tmo/tmox51020/results/paris/')\n",
    "sys.path.append('/reg/d/psdm/tmo/tmox51020/results/paris/recon')\n",
    "import torch\n",
    "import numpy as np\n",
    "import h5py\n",
    "import matplotlib.pyplot as plt\n",
    "import scipy as sc\n",
    "import scipy.io as scio\n",
    "from torch.autograd import Variable\n",
    "from torch.autograd import grad\n",
    "from torch import Tensor\n",
    "import scipy.ndimage as scimg\n",
    "from scipy.interpolate import interp1d\n",
    "import sys\n",
    "sys.path.append('/reg/neh/home/tdd14/modules/cart2pol/cart2pol')\n",
    "import cart2pol\n",
    "from cart2pol import PolarRebin\n",
    "from torchrecon_funcs_cal_siqi2 import *\n",
    "import os"
   ]
  },
  {
   "cell_type": "code",
   "execution_count": 2,
   "id": "7969d5f1-c9eb-4358-8b96-851e72d2db25",
   "metadata": {},
   "outputs": [],
   "source": [
    "####UPDATE FILENAMES##############\n",
    "savefiledir = '/reg/d/psdm/tmo/tmoc00118/results/siqili/recon/' #where you are saving the output files\n",
    "runnum = 286 #116 \n",
    "#array of preprocessed images with shape (# shots, 64,64)\n",
    "# mdat= np.load('/cds/home/p/paris/reconVMI_clean/recon X510 Dec/Ms_Mar12_112.npy', allow_pickle = True)[()]\n",
    "mdatname='/reg/d/psdm/tmo/tmoc00118/results/siqili/data/streaked_ims_run_286.npy'\n",
    "mdat= np.load(mdatname,allow_pickle=True)[()]\n",
    "#array of preprocessed spectra with shape (# shots, 1024)\n",
    "    # processing is:\n",
    "        #smoothing with fastsmooth1 function and baseline subtraction\n",
    "        #roll the spectra so that the central frequency of the average spectra (w0) is at the center of the array (pixel = 512) \n",
    "specdatname='/reg/d/psdm/tmo/tmoc00118/results/siqili/data/streaked_vls_processed_run_286.npy'\n",
    "specdat = np.load(specdatname, allow_pickle = True)[()] \n",
    "pixpereV=6.9697054204683955#6.966300581474518#7.983037536410461#5.593817964009881\n",
    "basesdir = '/reg/d/psdm/tmo/tmoc00118/results/siqili/basis_functions/'#Bpbasis_Up_0_to_0.5eV_filtered.npy'\n",
    "PR = PolarRebin('/reg/d/psdm/tmo/tmox51020/results/paris/recon/PR_c32_r32_th32.h5')  # this should be correct for cart2pol, pol2cart for 64x64"
   ]
  },
  {
   "cell_type": "code",
   "execution_count": 3,
   "id": "e1101800-7631-44c9-a090-f11815a8a8dd",
   "metadata": {},
   "outputs": [],
   "source": [
    "######################\n",
    "#update mask for your experiment\n",
    "X,Y=np.meshgrid(np.arange(1024),np.arange(1024))\n",
    "rs=np.sqrt((X-512)**2+(Y-512)**2)\n",
    "maskhm=np.zeros((1024,1024))\n",
    "# maskhm[(rs>325-30) & (rs<420)]=1\n",
    "maskhm[rs>1*120]=1#maskhm[rs>1*48]=1\n",
    "mask = rebin(rebin(maskhm,4),4)"
   ]
  },
  {
   "cell_type": "code",
   "execution_count": 4,
   "id": "3697572d-f1a6-4a10-9ba9-d6f02c3c17d6",
   "metadata": {},
   "outputs": [],
   "source": [
    "####################\n",
    "Ups = [0.05]\n",
    "\n",
    "#correction factor if the spectra calibration are off. 0 and 1 if calibration is correct\n",
    "eshift = 0  \n",
    "sc = 1\n",
    "\n",
    "#smoothing applied to the vNbases image to try to make it match the measured\n",
    "gfsig = 0.985 \n",
    "gfcart = 0.25 \n",
    "mfcart = 1\n",
    "\n",
    "thresh = 0.0005 #small number to set everything below to zero for M/sum(M)\n",
    "\n",
    "Bps = []\n",
    "alphas = []\n",
    "vNaxis = []\n",
    "\n",
    "Np = 64#128\n",
    "N_w=6#6\n",
    "N_t=6#6 \n",
    "hbar=6.6e-16 #eV*s\n",
    "Nb=N_t*N_w\n",
    "\n",
    "\n",
    "Up = Ups[0]  \n",
    "# filename = 'Bpbasis_Np' + str(Np) + '_Nw' + str(N_w) +'_Nt' + str(N_t) + '_Up' + str(Up)+'.npy'\n",
    "filename='Bpbasis_Up_'+str(Up)+'eV_Nt_6.npy'\n",
    "Bp_basis = np.load(basesdir+filename, allow_pickle=True)\n",
    "# Breal = br[()]['Breal']\n",
    "# Bimag = br[()]['Bimag']\n",
    "# breal = br[()]['breal']\n",
    "# bimag = br[()]['bimag']\n",
    "# vNaxis = br[()]['vNaxis']\n",
    "# alpha = br[()]['alpha']\n",
    "# Bp_basis = Breal+1j*Bimag\n",
    "\n",
    "# #rebin to 64x64\n",
    "# tempr = np.zeros((Breal.shape[0], 64**2))\n",
    "# tempi = np.zeros((Breal.shape[0], 64**2))\n",
    "# for i in range(len(Breal)):\n",
    "#     tempr[i,:] = np.reshape(rebin(np.reshape(Breal[i,:], [128,128])), [64**2])\n",
    "#     tempi[i,:] = np.reshape(rebin(np.reshape(Bimag[i,:], [128,128])), [64**2])\n",
    "\n",
    "Breal = np.real(Bp_basis)\n",
    "Bimag = np.imag(Bp_basis)\n",
    "\n",
    "alpha_t_sample=np.load('/reg/d/psdm/tmo/tmoc00118/results/siqili/basis_functions/alpha_t_sample_Nt_6.npy')\n",
    "vNaxis_t=np.load('/reg/d/psdm/tmo/tmoc00118/results/siqili/basis_functions/vNaxis_t_Nt_6.npy')\n",
    "vNaxis_t_sample=np.load('/reg/d/psdm/tmo/tmoc00118/results/siqili/basis_functions/vNaxis_t_sample_Nt_6.npy')\n",
    "vNaxis_w=np.load('/reg/d/psdm/tmo/tmoc00118/results/siqili/basis_functions/vNaxis_w_Nt_6.npy')\n",
    "\n"
   ]
  },
  {
   "cell_type": "code",
   "execution_count": 5,
   "id": "74074b43-5cdf-4c38-9997-d09c4ed47693",
   "metadata": {},
   "outputs": [],
   "source": [
    "alphw = np.zeros(alpha_t_sample.shape, dtype = complex)\n",
    "for i in range(len(alphw)):\n",
    "    f = interp1d(vNaxis_t_sample, alpha_t_sample[i], fill_value = 0, bounds_error = False)\n",
    "    N = 2801 #1024\n",
    "    ts = np.linspace(vNaxis_t_sample[0],-vNaxis_t_sample[0], N)\n",
    "    alphw[i] = np.fft.ifftshift(np.fft.ifft(f(ts)))\n",
    "\n",
    "\n",
    "# alphw = np.zeros(alpha['t_sample'].shape, dtype = complex)\n",
    "# for i in range(len(alphw)):\n",
    "#     alphw[i] = np.fft.ifftshift(np.fft.ifft(alpha['t_sample'][i]))\n",
    "\n",
    "alphaw_r=Variable(Tensor(np.real(alphw)))#real part\n",
    "alphaw_i=Variable(Tensor(np.imag(alphw)))#imaginary part"
   ]
  },
  {
   "cell_type": "code",
   "execution_count": 6,
   "id": "d288d60a-5bb9-4c1f-a868-73b820cfb003",
   "metadata": {},
   "outputs": [],
   "source": [
    "Np = 64\n",
    "for j in range(Breal.shape[0]):\n",
    "    temp=np.reshape(Breal[j,:],[Np,Np])\n",
    "    polimg = PR.cart2pol(temp,32,32)\n",
    "    bb = np.zeros((64,64))\n",
    "    bb[1:64,1:64]= PR.pol2cart(scimg.gaussian_filter(polimg,[gfsig,0]))\n",
    "    Breal[j,:]=Variable(Tensor(np.reshape(bb*mask,newshape=(1,Np**2))))\n",
    "    #temp=scimg.filters.gaussian_filter(temp,0.8889)\n",
    "    #Bpr[j,:]=Variable(Tensor(np.reshape(temp,newshape=(1,Np**2))))\n",
    "    temp=np.reshape(Bimag[j,:],[Np,Np])\n",
    "    polimg = PR.cart2pol(temp,32,32)\n",
    "    bb = np.zeros((64,64))\n",
    "    bb[1:64,1:64]= PR.pol2cart(scimg.gaussian_filter(polimg,[gfsig,0]))\n",
    "    Bimag[j,:]=Variable(Tensor(np.reshape(bb*mask,newshape=(1,Np**2))))\n",
    "    #temp=scimg.filters.gaussian_filter(temp,0.8889)\n",
    "    #Bpi[j,:]=Variable(Tensor(np.reshape(temp,newshape=(1,Np**2))))\n",
    "    \n",
    "Bpr=Variable(Tensor(Breal))\n",
    "Bpi=Variable(Tensor(Bimag))"
   ]
  },
  {
   "cell_type": "code",
   "execution_count": 1323,
   "id": "dfaea349-214c-4b3b-bd91-a95fccd59fa8",
   "metadata": {},
   "outputs": [
    {
     "name": "stdout",
     "output_type": "stream",
     "text": [
      "torch.Size([1, 72])\n"
     ]
    }
   ],
   "source": [
    "t = 0\n",
    "k= 0\n",
    "tt = np.copy(t)\n",
    "\n",
    "torch.manual_seed(t)\n",
    "\n",
    "m = mdat[k]*mask\n",
    "spec = specdat[k]\n",
    "outdict = {}\n",
    "outdict['thresh'] = thresh\n",
    "outdict['gfsig'] = gfsig\n",
    "outdict['gfcart'] = gfcart\n",
    "# outdict['mfn'] = mfn\n",
    "# outdict['gfn'] = gfn\n",
    "outdict['eshift'] = eshift\n",
    "outdict['sc'] = sc\n",
    "outdict['mask'] = mask\n",
    "outdict['maskhm'] = maskhm\n",
    "\n",
    "M=Variable(Tensor(m))\n",
    "M=M/torch.sum(M)\n",
    "#M=M.transpose(0,1)\n",
    "t=Variable(Tensor(vNaxis_t))\n",
    "ts=Variable(Tensor(vNaxis_t_sample))\n",
    "#ts=torch.linspace(t[0][0],t[0][-1],int(1e3))\n",
    "w=Variable(Tensor(vNaxis_w))\n",
    "alphat_r=Variable(Tensor(np.real(alpha_t_sample)))#real part\n",
    "alphat_i=Variable(Tensor(np.imag(alpha_t_sample)))#imaginary part\n",
    "\n",
    "N = 2801\n",
    "xf = np.arange(-N/2-1/2,N/2-1/2,1)/np.abs(vNaxis_t_sample[0])/2\n",
    "eV = 1239.84*(2*np.pi*xf)/2.9979E8/(2*np.pi)*1e-9 \n",
    "#Interpolate spec outside of the loop to match eV axis of the vNbases\n",
    "# xeV = pix_2_eV(np.arange(1024), pixpereV = 22, spectra_hw0 = 0, spectra_pix0 = 512)\n",
    "eshift =  -8\n",
    "xeV = pix_2_eV(np.arange(1024), pixpereV = pixpereV, spectra_hw0 = 0, spectra_pix0 = 512)\n",
    "xeV = xeV - eshift #correction if calibration is off\n",
    "f = interp1d(xeV,spec, bounds_error=False, fill_value = 0)\n",
    "#spec_in = f(eV[1340:-1340])\n",
    "spec_in = f(eV)\n",
    "\n",
    "spec_in= Variable(Tensor(spec_in))\n",
    "spec_in=spec_in/torch.max(spec_in)\n",
    "\n",
    "# q = np.zeros((1,2*Nb-1))\n",
    "q = np.zeros((1,2*Nb))\n",
    "# q = np.zeros((1,1))\n",
    "#q[0]=0.5\n",
    "q[:,tt] = 1\n",
    "q[:,-1] = -1\n",
    "Q = Tensor(q)\n",
    "# print(np.shape(q),tt,len(Q),Q)\n",
    "Q.requires_grad = True\n",
    "#Q.retain_grad()\n",
    "\n",
    "n_epochs=1.3e3\n",
    "lr=1e-2\n",
    "optimizer=torch.optim.Adam([Q],lr=lr)\n",
    "costs = []\n",
    "costM = []\n",
    "costW = []\n",
    "costS = []\n",
    "costQ = []\n",
    "eps = []\n",
    "M_wght = 1\n",
    "Spec_wght = 100#10#12 #1 #0.75 #0.8\n",
    "Smooth_wght = 0#0.00001\n",
    "print(np.shape(Q))"
   ]
  },
  {
   "cell_type": "code",
   "execution_count": 1336,
   "id": "a7beff38-8cfc-49de-b041-f88910ba7bf9",
   "metadata": {},
   "outputs": [
    {
     "data": {
      "text/plain": [
       "tensor([[ 2.4920e-01,  6.2657e-02, -2.5591e-01,  6.4166e-01,  2.7991e-01,\n",
       "          8.9592e-02, -7.2649e-02,  4.4501e-02,  2.2913e-02, -8.0692e-01,\n",
       "         -2.5037e-01, -1.0524e-01,  5.8086e-02, -6.2851e-02,  4.7081e-01,\n",
       "         -6.5389e-01,  3.1308e-02,  5.4693e-02,  6.7958e-02,  1.3647e-01,\n",
       "          9.0057e-01, -2.7527e-03,  1.3070e-03, -2.3968e-02,  6.0054e-02,\n",
       "         -7.5331e-02, -3.3362e-01,  9.0397e-02,  1.7664e-02,  1.5061e-02,\n",
       "          8.0431e-02,  8.3084e-02,  1.0596e-01,  1.3905e-01,  1.6887e-02,\n",
       "         -9.3802e-03, -1.5580e-01, -2.1659e-01,  5.3784e-01,  2.6771e-01,\n",
       "          1.5141e-01,  7.0340e-02,  1.9627e-01,  3.2991e-01, -6.2904e-01,\n",
       "         -4.5255e-01, -2.1046e-01, -1.6223e-02, -2.9959e-01, -9.3223e-01,\n",
       "          1.0488e+00,  4.0268e-01,  1.7560e-01, -1.3069e-02,  1.5806e-01,\n",
       "          1.4927e-01,  1.7806e-01, -1.4857e-01, -8.8076e-02, -4.1335e-02,\n",
       "          3.3057e-02,  3.3834e-02,  2.4599e-01,  7.6504e-02,  4.1305e-02,\n",
       "         -1.0747e-01, -1.4324e-01, -3.2111e-01,  1.1022e-01, -1.3898e-02,\n",
       "         -6.7338e-03, -1.5392e+00]], requires_grad=True)"
      ]
     },
     "execution_count": 1336,
     "metadata": {},
     "output_type": "execute_result"
    }
   ],
   "source": [
    "Q"
   ]
  },
  {
   "cell_type": "code",
   "execution_count": 1335,
   "id": "926860d2-056a-4749-9a6e-b6ee08b07c24",
   "metadata": {},
   "outputs": [
    {
     "name": "stdout",
     "output_type": "stream",
     "text": [
      "tensor(30930.7715, grad_fn=<AddBackward0>)\n"
     ]
    }
   ],
   "source": [
    "print(loss_tot_noQ(M,Q,Nb,Bpr,Bpi,spec_in, alphaw_r, alphaw_i,M_wght,Spec_wght,Smooth_wght,thresh))\n",
    "#print(loss_w(spec_in, Q, alphaw_r, alphaw_i, Nb).detach().numpy()[()])\n",
    "loss_tot_noQ(M,Q,Nb,Bpr,Bpi,spec_in, alphaw_r, alphaw_i,M_wght,Spec_wght,Smooth_wght,thresh).backward()\n",
    "# print(loss_w_slide(spec_in, Q, alphaw_r, alphaw_i, Nb).detach().numpy()[()])\n",
    "# loss_w_slide(spec_in, Q, alphaw_r, alphaw_i, Nb).backward()\n",
    "#ll=loss_tot(M,Q,Nb,Bpr,Bpi,bkg,alpha_vn,ts,tn,wm,Nt,Nw,5,1,1)\n",
    "#loss_tot(M,Q,Nb,Bpr,Bpi,bkg,alpha_vn,ts,tn,wm,Nt,Nw,5,1,1).backward()\n",
    "optimizer.step()\n",
    "optimizer.zero_grad()"
   ]
  },
  {
   "cell_type": "code",
   "execution_count": 1339,
   "id": "392539d5-b399-4c01-9ab1-d2990dc53755",
   "metadata": {},
   "outputs": [
    {
     "data": {
      "text/plain": [
       "'/cds/home/p/paris/cVMI'"
      ]
     },
     "execution_count": 1339,
     "metadata": {},
     "output_type": "execute_result"
    }
   ],
   "source": [
    "pwd"
   ]
  },
  {
   "cell_type": "code",
   "execution_count": 1332,
   "id": "d7117fe5-0f25-44cd-9962-dbf30e694fc1",
   "metadata": {},
   "outputs": [
    {
     "name": "stdout",
     "output_type": "stream",
     "text": [
      "0\n",
      "10\n",
      "20\n",
      "30\n",
      "40\n",
      "50\n",
      "60\n",
      "70\n",
      "80\n",
      "90\n"
     ]
    }
   ],
   "source": [
    "for i in range(100):\n",
    "    loss_tot_noQ(M,Q,Nb,Bpr,Bpi,spec_in, alphaw_r, alphaw_i,M_wght,Spec_wght,Smooth_wght,thresh).backward()\n",
    "    # print(loss_w_slide(spec_in, Q, alphaw_r, alphaw_i, Nb).detach().numpy()[()])\n",
    "    # loss_w_slide(spec_in, Q, alphaw_r, alphaw_i, Nb).backward()\n",
    "    #ll=loss_tot(M,Q,Nb,Bpr,Bpi,bkg,alpha_vn,ts,tn,wm,Nt,Nw,5,1,1)\n",
    "    #loss_tot(M,Q,Nb,Bpr,Bpi,bkg,alpha_vn,ts,tn,wm,Nt,Nw,5,1,1).backward()\n",
    "    optimizer.step()\n",
    "    optimizer.zero_grad()\n",
    "    if i%10 == 0:\n",
    "        print(i)"
   ]
  },
  {
   "cell_type": "code",
   "execution_count": 1337,
   "id": "33341a84-7250-4300-8abc-0c8d4f94b5f7",
   "metadata": {},
   "outputs": [
    {
     "name": "stdout",
     "output_type": "stream",
     "text": [
      "tensor(-15.3917, grad_fn=<MulBackward0>)\n"
     ]
    },
    {
     "data": {
      "text/plain": [
       "<matplotlib.legend.Legend at 0x7ff753e9f580>"
      ]
     },
     "execution_count": 1337,
     "metadata": {},
     "output_type": "execute_result"
    },
    {
     "data": {
      "image/png": "[encoded data removed]",
      "text/plain": [
       "<Figure size 640x480 with 1 Axes>"
      ]
     },
     "metadata": {},
     "output_type": "display_data"
    }
   ],
   "source": [
    "q = np.zeros((1,2*Nb-1))\n",
    "q[0][1]=1\n",
    "Qq = Tensor(q)\n",
    "Qr=Q[0][0:Nb]\n",
    "#print(Qr)\n",
    "#print(Q[0][-1])\n",
    "Qr=Qr[None,:] #[1x36]\n",
    "Qi=Q[0][Nb:2*Nb-1]\n",
    "Qi=Qi[None,:]\n",
    "x=Tensor([0])\n",
    "Qi=torch.cat([x[:,None],Qi],1)\n",
    "Qrt=torch.transpose(Qr,0,1)\n",
    "Qit=torch.transpose(Qi,0,1)\n",
    "eVshift = Q[0][-1]\n",
    "eVshift=eVshift*10\n",
    "print(eVshift)\n",
    "#eVshift_idx = Tensor([eVshift*50])\n",
    "#eVshift_idx.requires_grad= True\n",
    "\n",
    "EwEw = (torch.mm(Qr,alphaw_r)-torch.mm(Qi,alphaw_i))**2+(torch.mm(Qr,alphaw_i)+torch.mm(Qi,alphaw_r))**2\n",
    "#EwEwlook = Tensor(EwEw[0])#[1340:-1340])\n",
    "#EwEwlook = Tensor(EwEw[0][1340-eVshift_idx:-1340-eVshift_idx])\n",
    "EwEwlook = Tensor(EwEw[0])\n",
    "EwEwlook=EwEwlook[None,:]\n",
    "EwEwlook = EwEwlook/torch.max(EwEwlook)\n",
    "w=Tensor(np.arange(len(EwEwlook[0])))\n",
    "plt.plot(np.squeeze(spec_in.detach().numpy()[()]), label = 'no shift')\n",
    "#spec = Tensor(spec_in[1340:-1340])\n",
    "#spec = Tensor(spec_in[1200-eVshift_idx:-1200-eVshift_idx])\n",
    "spec=interp(w,Tensor(spec_in),Tensor(w-eVshift))\n",
    "plt.plot(np.squeeze(spec.detach().numpy()[()]), label = 'shift')\n",
    "plt.plot(np.squeeze(EwEwlook.detach().numpy()[()]), label = 'fit')\n",
    "plt.xlim(np.arange(2801)[1200],np.arange(2801)[-1200])\n",
    "plt.legend()"
   ]
  },
  {
   "cell_type": "code",
   "execution_count": 1286,
   "id": "ce016225-5786-42b5-aa4f-dd666e8dbfeb",
   "metadata": {},
   "outputs": [
    {
     "ename": "KeyboardInterrupt",
     "evalue": "",
     "output_type": "error",
     "traceback": [
      "\u001b[0;31m---------------------------------------------------------------------------\u001b[0m",
      "\u001b[0;31mKeyboardInterrupt\u001b[0m                         Traceback (most recent call last)",
      "Cell \u001b[0;32mIn[1286], line 2\u001b[0m\n\u001b[1;32m      1\u001b[0m plt\u001b[38;5;241m.\u001b[39mfigure(figsize\u001b[38;5;241m=\u001b[39m(\u001b[38;5;241m14\u001b[39m, \u001b[38;5;241m7\u001b[39m))\n\u001b[0;32m----> 2\u001b[0m \u001b[43mplt\u001b[49m\u001b[38;5;241;43m.\u001b[39;49m\u001b[43mplot\u001b[49m\u001b[43m(\u001b[49m\u001b[43mlosses\u001b[49m\u001b[43m,\u001b[49m\u001b[38;5;124;43m'\u001b[39;49m\u001b[38;5;124;43m.-\u001b[39;49m\u001b[38;5;124;43m'\u001b[39;49m\u001b[43m)\u001b[49m\n\u001b[1;32m      3\u001b[0m \u001b[38;5;28mprint\u001b[39m(m\u001b[38;5;241m.\u001b[39mQs)\n",
      "File \u001b[0;32m/cds/sw/ds/ana/conda2/inst/envs/deeplearning8/lib/python3.9/site-packages/matplotlib/pyplot.py:2740\u001b[0m, in \u001b[0;36mplot\u001b[0;34m(scalex, scaley, data, *args, **kwargs)\u001b[0m\n\u001b[1;32m   2738\u001b[0m \u001b[38;5;129m@_copy_docstring_and_deprecators\u001b[39m(Axes\u001b[38;5;241m.\u001b[39mplot)\n\u001b[1;32m   2739\u001b[0m \u001b[38;5;28;01mdef\u001b[39;00m \u001b[38;5;21mplot\u001b[39m(\u001b[38;5;241m*\u001b[39margs, scalex\u001b[38;5;241m=\u001b[39m\u001b[38;5;28;01mTrue\u001b[39;00m, scaley\u001b[38;5;241m=\u001b[39m\u001b[38;5;28;01mTrue\u001b[39;00m, data\u001b[38;5;241m=\u001b[39m\u001b[38;5;28;01mNone\u001b[39;00m, \u001b[38;5;241m*\u001b[39m\u001b[38;5;241m*\u001b[39mkwargs):\n\u001b[0;32m-> 2740\u001b[0m     \u001b[38;5;28;01mreturn\u001b[39;00m \u001b[43mgca\u001b[49m\u001b[43m(\u001b[49m\u001b[43m)\u001b[49m\u001b[38;5;241m.\u001b[39mplot(\n\u001b[1;32m   2741\u001b[0m         \u001b[38;5;241m*\u001b[39margs, scalex\u001b[38;5;241m=\u001b[39mscalex, scaley\u001b[38;5;241m=\u001b[39mscaley,\n\u001b[1;32m   2742\u001b[0m         \u001b[38;5;241m*\u001b[39m\u001b[38;5;241m*\u001b[39m({\u001b[38;5;124m\"\u001b[39m\u001b[38;5;124mdata\u001b[39m\u001b[38;5;124m\"\u001b[39m: data} \u001b[38;5;28;01mif\u001b[39;00m data \u001b[38;5;129;01mis\u001b[39;00m \u001b[38;5;129;01mnot\u001b[39;00m \u001b[38;5;28;01mNone\u001b[39;00m \u001b[38;5;28;01melse\u001b[39;00m {}), \u001b[38;5;241m*\u001b[39m\u001b[38;5;241m*\u001b[39mkwargs)\n",
      "File \u001b[0;32m/cds/sw/ds/ana/conda2/inst/envs/deeplearning8/lib/python3.9/site-packages/matplotlib/pyplot.py:2237\u001b[0m, in \u001b[0;36mgca\u001b[0;34m()\u001b[0m\n\u001b[1;32m   2235\u001b[0m \u001b[38;5;129m@_copy_docstring_and_deprecators\u001b[39m(Figure\u001b[38;5;241m.\u001b[39mgca)\n\u001b[1;32m   2236\u001b[0m \u001b[38;5;28;01mdef\u001b[39;00m \u001b[38;5;21mgca\u001b[39m():\n\u001b[0;32m-> 2237\u001b[0m     \u001b[38;5;28;01mreturn\u001b[39;00m \u001b[43mgcf\u001b[49m\u001b[43m(\u001b[49m\u001b[43m)\u001b[49m\u001b[38;5;241;43m.\u001b[39;49m\u001b[43mgca\u001b[49m\u001b[43m(\u001b[49m\u001b[43m)\u001b[49m\n",
      "File \u001b[0;32m/cds/sw/ds/ana/conda2/inst/envs/deeplearning8/lib/python3.9/site-packages/matplotlib/figure.py:1616\u001b[0m, in \u001b[0;36mFigureBase.gca\u001b[0;34m(self)\u001b[0m\n\u001b[1;32m   1606\u001b[0m \u001b[38;5;124;03m\"\"\"\u001b[39;00m\n\u001b[1;32m   1607\u001b[0m \u001b[38;5;124;03mGet the current Axes.\u001b[39;00m\n\u001b[1;32m   1608\u001b[0m \n\u001b[0;32m   (...)\u001b[0m\n\u001b[1;32m   1613\u001b[0m \u001b[38;5;124;03mwhether `.pyplot.get_fignums()` is empty.)\u001b[39;00m\n\u001b[1;32m   1614\u001b[0m \u001b[38;5;124;03m\"\"\"\u001b[39;00m\n\u001b[1;32m   1615\u001b[0m ax \u001b[38;5;241m=\u001b[39m \u001b[38;5;28mself\u001b[39m\u001b[38;5;241m.\u001b[39m_axstack\u001b[38;5;241m.\u001b[39mcurrent()\n\u001b[0;32m-> 1616\u001b[0m \u001b[38;5;28;01mreturn\u001b[39;00m ax \u001b[38;5;28;01mif\u001b[39;00m ax \u001b[38;5;129;01mis\u001b[39;00m \u001b[38;5;129;01mnot\u001b[39;00m \u001b[38;5;28;01mNone\u001b[39;00m \u001b[38;5;28;01melse\u001b[39;00m \u001b[38;5;28;43mself\u001b[39;49m\u001b[38;5;241;43m.\u001b[39;49m\u001b[43madd_subplot\u001b[49m\u001b[43m(\u001b[49m\u001b[43m)\u001b[49m\n",
      "File \u001b[0;32m/cds/sw/ds/ana/conda2/inst/envs/deeplearning8/lib/python3.9/site-packages/matplotlib/figure.py:745\u001b[0m, in \u001b[0;36mFigureBase.add_subplot\u001b[0;34m(self, *args, **kwargs)\u001b[0m\n\u001b[1;32m    742\u001b[0m         args \u001b[38;5;241m=\u001b[39m \u001b[38;5;28mtuple\u001b[39m(\u001b[38;5;28mmap\u001b[39m(\u001b[38;5;28mint\u001b[39m, \u001b[38;5;28mstr\u001b[39m(args[\u001b[38;5;241m0\u001b[39m])))\n\u001b[1;32m    743\u001b[0m     projection_class, pkw \u001b[38;5;241m=\u001b[39m \u001b[38;5;28mself\u001b[39m\u001b[38;5;241m.\u001b[39m_process_projection_requirements(\n\u001b[1;32m    744\u001b[0m         \u001b[38;5;241m*\u001b[39margs, \u001b[38;5;241m*\u001b[39m\u001b[38;5;241m*\u001b[39mkwargs)\n\u001b[0;32m--> 745\u001b[0m     ax \u001b[38;5;241m=\u001b[39m \u001b[43msubplot_class_factory\u001b[49m\u001b[43m(\u001b[49m\u001b[43mprojection_class\u001b[49m\u001b[43m)\u001b[49m\u001b[43m(\u001b[49m\u001b[38;5;28;43mself\u001b[39;49m\u001b[43m,\u001b[49m\u001b[43m \u001b[49m\u001b[38;5;241;43m*\u001b[39;49m\u001b[43margs\u001b[49m\u001b[43m,\u001b[49m\u001b[43m \u001b[49m\u001b[38;5;241;43m*\u001b[39;49m\u001b[38;5;241;43m*\u001b[39;49m\u001b[43mpkw\u001b[49m\u001b[43m)\u001b[49m\n\u001b[1;32m    746\u001b[0m     key \u001b[38;5;241m=\u001b[39m (projection_class, pkw)\n\u001b[1;32m    747\u001b[0m \u001b[38;5;28;01mreturn\u001b[39;00m \u001b[38;5;28mself\u001b[39m\u001b[38;5;241m.\u001b[39m_add_axes_internal(ax, key)\n",
      "File \u001b[0;32m/cds/sw/ds/ana/conda2/inst/envs/deeplearning8/lib/python3.9/site-packages/matplotlib/axes/_subplots.py:34\u001b[0m, in \u001b[0;36mSubplotBase.__init__\u001b[0;34m(self, fig, *args, **kwargs)\u001b[0m\n\u001b[1;32m     15\u001b[0m \u001b[38;5;124;03m\"\"\"\u001b[39;00m\n\u001b[1;32m     16\u001b[0m \u001b[38;5;124;03mParameters\u001b[39;00m\n\u001b[1;32m     17\u001b[0m \u001b[38;5;124;03m----------\u001b[39;00m\n\u001b[0;32m   (...)\u001b[0m\n\u001b[1;32m     31\u001b[0m \u001b[38;5;124;03m    Keyword arguments are passed to the Axes (sub)class constructor.\u001b[39;00m\n\u001b[1;32m     32\u001b[0m \u001b[38;5;124;03m\"\"\"\u001b[39;00m\n\u001b[1;32m     33\u001b[0m \u001b[38;5;66;03m# _axes_class is set in the subplot_class_factory\u001b[39;00m\n\u001b[0;32m---> 34\u001b[0m \u001b[38;5;28;43mself\u001b[39;49m\u001b[38;5;241;43m.\u001b[39;49m\u001b[43m_axes_class\u001b[49m\u001b[38;5;241;43m.\u001b[39;49m\u001b[38;5;21;43m__init__\u001b[39;49m\u001b[43m(\u001b[49m\u001b[38;5;28;43mself\u001b[39;49m\u001b[43m,\u001b[49m\u001b[43m \u001b[49m\u001b[43mfig\u001b[49m\u001b[43m,\u001b[49m\u001b[43m \u001b[49m\u001b[43m[\u001b[49m\u001b[38;5;241;43m0\u001b[39;49m\u001b[43m,\u001b[49m\u001b[43m \u001b[49m\u001b[38;5;241;43m0\u001b[39;49m\u001b[43m,\u001b[49m\u001b[43m \u001b[49m\u001b[38;5;241;43m1\u001b[39;49m\u001b[43m,\u001b[49m\u001b[43m \u001b[49m\u001b[38;5;241;43m1\u001b[39;49m\u001b[43m]\u001b[49m\u001b[43m,\u001b[49m\u001b[43m \u001b[49m\u001b[38;5;241;43m*\u001b[39;49m\u001b[38;5;241;43m*\u001b[39;49m\u001b[43mkwargs\u001b[49m\u001b[43m)\u001b[49m\n\u001b[1;32m     35\u001b[0m \u001b[38;5;66;03m# This will also update the axes position.\u001b[39;00m\n\u001b[1;32m     36\u001b[0m \u001b[38;5;28mself\u001b[39m\u001b[38;5;241m.\u001b[39mset_subplotspec(SubplotSpec\u001b[38;5;241m.\u001b[39m_from_subplot_args(fig, args))\n",
      "File \u001b[0;32m/cds/sw/ds/ana/conda2/inst/envs/deeplearning8/lib/python3.9/site-packages/matplotlib/axes/_base.py:653\u001b[0m, in \u001b[0;36m_AxesBase.__init__\u001b[0;34m(self, fig, rect, facecolor, frameon, sharex, sharey, label, xscale, yscale, box_aspect, **kwargs)\u001b[0m\n\u001b[1;32m    650\u001b[0m \u001b[38;5;28mself\u001b[39m\u001b[38;5;241m.\u001b[39mset_axisbelow(mpl\u001b[38;5;241m.\u001b[39mrcParams[\u001b[38;5;124m'\u001b[39m\u001b[38;5;124maxes.axisbelow\u001b[39m\u001b[38;5;124m'\u001b[39m])\n\u001b[1;32m    652\u001b[0m \u001b[38;5;28mself\u001b[39m\u001b[38;5;241m.\u001b[39m_rasterization_zorder \u001b[38;5;241m=\u001b[39m \u001b[38;5;28;01mNone\u001b[39;00m\n\u001b[0;32m--> 653\u001b[0m \u001b[38;5;28;43mself\u001b[39;49m\u001b[38;5;241;43m.\u001b[39;49m\u001b[43mclear\u001b[49m\u001b[43m(\u001b[49m\u001b[43m)\u001b[49m\n\u001b[1;32m    655\u001b[0m \u001b[38;5;66;03m# funcs used to format x and y - fall back on major formatters\u001b[39;00m\n\u001b[1;32m    656\u001b[0m \u001b[38;5;28mself\u001b[39m\u001b[38;5;241m.\u001b[39mfmt_xdata \u001b[38;5;241m=\u001b[39m \u001b[38;5;28;01mNone\u001b[39;00m\n",
      "File \u001b[0;32m/cds/sw/ds/ana/conda2/inst/envs/deeplearning8/lib/python3.9/site-packages/matplotlib/axes/_base.py:1348\u001b[0m, in \u001b[0;36m_AxesBase.clear\u001b[0;34m(self)\u001b[0m\n\u001b[1;32m   1346\u001b[0m     \u001b[38;5;28mself\u001b[39m\u001b[38;5;241m.\u001b[39mcla()\n\u001b[1;32m   1347\u001b[0m \u001b[38;5;28;01melse\u001b[39;00m:\n\u001b[0;32m-> 1348\u001b[0m     \u001b[38;5;28;43mself\u001b[39;49m\u001b[38;5;241;43m.\u001b[39;49m\u001b[43m__clear\u001b[49m\u001b[43m(\u001b[49m\u001b[43m)\u001b[49m\n",
      "File \u001b[0;32m/cds/sw/ds/ana/conda2/inst/envs/deeplearning8/lib/python3.9/site-packages/matplotlib/axes/_base.py:1310\u001b[0m, in \u001b[0;36m_AxesBase.__clear\u001b[0;34m(self)\u001b[0m\n\u001b[1;32m   1307\u001b[0m title_offset_points \u001b[38;5;241m=\u001b[39m mpl\u001b[38;5;241m.\u001b[39mrcParams[\u001b[38;5;124m'\u001b[39m\u001b[38;5;124maxes.titlepad\u001b[39m\u001b[38;5;124m'\u001b[39m]\n\u001b[1;32m   1308\u001b[0m \u001b[38;5;66;03m# refactor this out so it can be called in ax.set_title if\u001b[39;00m\n\u001b[1;32m   1309\u001b[0m \u001b[38;5;66;03m# pad argument used...\u001b[39;00m\n\u001b[0;32m-> 1310\u001b[0m \u001b[38;5;28;43mself\u001b[39;49m\u001b[38;5;241;43m.\u001b[39;49m\u001b[43m_set_title_offset_trans\u001b[49m\u001b[43m(\u001b[49m\u001b[43mtitle_offset_points\u001b[49m\u001b[43m)\u001b[49m\n\u001b[1;32m   1312\u001b[0m \u001b[38;5;28;01mfor\u001b[39;00m _title \u001b[38;5;129;01min\u001b[39;00m (\u001b[38;5;28mself\u001b[39m\u001b[38;5;241m.\u001b[39mtitle, \u001b[38;5;28mself\u001b[39m\u001b[38;5;241m.\u001b[39m_left_title, \u001b[38;5;28mself\u001b[39m\u001b[38;5;241m.\u001b[39m_right_title):\n\u001b[1;32m   1313\u001b[0m     \u001b[38;5;28mself\u001b[39m\u001b[38;5;241m.\u001b[39m_set_artist_props(_title)\n",
      "File \u001b[0;32m/cds/sw/ds/ana/conda2/inst/envs/deeplearning8/lib/python3.9/site-packages/matplotlib/axes/_base.py:1547\u001b[0m, in \u001b[0;36m_AxesBase._set_title_offset_trans\u001b[0;34m(self, title_offset_points)\u001b[0m\n\u001b[1;32m   1543\u001b[0m \u001b[38;5;28mself\u001b[39m\u001b[38;5;241m.\u001b[39mtitleOffsetTrans \u001b[38;5;241m=\u001b[39m mtransforms\u001b[38;5;241m.\u001b[39mScaledTranslation(\n\u001b[1;32m   1544\u001b[0m         \u001b[38;5;241m0.0\u001b[39m, title_offset_points \u001b[38;5;241m/\u001b[39m \u001b[38;5;241m72\u001b[39m,\n\u001b[1;32m   1545\u001b[0m         \u001b[38;5;28mself\u001b[39m\u001b[38;5;241m.\u001b[39mfigure\u001b[38;5;241m.\u001b[39mdpi_scale_trans)\n\u001b[1;32m   1546\u001b[0m \u001b[38;5;28;01mfor\u001b[39;00m _title \u001b[38;5;129;01min\u001b[39;00m (\u001b[38;5;28mself\u001b[39m\u001b[38;5;241m.\u001b[39mtitle, \u001b[38;5;28mself\u001b[39m\u001b[38;5;241m.\u001b[39m_left_title, \u001b[38;5;28mself\u001b[39m\u001b[38;5;241m.\u001b[39m_right_title):\n\u001b[0;32m-> 1547\u001b[0m     \u001b[43m_title\u001b[49m\u001b[38;5;241;43m.\u001b[39;49m\u001b[43mset_transform\u001b[49m\u001b[43m(\u001b[49m\u001b[38;5;28;43mself\u001b[39;49m\u001b[38;5;241;43m.\u001b[39;49m\u001b[43mtransAxes\u001b[49m\u001b[43m \u001b[49m\u001b[38;5;241;43m+\u001b[39;49m\u001b[43m \u001b[49m\u001b[38;5;28;43mself\u001b[39;49m\u001b[38;5;241;43m.\u001b[39;49m\u001b[43mtitleOffsetTrans\u001b[49m\u001b[43m)\u001b[49m\n\u001b[1;32m   1548\u001b[0m     _title\u001b[38;5;241m.\u001b[39mset_clip_box(\u001b[38;5;28;01mNone\u001b[39;00m)\n",
      "File \u001b[0;32m/cds/sw/ds/ana/conda2/inst/envs/deeplearning8/lib/python3.9/site-packages/matplotlib/artist.py:418\u001b[0m, in \u001b[0;36mArtist.set_transform\u001b[0;34m(self, t)\u001b[0m\n\u001b[1;32m    416\u001b[0m \u001b[38;5;28mself\u001b[39m\u001b[38;5;241m.\u001b[39m_transform \u001b[38;5;241m=\u001b[39m t\n\u001b[1;32m    417\u001b[0m \u001b[38;5;28mself\u001b[39m\u001b[38;5;241m.\u001b[39m_transformSet \u001b[38;5;241m=\u001b[39m \u001b[38;5;28;01mTrue\u001b[39;00m\n\u001b[0;32m--> 418\u001b[0m \u001b[38;5;28;43mself\u001b[39;49m\u001b[38;5;241;43m.\u001b[39;49m\u001b[43mpchanged\u001b[49m\u001b[43m(\u001b[49m\u001b[43m)\u001b[49m\n\u001b[1;32m    419\u001b[0m \u001b[38;5;28mself\u001b[39m\u001b[38;5;241m.\u001b[39mstale \u001b[38;5;241m=\u001b[39m \u001b[38;5;28;01mTrue\u001b[39;00m\n",
      "File \u001b[0;32m/cds/sw/ds/ana/conda2/inst/envs/deeplearning8/lib/python3.9/site-packages/matplotlib/artist.py:398\u001b[0m, in \u001b[0;36mArtist.pchanged\u001b[0;34m(self)\u001b[0m\n\u001b[1;32m    387\u001b[0m \u001b[38;5;28;01mdef\u001b[39;00m \u001b[38;5;21mpchanged\u001b[39m(\u001b[38;5;28mself\u001b[39m):\n\u001b[1;32m    388\u001b[0m     \u001b[38;5;124;03m\"\"\"\u001b[39;00m\n\u001b[1;32m    389\u001b[0m \u001b[38;5;124;03m    Call all of the registered callbacks.\u001b[39;00m\n\u001b[1;32m    390\u001b[0m \n\u001b[0;32m   (...)\u001b[0m\n\u001b[1;32m    396\u001b[0m \u001b[38;5;124;03m    remove_callback\u001b[39;00m\n\u001b[1;32m    397\u001b[0m \u001b[38;5;124;03m    \"\"\"\u001b[39;00m\n\u001b[0;32m--> 398\u001b[0m     \u001b[38;5;28;43mself\u001b[39;49m\u001b[38;5;241;43m.\u001b[39;49m\u001b[43m_callbacks\u001b[49m\u001b[38;5;241;43m.\u001b[39;49m\u001b[43mprocess\u001b[49m\u001b[43m(\u001b[49m\u001b[38;5;124;43m\"\u001b[39;49m\u001b[38;5;124;43mpchanged\u001b[39;49m\u001b[38;5;124;43m\"\u001b[39;49m\u001b[43m)\u001b[49m\n",
      "File \u001b[0;32m/cds/sw/ds/ana/conda2/inst/envs/deeplearning8/lib/python3.9/site-packages/matplotlib/cbook/__init__.py:303\u001b[0m, in \u001b[0;36mCallbackRegistry.process\u001b[0;34m(self, s, *args, **kwargs)\u001b[0m\n\u001b[1;32m    301\u001b[0m \u001b[38;5;28;01mif\u001b[39;00m \u001b[38;5;28mself\u001b[39m\u001b[38;5;241m.\u001b[39m_signals \u001b[38;5;129;01mis\u001b[39;00m \u001b[38;5;129;01mnot\u001b[39;00m \u001b[38;5;28;01mNone\u001b[39;00m:\n\u001b[1;32m    302\u001b[0m     _api\u001b[38;5;241m.\u001b[39mcheck_in_list(\u001b[38;5;28mself\u001b[39m\u001b[38;5;241m.\u001b[39m_signals, signal\u001b[38;5;241m=\u001b[39ms)\n\u001b[0;32m--> 303\u001b[0m \u001b[38;5;28;01mfor\u001b[39;00m cid, ref \u001b[38;5;129;01min\u001b[39;00m \u001b[38;5;28;43mlist\u001b[39;49m\u001b[43m(\u001b[49m\u001b[38;5;28;43mself\u001b[39;49m\u001b[38;5;241;43m.\u001b[39;49m\u001b[43mcallbacks\u001b[49m\u001b[38;5;241;43m.\u001b[39;49m\u001b[43mget\u001b[49m\u001b[43m(\u001b[49m\u001b[43ms\u001b[49m\u001b[43m,\u001b[49m\u001b[43m \u001b[49m\u001b[43m{\u001b[49m\u001b[43m}\u001b[49m\u001b[43m)\u001b[49m\u001b[38;5;241;43m.\u001b[39;49m\u001b[43mitems\u001b[49m\u001b[43m(\u001b[49m\u001b[43m)\u001b[49m\u001b[43m)\u001b[49m:\n\u001b[1;32m    304\u001b[0m     func \u001b[38;5;241m=\u001b[39m ref()\n\u001b[1;32m    305\u001b[0m     \u001b[38;5;28;01mif\u001b[39;00m func \u001b[38;5;129;01mis\u001b[39;00m \u001b[38;5;129;01mnot\u001b[39;00m \u001b[38;5;28;01mNone\u001b[39;00m:\n",
      "\u001b[0;31mKeyboardInterrupt\u001b[0m: "
     ]
    },
    {
     "data": {
      "text/plain": [
       "<Figure size 1400x700 with 0 Axes>"
      ]
     },
     "metadata": {},
     "output_type": "display_data"
    }
   ],
   "source": [
    "plt.figure(figsize=(14, 7))\n",
    "plt.plot(losses,'.-')\n",
    "print(m.Qs)"
   ]
  },
  {
   "cell_type": "code",
   "execution_count": 790,
   "id": "ea70cbf0-9260-43de-9ea3-dfc1d6719fec",
   "metadata": {},
   "outputs": [
    {
     "data": {
      "text/plain": [
       "(121,)"
      ]
     },
     "execution_count": 790,
     "metadata": {},
     "output_type": "execute_result"
    }
   ],
   "source": [
    "np.squeeze(spec.detach().numpy()[()]).shape"
   ]
  },
  {
   "cell_type": "code",
   "execution_count": 639,
   "id": "9c5080e6-0e93-4acf-bd82-561c0354d0c6",
   "metadata": {},
   "outputs": [
    {
     "data": {
      "text/plain": [
       "tensor(200., grad_fn=<MulBackward0>)"
      ]
     },
     "execution_count": 639,
     "metadata": {},
     "output_type": "execute_result"
    }
   ],
   "source": [
    "hm = Q[0][-1]\n",
    "hm = (hm*50)\n",
    "eV_idx = np.arange(2801)\n",
    "eV_idx = Tensor(eV_idx)\n",
    "hm"
   ]
  },
  {
   "cell_type": "code",
   "execution_count": 643,
   "id": "cc0d01b0-eabf-4efb-8581-d98590967db5",
   "metadata": {},
   "outputs": [
    {
     "name": "stdout",
     "output_type": "stream",
     "text": [
      "tensor([[0., 0., 0., 0., 0., 0., 0., 0., 0., 0., 0., 0., 0., 0., 0., 0., 0., 0., 0., 0., 0., 0., 0., 0.,\n",
      "         0., 0., 0., 0., 0., 0., 0., 0., 0., 0., 0., 0., 0., 0., 0., 0., 0., 0., 0., 0., 0., 0., 0., 0.,\n",
      "         0., 0., 0., 0., 0., 0., 0., 0., 0., 0., 0., 0., 0., 0., 0., 0., 0., 0., 0., 0., 0., 0., 0., 0.]])\n"
     ]
    }
   ],
   "source": [
    "print(Q.grad)"
   ]
  },
  {
   "cell_type": "code",
   "execution_count": 638,
   "id": "1a7d0786-62df-4405-97f1-ad89a26f7466",
   "metadata": {},
   "outputs": [
    {
     "name": "stdout",
     "output_type": "stream",
     "text": [
      "None\n"
     ]
    }
   ],
   "source": [
    "print(hm.grad)"
   ]
  },
  {
   "cell_type": "code",
   "execution_count": 367,
   "id": "e28e46e8-a758-43ff-af9f-fafa37f4d1d3",
   "metadata": {},
   "outputs": [
    {
     "data": {
      "text/plain": [
       "tensor(9)"
      ]
     },
     "execution_count": 367,
     "metadata": {},
     "output_type": "execute_result"
    }
   ],
   "source": [
    "eVshift_idx=torch.argmin((eV_idx-hm)**2)\n",
    "eVshift_idx"
   ]
  },
  {
   "cell_type": "code",
   "execution_count": 286,
   "id": "7252c434-53e1-4524-aaa1-c2e80cb87011",
   "metadata": {},
   "outputs": [
    {
     "data": {
      "text/plain": [
       "tensor(0.2000, grad_fn=<SelectBackward0>)"
      ]
     },
     "execution_count": 286,
     "metadata": {},
     "output_type": "execute_result"
    }
   ],
   "source": [
    "Q[0][-1]"
   ]
  },
  {
   "cell_type": "code",
   "execution_count": 61,
   "id": "0b0e4668-0928-4ac2-bc4f-4ebc2de7542d",
   "metadata": {},
   "outputs": [
    {
     "name": "stdout",
     "output_type": "stream",
     "text": [
      "torch.Size([1, 72])\n",
      "tensor(0, dtype=torch.int32)\n"
     ]
    },
    {
     "ename": "RuntimeError",
     "evalue": "Boolean value of Tensor with more than one value is ambiguous",
     "output_type": "error",
     "traceback": [
      "\u001b[0;31m---------------------------------------------------------------------------\u001b[0m",
      "\u001b[0;31mRuntimeError\u001b[0m                              Traceback (most recent call last)",
      "Cell \u001b[0;32mIn[61], line 73\u001b[0m\n\u001b[1;32m     70\u001b[0m \u001b[38;5;28mprint\u001b[39m(np\u001b[38;5;241m.\u001b[39mshape(Q))\n\u001b[1;32m     71\u001b[0m \u001b[38;5;28;01mfor\u001b[39;00m epoch \u001b[38;5;129;01min\u001b[39;00m \u001b[38;5;28mrange\u001b[39m(\u001b[38;5;28mint\u001b[39m(n_epochs)):\n\u001b[0;32m---> 73\u001b[0m     ll\u001b[38;5;241m=\u001b[39m\u001b[43mloss_tot_noQ\u001b[49m\u001b[43m(\u001b[49m\u001b[43mM\u001b[49m\u001b[43m,\u001b[49m\u001b[43mQ\u001b[49m\u001b[43m,\u001b[49m\u001b[43mNb\u001b[49m\u001b[43m,\u001b[49m\u001b[43mBpr\u001b[49m\u001b[43m,\u001b[49m\u001b[43mBpi\u001b[49m\u001b[43m,\u001b[49m\u001b[43mspec_in\u001b[49m\u001b[43m,\u001b[49m\u001b[43m \u001b[49m\u001b[43malphaw_r\u001b[49m\u001b[43m,\u001b[49m\u001b[43m \u001b[49m\u001b[43malphaw_i\u001b[49m\u001b[43m,\u001b[49m\u001b[43mM_wght\u001b[49m\u001b[43m,\u001b[49m\u001b[43mSpec_wght\u001b[49m\u001b[43m,\u001b[49m\u001b[43mSmooth_wght\u001b[49m\u001b[43m,\u001b[49m\u001b[43mthresh\u001b[49m\u001b[43m)\u001b[49m\n\u001b[1;32m     74\u001b[0m     loss_tot_noQ(M,Q,Nb,Bpr,Bpi,spec_in, alphaw_r, alphaw_i,M_wght,Spec_wght,Smooth_wght,thresh)\u001b[38;5;241m.\u001b[39mbackward()\n\u001b[1;32m     75\u001b[0m     \u001b[38;5;66;03m#ll=loss_tot(M,Q,Nb,Bpr,Bpi,bkg,alpha_vn,ts,tn,wm,Nt,Nw,5,1,1)\u001b[39;00m\n\u001b[1;32m     76\u001b[0m     \u001b[38;5;66;03m#loss_tot(M,Q,Nb,Bpr,Bpi,bkg,alpha_vn,ts,tn,wm,Nt,Nw,5,1,1).backward()\u001b[39;00m\n",
      "File \u001b[0;32m~/cVMI/torchrecon_funcs_cal_siqi.py:156\u001b[0m, in \u001b[0;36mloss_tot_noQ\u001b[0;34m(M, Q, Nb, Bpr, Bpi, spec, alphaw_r, alphaw_i, w1, w2, w3, thresh)\u001b[0m\n\u001b[1;32m    154\u001b[0m \u001b[38;5;28;01mdef\u001b[39;00m \u001b[38;5;21mloss_tot_noQ\u001b[39m(M,Q,Nb,Bpr,Bpi,spec, alphaw_r, alphaw_i,w1,w2,w3,thresh):\n\u001b[1;32m    155\u001b[0m \u001b[38;5;66;03m#     print(w1*loss_M(M,Q,Nb,Bpr,Bpi),w2*loss_t(Q,alpha_vn,ts,tn,wm,Nt,Nw,Nb),w3*loss_w(Q,alpha_vn,ts,tn,wm,Nt,Nw,Nb),loss_Q(Q))\u001b[39;00m\n\u001b[0;32m--> 156\u001b[0m     \u001b[38;5;28;01mreturn\u001b[39;00m w1\u001b[38;5;241m*\u001b[39mloss_M(M,Q,Nb,Bpr,Bpi,thresh)\u001b[38;5;241m+\u001b[39mw2\u001b[38;5;241m*\u001b[39m\u001b[43mloss_w\u001b[49m\u001b[43m(\u001b[49m\u001b[43mspec\u001b[49m\u001b[43m,\u001b[49m\u001b[43m \u001b[49m\u001b[43mQ\u001b[49m\u001b[43m,\u001b[49m\u001b[43m \u001b[49m\u001b[43malphaw_r\u001b[49m\u001b[43m,\u001b[49m\u001b[43m \u001b[49m\u001b[43malphaw_i\u001b[49m\u001b[43m,\u001b[49m\u001b[43mNb\u001b[49m\u001b[43m)\u001b[49m\n",
      "File \u001b[0;32m~/cVMI/torchrecon_funcs_cal_siqi.py:107\u001b[0m, in \u001b[0;36mloss_w\u001b[0;34m(spec, Q, alphaw_r, alphaw_i, Nb)\u001b[0m\n\u001b[1;32m    105\u001b[0m eVshift_idx \u001b[38;5;241m=\u001b[39m Tensor(\u001b[38;5;28mint\u001b[39m(eVshift\u001b[38;5;241m*\u001b[39m\u001b[38;5;241m50\u001b[39m))\u001b[38;5;241m.\u001b[39mint()\n\u001b[1;32m    106\u001b[0m \u001b[38;5;28mprint\u001b[39m(eVshift_idx[\u001b[38;5;241m0\u001b[39m])\n\u001b[0;32m--> 107\u001b[0m \u001b[38;5;28;01mif\u001b[39;00m eVshift_idx\u001b[38;5;241m>\u001b[39m\u001b[38;5;241m1340\u001b[39m: \n\u001b[1;32m    108\u001b[0m     eVshift_idx\u001b[38;5;241m=\u001b[39m\u001b[38;5;241m40\u001b[39m\u001b[38;5;66;03m#40 is found empirically\u001b[39;00m\n\u001b[1;32m    109\u001b[0m \u001b[38;5;28;01mif\u001b[39;00m eVshift_idx\u001b[38;5;241m<\u001b[39m\u001b[38;5;241m-\u001b[39m\u001b[38;5;241m1340\u001b[39m:\n",
      "\u001b[0;31mRuntimeError\u001b[0m: Boolean value of Tensor with more than one value is ambiguous"
     ]
    }
   ],
   "source": [
    "############################\n",
    "#loop through the images in preprocessed array\n",
    "# for k in range(mdat.shape[0]):\n",
    "for k in range(1):\n",
    "    for t in range(1):\n",
    "        tt = np.copy(t)\n",
    "        savefilename = os.path.join(savefiledir, 'pytorchrecon_'+str(k)+'_Up'+str(Ups[0])+'_seed'+str(tt)+'.npy')\n",
    "        if os.path.isfile(savefilename):\n",
    "            print(savefilename+' exists')\n",
    "            continue\n",
    "        else:\n",
    "            torch.manual_seed(t)\n",
    "        \n",
    "            m = mdat[k]*mask\n",
    "            spec = specdat[k]\n",
    "            outdict = {}\n",
    "            outdict['thresh'] = thresh\n",
    "            outdict['gfsig'] = gfsig\n",
    "            outdict['gfcart'] = gfcart\n",
    "            # outdict['mfn'] = mfn\n",
    "            # outdict['gfn'] = gfn\n",
    "            outdict['eshift'] = eshift\n",
    "            outdict['sc'] = sc\n",
    "            outdict['mask'] = mask\n",
    "            outdict['maskhm'] = maskhm\n",
    "\n",
    "            M=Variable(Tensor(m))\n",
    "            M=M/torch.sum(M)\n",
    "            #M=M.transpose(0,1)\n",
    "            t=Variable(Tensor(vNaxis_t))\n",
    "            ts=Variable(Tensor(vNaxis_t_sample))\n",
    "            #ts=torch.linspace(t[0][0],t[0][-1],int(1e3))\n",
    "            w=Variable(Tensor(vNaxis_w))\n",
    "            alphat_r=Variable(Tensor(np.real(alpha_t_sample)))#real part\n",
    "            alphat_i=Variable(Tensor(np.imag(alpha_t_sample)))#imaginary part\n",
    "\n",
    "            N = 2801\n",
    "            xf = np.arange(-N/2-1/2,N/2-1/2,1)/np.abs(vNaxis_t_sample[0])/2\n",
    "            eV = 1239.84*(2*np.pi*xf)/2.9979E8/(2*np.pi)*1e-9 \n",
    "            #Interpolate spec outside of the loop to match eV axis of the vNbases\n",
    "            # xeV = pix_2_eV(np.arange(1024), pixpereV = 22, spectra_hw0 = 0, spectra_pix0 = 512)\n",
    "            xeV = pix_2_eV(np.arange(1024), pixpereV = pixpereV, spectra_hw0 = 0, spectra_pix0 = 512)\n",
    "            xeV = xeV - eshift #correction if calibration is off\n",
    "            f = interp1d(xeV,spec, bounds_error=False, fill_value = 0)\n",
    "            spec_in = f(eV[1340:-1340])\n",
    "            \n",
    "            spec_in= Variable(Tensor(spec_in))\n",
    "            spec_in=spec_in/torch.max(spec_in)\n",
    "\n",
    "            # q = np.zeros((1,2*Nb-1))\n",
    "            q = np.zeros((1,2*Nb))\n",
    "            q[0][-1]=2\n",
    "            q[:,tt] = 1\n",
    "            Q = Tensor(q)\n",
    "            # print(np.shape(q),tt,len(Q),Q)\n",
    "            Q.requires_grad = True\n",
    "            \n",
    "            n_epochs=1.3e3\n",
    "            lr=1e-2\n",
    "            optimizer=torch.optim.Adam([Q],lr=lr)\n",
    "            costs = []\n",
    "            costM = []\n",
    "            costW = []\n",
    "            costS = []\n",
    "            costQ = []\n",
    "            eps = []\n",
    "            M_wght = 1\n",
    "            Spec_wght = 10#12 #1 #0.75 #0.8\n",
    "            Smooth_wght = 10#0.00001\n",
    "            print(np.shape(Q))\n",
    "            for epoch in range(int(n_epochs)):\n",
    "                \n",
    "                ll=loss_tot_noQ(M,Q,Nb,Bpr,Bpi,spec_in, alphaw_r, alphaw_i,M_wght,Spec_wght,Smooth_wght,thresh)\n",
    "                loss_tot_noQ(M,Q,Nb,Bpr,Bpi,spec_in, alphaw_r, alphaw_i,M_wght,Spec_wght,Smooth_wght,thresh).backward()\n",
    "                #ll=loss_tot(M,Q,Nb,Bpr,Bpi,bkg,alpha_vn,ts,tn,wm,Nt,Nw,5,1,1)\n",
    "                #loss_tot(M,Q,Nb,Bpr,Bpi,bkg,alpha_vn,ts,tn,wm,Nt,Nw,5,1,1).backward()\n",
    "                optimizer.step()\n",
    "                optimizer.zero_grad()\n",
    "                if epoch%100==0:\n",
    "                    #print(epoch,'total loss = '+str(ll),str(Q[0][0]))\n",
    "                    costs.append(ll.detach().numpy()[()])\n",
    "                    costM.append(loss_M(M,Q,Nb,Bpr,Bpi,thresh).detach().numpy()[()]*M_wght)\n",
    "                    costW.append(loss_w(spec_in, Q, alphaw_r, alphaw_i, Nb).detach().numpy()[()]*Spec_wght)\n",
    "                    #costS.append(loss_w_smooth(Q, alphaw_r, alphaw_i, Nb).detach().numpy()[()]*Smooth_wght)\n",
    "                    #costQ.append(0.1*loss_Q(Q,Nb).detach().numpy()[()])\n",
    "                    costS.append(0)\n",
    "                    costQ.append(0)\n",
    "                    eps.append(epoch)\n",
    "                if ll < lr:\n",
    "                    break\n"
   ]
  },
  {
   "cell_type": "code",
   "execution_count": 27,
   "id": "acc90684-1d07-4aad-ae76-60abe63eef87",
   "metadata": {},
   "outputs": [
    {
     "data": {
      "text/plain": [
       "tensor([1., 0., 0., 0., 0., 0., 0., 0., 0., 0., 0., 0., 0., 0., 0., 0., 0., 0.,\n",
       "        0., 0., 0., 0., 0., 0., 0., 0., 0., 0., 0., 0., 0., 0., 0., 0., 0., 0.,\n",
       "        0., 0., 0., 0., 0., 0., 0., 0., 0., 0., 0., 0., 0., 0., 0., 0., 0., 0.,\n",
       "        0., 0., 0., 0., 0., 0., 0., 0., 0., 0., 0., 0., 0., 0., 0., 0., 0., 2.],\n",
       "       grad_fn=<SelectBackward0>)"
      ]
     },
     "execution_count": 27,
     "metadata": {},
     "output_type": "execute_result"
    }
   ],
   "source": [
    "Q[0]"
   ]
  },
  {
   "cell_type": "code",
   "execution_count": 28,
   "id": "61664980-bf2d-465c-af75-59fa99a997b8",
   "metadata": {},
   "outputs": [
    {
     "data": {
      "text/plain": [
       "tensor(20590.8516, grad_fn=<AddBackward0>)"
      ]
     },
     "execution_count": 28,
     "metadata": {},
     "output_type": "execute_result"
    }
   ],
   "source": [
    "loss_w(spec_in, Q, alphaw_r, alphaw_i, Nb)"
   ]
  },
  {
   "cell_type": "code",
   "execution_count": 29,
   "id": "5a82788a-c443-4142-83c5-fd927ad84e13",
   "metadata": {},
   "outputs": [
    {
     "data": {
      "text/plain": [
       "tensor(279348.0625, grad_fn=<AddBackward0>)"
      ]
     },
     "execution_count": 29,
     "metadata": {},
     "output_type": "execute_result"
    }
   ],
   "source": [
    "loss_tot_noQ(M,Q,Nb,Bpr,Bpi,spec_in, alphaw_r, alphaw_i,M_wght,Spec_wght,Smooth_wght,thresh)"
   ]
  },
  {
   "cell_type": "code",
   "execution_count": null,
   "id": "907209c1-3051-449b-a788-7b953317d3a5",
   "metadata": {},
   "outputs": [],
   "source": []
  },
  {
   "cell_type": "code",
   "execution_count": null,
   "id": "db04b878-0b2f-44b5-bf19-3d2a22dd31ef",
   "metadata": {},
   "outputs": [],
   "source": []
  },
  {
   "cell_type": "code",
   "execution_count": null,
   "id": "42c4c7b8-4061-4cd3-b1d4-388305d66a8f",
   "metadata": {},
   "outputs": [],
   "source": []
  },
  {
   "cell_type": "code",
   "execution_count": null,
   "id": "19440b3a-37cf-47cc-9881-096a8ed10e62",
   "metadata": {},
   "outputs": [],
   "source": []
  },
  {
   "cell_type": "code",
   "execution_count": 15,
   "id": "3bcc5d8a-1ec0-415e-a253-57ea3794b70c",
   "metadata": {},
   "outputs": [],
   "source": [
    "def loss_w_s(spec, Q, alphaw_r, alphaw_i, Nb):\n",
    "    #spec is already smoothed, baseline subtracted and zero thresholded\n",
    "    print('hi')\n",
    "    Qr=Q[0][0:Nb]\n",
    "    Qr=Qr[None,:] #[1x36]\n",
    "    Qi=Q[0][Nb:2*Nb-1]\n",
    "    Qi=Qi[None,:]\n",
    "    x=Tensor([0])\n",
    "    Qi=torch.cat([x[:,None],Qi],1)\n",
    "    Qrt=torch.transpose(Qr,0,1)\n",
    "    Qit=torch.transpose(Qi,0,1)\n",
    "    eVshift = 20#Q[0][-1]\n",
    "    eVshift_idx = int(eVshift*50)\n",
    "    EwEw = (torch.mm(Qr,alphaw_r)-torch.mm(Qi,alphaw_i))**2+(torch.mm(Qr,alphaw_i)+torch.mm(Qi,alphaw_r))**2\n",
    "    if eVshift_idx>1340: \n",
    "        eVshift_idx=40\n",
    "    if eVshift_idx<-1340:\n",
    "        eVshift_idx=-40\n",
    "    print(eVshift_idx)\n",
    "    plt.figure()\n",
    "    EwEwlooktest=Tensor(EwEw[0][1340-0:-1340-0])\n",
    "    EwEwlook = Tensor(EwEw[0][1340-eVshift_idx:-1340-eVshift_idx])\n",
    "    print(np.shape(EwEw[0]))\n",
    "    plt.plot(EwEwlooktest.detach().numpy())\n",
    "    plt.plot(EwEwlook.detach().numpy())\n",
    "    plt.show()\n",
    "    EwEwlook=EwEwlook[None,:]\n",
    "    EwEwlook = EwEwlook/torch.max(EwEwlook)\n",
    "    #EwEwlook = EwEwlook*12.5\n",
    "    #spec = spec*12.5\n",
    "    return torch.sum(torch.abs(14*(EwEwlook-spec))**2) + torch.sum(torch.abs(2*(EwEwlook-spec)/(spec+0.1))**2)\n"
   ]
  },
  {
   "cell_type": "code",
   "execution_count": 16,
   "id": "0a767998-d9b9-4b71-a481-9d5b719a9838",
   "metadata": {},
   "outputs": [
    {
     "name": "stdout",
     "output_type": "stream",
     "text": [
      "hi\n",
      "1000\n",
      "torch.Size([2801])\n"
     ]
    },
    {
     "data": {
      "image/png": "[encoded data removed]",
      "text/plain": [
       "<Figure size 640x480 with 1 Axes>"
      ]
     },
     "metadata": {},
     "output_type": "display_data"
    },
    {
     "data": {
      "text/plain": [
       "tensor(8994.4561, grad_fn=<AddBackward0>)"
      ]
     },
     "execution_count": 16,
     "metadata": {},
     "output_type": "execute_result"
    }
   ],
   "source": [
    "loss_w_s(spec_in, Q, alphaw_r, alphaw_i, Nb)"
   ]
  },
  {
   "cell_type": "code",
   "execution_count": 29,
   "id": "91f2e41e-f689-4a64-b82a-c78b52770d4d",
   "metadata": {},
   "outputs": [
    {
     "ename": "ValueError",
     "evalue": "only one element tensors can be converted to Python scalars",
     "output_type": "error",
     "traceback": [
      "\u001b[0;31m---------------------------------------------------------------------------\u001b[0m",
      "\u001b[0;31mValueError\u001b[0m                                Traceback (most recent call last)",
      "Cell \u001b[0;32mIn[29], line 1\u001b[0m\n\u001b[0;32m----> 1\u001b[0m \u001b[38;5;28;43mint\u001b[39;49m\u001b[43m(\u001b[49m\u001b[43mQ\u001b[49m\u001b[43m[\u001b[49m\u001b[38;5;241;43m0\u001b[39;49m\u001b[43m]\u001b[49m\u001b[43m[\u001b[49m\u001b[38;5;241;43m0\u001b[39;49m\u001b[43m:\u001b[49m\u001b[38;5;241;43m10\u001b[39;49m\u001b[43m]\u001b[49m\u001b[38;5;241;43m*\u001b[39;49m\u001b[38;5;241;43m50\u001b[39;49m\u001b[43m)\u001b[49m\n",
      "\u001b[0;31mValueError\u001b[0m: only one element tensors can be converted to Python scalars"
     ]
    }
   ],
   "source": []
  },
  {
   "cell_type": "code",
   "execution_count": null,
   "id": "b6e07a91-9076-45a2-a88a-46f77882305a",
   "metadata": {},
   "outputs": [],
   "source": []
  },
  {
   "cell_type": "code",
   "execution_count": null,
   "id": "188282c1-6e8f-464b-a5c6-c0c2aabd16a2",
   "metadata": {},
   "outputs": [],
   "source": []
  },
  {
   "cell_type": "code",
   "execution_count": null,
   "id": "69aacdf4-0ef1-40ce-b6e4-811fb2a68a18",
   "metadata": {},
   "outputs": [],
   "source": []
  },
  {
   "cell_type": "code",
   "execution_count": 84,
   "id": "54533d16-b826-40ec-b6c7-a07d384540ef",
   "metadata": {},
   "outputs": [],
   "source": [
    "#setup parameters\n",
    "N_w=8\n",
    "N_t=8#vN lattice points in time and frequency\n",
    "N_basis=N_w*N_t;\n",
    "Np=64#image size\n",
    "hbar=6.6e-16;#in ev*s\n",
    "Ttot=10e-15;#total time for integration in s\n",
    "energy_x=80#xray energy in eV\n",
    "# Up=0.1#eV\n",
    "# I_A=np.sqrt(4*Up/27.2);#au,streaking laser vector potential strength, in a.u.. NOT U_p!!!\n",
    "tau_l=800e-9/3e8;#streaking laser period in s\n",
    "Kmax=0.001249*512**2/27.2#defines the max energy on the edge of the detector, in au\n",
    "T=tau_l#range for vN time axis\n",
    "if energy_x<100:\n",
    "    alpha, vNaxis, temp=vN.vNbasis_nonlinear(T, N_w, N_t,200,2000,1000,Ttot);\n",
    "else:\n",
    "    alpha, vNaxis, temp=vN.vNbasis_nonlinear(T, N_w, N_t,400,4000,2000,Ttot);\n",
    "alpha_tdata=alpha['t_sample']\n",
    "alpha_tdata=alpha_tdata/np.max(np.abs(alpha_tdata))\n",
    "alpha_t_sample=alpha_tdata\n",
    "vNaxis_t_sample=vNaxis['t_sample']"
   ]
  },
  {
   "cell_type": "code",
   "execution_count": 85,
   "id": "cdb19369-d026-43ea-9d24-1a8b7042fd4a",
   "metadata": {},
   "outputs": [],
   "source": [
    "Up = Ups \n",
    "# filename = 'Bpbasis_Np' + str(Np) + '_Nw' + str(N_w) +'_Nt' + str(N_t) + '_Up' + str(Up)+'.npy'\n",
    "filename='Bpbasis_Up_'+str(Up)+'eV.npy'\n",
    "Bp_basis = np.load(basesdir+filename, allow_pickle=True)\n",
    "Breal = np.real(Bp_basis)\n",
    "Bimag = np.imag(Bp_basis)\n",
    "\n",
    "# alpha_t_sample=np.load('/reg/d/psdm/tmo/tmoc00118/results/siqili/basis_functions/alpha_t_sample.npy')\n",
    "# vNaxis_t=np.load('/reg/d/psdm/tmo/tmoc00118/results/siqili/basis_functions/vNaxis_t.npy')\n",
    "# vNaxis_t_sample=np.load('/reg/d/psdm/tmo/tmoc00118/results/siqili/basis_functions/vNaxis_t_sample.npy')\n",
    "# vNaxis_w=np.load('/reg/d/psdm/tmo/tmoc00118/results/siqili/basis_functions/vNaxis_w.npy')\n",
    "\n",
    "alphw = np.zeros(alpha_t_sample.shape, dtype = complex)\n",
    "for i in range(len(alphw)):\n",
    "    f = interp1d(vNaxis_t_sample, alpha_t_sample[i], fill_value = 0, bounds_error = False)\n",
    "    N = 2801 #1024\n",
    "    ts = np.linspace(vNaxis_t_sample[0],-vNaxis_t_sample[0], N)\n",
    "    alphw[i] = np.fft.ifftshift(np.fft.ifft(f(ts)))\n",
    "\n",
    "Bpr=Variable(Tensor(Breal))\n",
    "Bpi=Variable(Tensor(Bimag))"
   ]
  },
  {
   "cell_type": "code",
   "execution_count": 86,
   "id": "98c13de2-3f0f-4bcb-affc-439090f0b927",
   "metadata": {},
   "outputs": [],
   "source": [
    "k=1\n",
    "t=0\n",
    "\n",
    "tt = np.copy(t)\n",
    "savefilename = os.path.join(savefiledir, 'pytorchrecon_'+str(k)+'_Up'+str(Ups)+'_seed'+str(tt)+'.npy')\n",
    "if os.path.isfile(savefilename):\n",
    "    print(savefilename+' exists')\n",
    "else:\n",
    "    torch.manual_seed(t)\n",
    "        \n",
    "    m = mdat[k]*mask\n",
    "    spec = specdat[k]\n",
    "\n",
    "\n",
    "    M=Variable(Tensor(m))\n",
    "    M=M/torch.sum(M)\n",
    "            #M=M.transpose(0,1)\n",
    "    t=Variable(Tensor(vNaxis_t))\n",
    "    ts=Variable(Tensor(vNaxis_t_sample))\n",
    "            #ts=torch.linspace(t[0][0],t[0][-1],int(1e3))\n",
    "    w=Variable(Tensor(vNaxis_w))\n",
    "    alphat_r=Variable(Tensor(np.real(alpha_t_sample)))#real part\n",
    "    alphat_i=Variable(Tensor(np.imag(alpha_t_sample)))#imaginary part\n",
    "\n",
    "    N = 2801\n",
    "    xf = np.arange(-N/2-1/2,N/2-1/2,1)/np.abs(vNaxis_t_sample[0])/2\n",
    "    eV = 1239.84*(2*np.pi*xf)/2.9979E8/(2*np.pi)*1e-9 \n",
    "            #Interpolate spec outside of the loop to match eV axis of the vNbases\n",
    "            # xeV = pix_2_eV(np.arange(1024), pixpereV = 22, spectra_hw0 = 0, spectra_pix0 = 512)\n",
    "    xeV = pix_2_eV(np.arange(1024), pixpereV = 4.692055975830744, spectra_hw0 = 0, spectra_pix0 = 512)\n",
    "    xeV = xeV - eshift #correction if calibration is off\n",
    "    f = interp1d(xeV,spec, bounds_error=False, fill_value = 0)\n",
    "    spec_in = f(eV[1340:-1340])\n",
    "            \n",
    "    spec_in= Variable(Tensor(spec_in))\n",
    "    spec_in=spec_in/torch.max(spec_in)"
   ]
  },
  {
   "cell_type": "code",
   "execution_count": 87,
   "id": "e03320eb-a941-4e56-9c3b-d89ec747d3a5",
   "metadata": {},
   "outputs": [
    {
     "data": {
      "image/png": "[encoded data removed]",
      "text/plain": [
       "<Figure size 640x480 with 1 Axes>"
      ]
     },
     "metadata": {},
     "output_type": "display_data"
    }
   ],
   "source": [
    "plt.plot(eV[1340:-1340],spec_in)\n",
    "plt.grid()"
   ]
  },
  {
   "cell_type": "code",
   "execution_count": null,
   "id": "67a7d12d-5d4d-4332-89c2-70af3dae650e",
   "metadata": {},
   "outputs": [],
   "source": []
  },
  {
   "cell_type": "code",
   "execution_count": 127,
   "id": "a1eaac6b-e2a5-43ae-96b9-30f0a7001bf4",
   "metadata": {},
   "outputs": [],
   "source": [
    "Ups = 0.0\n",
    "\n",
    "#correction factor if the spectra calibration are off. 0 and 1 if calibration is correct\n",
    "eshift = 0  \n",
    "sc = 1\n",
    "\n",
    "#smoothing applied to the vNbases image to try to make it match the measured\n",
    "gfsig = 0.5#0.985 \n",
    "gfcart = 0.1#0.25 \n",
    "mfcart = 1\n",
    "\n",
    "thresh = 0.0005 #small number to set everything below to zero for M/sum(M)\n",
    "\n",
    "Bps = []\n",
    "alphas = []\n",
    "vNaxis = []\n",
    "\n",
    "Np = 64#128\n",
    "N_w=8#6\n",
    "N_t=8#6 \n",
    "hbar=6.6e-16 #eV*s\n",
    "Nb=N_t*N_w"
   ]
  },
  {
   "cell_type": "code",
   "execution_count": 128,
   "id": "12adcd89-af13-4d1c-b32b-2d87e9842b4e",
   "metadata": {},
   "outputs": [
    {
     "data": {
      "text/plain": [
       "(4096, 4096)"
      ]
     },
     "execution_count": 128,
     "metadata": {},
     "output_type": "execute_result"
    }
   ],
   "source": [
    "Up = Ups  \n",
    "# filename = 'Bpbasis_Np' + str(Np) + '_Nw' + str(N_w) +'_Nt' + str(N_t) + '_Up' + str(Up)+'.npy'\n",
    "filename='Bpbasis_Up_'+str(Up)+'eV.npy'\n",
    "Bp_basis = np.load(basesdir+filename, allow_pickle=True)\n",
    "np.shape(Bp_basis)"
   ]
  },
  {
   "cell_type": "code",
   "execution_count": 129,
   "id": "e94c26a2-c690-47ab-8318-e75d0fc735fb",
   "metadata": {},
   "outputs": [],
   "source": [
    "Breal = np.real(Bp_basis)\n",
    "Bimag = np.imag(Bp_basis)\n",
    "\n",
    "alpha_t_sample=np.load('/reg/d/psdm/tmo/tmoc00118/results/siqili/basis_functions/alpha_t_sample.npy')\n",
    "vNaxis_t=np.load('/reg/d/psdm/tmo/tmoc00118/results/siqili/basis_functions/vNaxis_t.npy')\n",
    "vNaxis_t_sample=np.load('/reg/d/psdm/tmo/tmoc00118/results/siqili/basis_functions/vNaxis_t_sample.npy')\n",
    "vNaxis_w=np.load('/reg/d/psdm/tmo/tmoc00118/results/siqili/basis_functions/vNaxis_w.npy')\n",
    "\n",
    "alphw = np.zeros(alpha_t_sample.shape, dtype = complex)\n",
    "for i in range(len(alphw)):\n",
    "    f = interp1d(vNaxis_t_sample, alpha_t_sample[i], fill_value = 0, bounds_error = False)\n",
    "    N = 2801 #1024\n",
    "    ts = np.linspace(vNaxis_t_sample[0],-vNaxis_t_sample[0], N)\n",
    "    alphw[i] = np.fft.ifftshift(np.fft.ifft(f(ts)))\n"
   ]
  },
  {
   "cell_type": "code",
   "execution_count": 130,
   "id": "151704e8-c3a0-43dd-95b7-c4acb6baa105",
   "metadata": {},
   "outputs": [],
   "source": [
    "alphaw_r=Variable(Tensor(np.real(alphw)))#real part\n",
    "alphaw_i=Variable(Tensor(np.imag(alphw)))#imaginary part\n",
    "\n",
    "Np = 64\n",
    "for j in range(Breal.shape[0]):\n",
    "    temp=np.reshape(Breal[j,:],[Np,Np])\n",
    "    polimg = PR.cart2pol(temp,32,32)\n",
    "    bb = np.zeros((64,64))\n",
    "    bb[1:64,1:64]= PR.pol2cart(scimg.gaussian_filter(polimg,[gfsig,0]))\n",
    "    Breal[j,:]=Variable(Tensor(np.reshape(bb*mask,newshape=(1,Np**2))))\n",
    "    #temp=scimg.filters.gaussian_filter(temp,0.8889)\n",
    "    #Bpr[j,:]=Variable(Tensor(np.reshape(temp,newshape=(1,Np**2))))\n",
    "    temp=np.reshape(Bimag[j,:],[Np,Np])\n",
    "    polimg = PR.cart2pol(temp,32,32)\n",
    "    bb = np.zeros((64,64))\n",
    "    bb[1:64,1:64]= PR.pol2cart(scimg.gaussian_filter(polimg,[gfsig,0]))\n",
    "    Bimag[j,:]=Variable(Tensor(np.reshape(bb*mask,newshape=(1,Np**2))))\n",
    "    #temp=scimg.filters.gaussian_filter(temp,0.8889)\n",
    "    #Bpi[j,:]=Variable(Tensor(np.reshape(temp,newshape=(1,Np**2))))\n",
    "    \n",
    "Bpr=Variable(Tensor(Breal))\n",
    "Bpi=Variable(Tensor(Bimag))"
   ]
  },
  {
   "cell_type": "code",
   "execution_count": 131,
   "id": "5787e474-d73a-4194-b590-286f5148b6e3",
   "metadata": {},
   "outputs": [],
   "source": [
    "Bp=Bpr+1j*Bpi"
   ]
  },
  {
   "cell_type": "code",
   "execution_count": 132,
   "id": "f2890d07-2465-4b67-bdf7-c90bad15e5c4",
   "metadata": {},
   "outputs": [
    {
     "data": {
      "text/plain": [
       "<matplotlib.collections.QuadMesh at 0x7f0ec5536bb0>"
      ]
     },
     "execution_count": 132,
     "metadata": {},
     "output_type": "execute_result"
    },
    {
     "data": {
      "image/png": "[encoded data removed]",
      "text/plain": [
       "<Figure size 640x480 with 1 Axes>"
      ]
     },
     "metadata": {},
     "output_type": "display_data"
    }
   ],
   "source": [
    "plt.pcolormesh(np.abs(np.reshape(Bp[0,:],[64,64])))"
   ]
  },
  {
   "cell_type": "code",
   "execution_count": 27,
   "id": "f7629c83-03a2-4ed6-99a5-2142b5f60727",
   "metadata": {},
   "outputs": [
    {
     "data": {
      "text/plain": [
       "<matplotlib.collections.QuadMesh at 0x7f0f131c1490>"
      ]
     },
     "execution_count": 27,
     "metadata": {},
     "output_type": "execute_result"
    },
    {
     "data": {
      "image/png": "[encoded data removed]",
      "text/plain": [
       "<Figure size 640x480 with 1 Axes>"
      ]
     },
     "metadata": {},
     "output_type": "display_data"
    }
   ],
   "source": [
    "plt.pcolormesh(np.abs(np.reshape(Bp[0,:],[64,64])))"
   ]
  },
  {
   "cell_type": "code",
   "execution_count": 28,
   "id": "43879ca7-c6a4-48af-b9d2-2c457036265a",
   "metadata": {},
   "outputs": [],
   "source": [
    "import h5py"
   ]
  },
  {
   "cell_type": "code",
   "execution_count": 56,
   "id": "40c75c40-86ee-43d6-a2d9-49cdc67f5dab",
   "metadata": {},
   "outputs": [],
   "source": [
    "d=h5py.File('/reg/d/psdm/tmo/tmoc00118/hdf5/smalldata/tmoc00118_Run0469.h5','r')"
   ]
  },
  {
   "cell_type": "code",
   "execution_count": 57,
   "id": "df82695a-c072-4331-ada0-41c66a3e83ac",
   "metadata": {},
   "outputs": [
    {
     "data": {
      "text/plain": [
       "<KeysViewHDF5 ['Sample', 'Sums', 'UserDataCfg', 'andor', 'epics', 'epicsAll', 'hsd', 'lightStatus', 'retardationVoltages', 'timestamp', 'timing']>"
      ]
     },
     "execution_count": 57,
     "metadata": {},
     "output_type": "execute_result"
    }
   ],
   "source": [
    "d.keys()"
   ]
  },
  {
   "cell_type": "code",
   "execution_count": 64,
   "id": "2c176161-b713-466d-b2f9-472e6f03dbb4",
   "metadata": {},
   "outputs": [
    {
     "data": {
      "text/plain": [
       "<KeysViewHDF5 ['AT1K0_PressureSetPt', 'AT1K0_VCN70_PosReq', 'AT1K0_actual_GasAttenTrans', 'AT1K0_photon_energy', 'AT1K0_set_GasAttenTrans', 'GMD_CrossSection', 'GMD_ElectronFaradayCup', 'GMD_ElectronMesh', 'GMD_ElectronMultiplier', 'GMD_IonMesh', 'GMD_Keithley_Sum', 'GMD_MeanCharge', 'GMD_PressureCalc', 'GMD_Temp_rbv', 'IM2K4_XrayPower', 'IM3K4_XrayPower', 'IM4K4_XrayPower', 'IM5K4_XrayPower', 'Keithley_1_xgmd', 'Keithley_2_xgmd', 'Keithley_gmd', 'MR1K4_pitch', 'MR1K4_xup', 'MR1K4_yup', 'MR2K4_bender_ds', 'MR2K4_bender_us', 'MR2K4_pitch', 'MR2K4_x', 'MR2K4_y', 'MR3K4_bender_ds', 'MR3K4_bender_us', 'MR3K4_pitch', 'MR3K4_x', 'MR3K4_y', 'Machine', 'PF1K4_y', 'PF1K4_z', 'Port_0_Anode', 'Port_0_Back_Mesh', 'Port_0_Blade_22', 'Port_0_Blade_25', 'Port_0_Front_Mesh', 'Port_0_MCP_Back', 'Port_0_MCP_Front', 'Port_0_Nose', 'Port_12_Anode', 'Port_12_Back_Mesh', 'Port_12_Blade_22', 'Port_12_Blade_25', 'Port_12_Front_Mesh', 'Port_12_MCP_Back', 'Port_12_MCP_Front', 'Port_12_Nose', 'Port_13_Anode', 'Port_13_Back_Mesh', 'Port_13_Blade_22', 'Port_13_Blade_25', 'Port_13_Front_Mesh', 'Port_13_MCP_Back', 'Port_13_MCP_Front', 'Port_13_Nose', 'Port_14_Anode', 'Port_14_Back_Mesh', 'Port_14_Blade_22', 'Port_14_Blade_25', 'Port_14_Front_Mesh', 'Port_14_MCP_Back', 'Port_14_MCP_Front', 'Port_14_Nose', 'Port_15_Anode', 'Port_15_Back_Mesh', 'Port_15_Blade_22', 'Port_15_Blade_25', 'Port_15_Front_Mesh', 'Port_15_MCP_Back', 'Port_15_MCP_Front', 'Port_15_Nose', 'Port_16_Anode', 'Port_16_MCP_Back', 'Port_16_MCP_Front', 'Port_1_Anode', 'Port_1_Back_Mesh', 'Port_1_Blade_22', 'Port_1_Blade_25', 'Port_1_Front_Mesh', 'Port_1_MCP_Back', 'Port_1_MCP_Front', 'Port_1_Nose', 'Port_2_Anode', 'Port_2_MCP_Back', 'Port_2_MCP_Front', 'Port_4_Anode', 'Port_4_Back_Mesh', 'Port_4_Blade_22', 'Port_4_Blade_25', 'Port_4_Front_Mesh', 'Port_4_MCP_Back', 'Port_4_MCP_Front', 'Port_4_Nose', 'Port_5_Anode', 'Port_5_Back_Mesh', 'Port_5_Blade_22', 'Port_5_Blade_25', 'Port_5_Front_Mesh', 'Port_5_MCP_Back', 'Port_5_MCP_Front', 'Port_5_Nose', 'StaleFlags', 'XGMD_CrossSection', 'XGMD_ElectronFaradayCup', 'XGMD_ElectronMesh', 'XGMD_ElectronMultiplier', 'XGMD_IonMesh', 'XGMD_KeithleySum', 'XGMD_MeanCharge', 'XGMD_Pressure', 'XGMD_Temp', 'ebeam_energy_act', 'ebeam_energy_des', 'evr_ch0_delay', 'evr_ch0_ec', 'milliJoulesPerPulse_gmd', 'milliJoulesPerPulse_xgmd', 'mrco_mainpress', 'pf1k0_y', 'pf1k0_z', 'scan_var_A0325', 'scan_var_A0327', 'sxrss_bend_bact', 'sxrss_bend_bctrl', 'sxrss_bend_bdes', 'sxrss_delay', 'vls_camera_pitch', 'vls_focus_mirror', 'vls_grating_pitch', 'vls_slits_disp_center', 'vls_slits_disp_gap', 'vls_slits_nondisp_center', 'vls_slits_nondisp_gap']>"
      ]
     },
     "execution_count": 64,
     "metadata": {},
     "output_type": "execute_result"
    }
   ],
   "source": [
    "dd=np.array(d['epicsAll']['vls_camera_pitch'])\n",
    "d['epicsAll'].keys()"
   ]
  },
  {
   "cell_type": "code",
   "execution_count": 88,
   "id": "f1a3eb6b-7ebd-488e-9c3a-44f5874bed4d",
   "metadata": {},
   "outputs": [
    {
     "data": {
      "text/plain": [
       "2"
      ]
     },
     "execution_count": 88,
     "metadata": {},
     "output_type": "execute_result"
    }
   ],
   "source": [
    "1+1"
   ]
  },
  {
   "cell_type": "code",
   "execution_count": 107,
   "id": "6dbfb65c-14ea-4fe9-a286-e766c75cadec",
   "metadata": {},
   "outputs": [],
   "source": [
    "N = 2801\n",
    "spec = specdat[0]\n",
    "xf = np.arange(-N/2-1/2,N/2-1/2,1)/np.abs(vNaxis_t_sample[0])/2\n",
    "eV = 1239.84*(2*np.pi*xf)/2.9979E8/(2*np.pi)*1e-9 \n",
    "            #Interpolate spec outside of the loop to match eV axis of the vNbases\n",
    "            # xeV = pix_2_eV(np.arange(1024), pixpereV = 22, spectra_hw0 = 0, spectra_pix0 = 512)\n",
    "xeV = pix_2_eV(np.arange(500), pixpereV = 29.47114275748641, spectra_hw0 = 0, spectra_pix0 = 250)\n",
    "xeV = xeV - eshift #correction if calibration is off\n",
    "f = interp1d(xeV,spec, bounds_error=False, fill_value = 0)\n",
    "spec_in = f(eV[1340:-1340])"
   ]
  },
  {
   "cell_type": "code",
   "execution_count": null,
   "id": "397442e6-c664-4aa1-b7b3-ec9abad3aba0",
   "metadata": {},
   "outputs": [],
   "source": [
    "sbatch -p psanaq --nodes 2 --ntasks-per-node 3 --wrap=\"mpirun python itorch_recon_clean_siqi.py 0.05\""
   ]
  },
  {
   "cell_type": "code",
   "execution_count": 9,
   "id": "ba672bf9-2fec-405e-a1c6-1d8562fb7515",
   "metadata": {},
   "outputs": [
    {
     "name": "stdout",
     "output_type": "stream",
     "text": [
      "(72,)\n",
      "(72,)\n",
      "(72,)\n"
     ]
    }
   ],
   "source": [
    "%run itorch_recon_clean_siqi.py 0"
   ]
  },
  {
   "cell_type": "code",
   "execution_count": 10,
   "id": "6452f00f-d9b0-4cfe-bf9b-372ffb692e3d",
   "metadata": {},
   "outputs": [
    {
     "name": "stdout",
     "output_type": "stream",
     "text": [
      "(72,)\n",
      "(72,)\n"
     ]
    }
   ],
   "source": [
    "%run itorch_recon_clean_siqi.py 0.05"
   ]
  },
  {
   "cell_type": "code",
   "execution_count": 11,
   "id": "9be33eb8-276c-4da3-9d23-b795e790311f",
   "metadata": {},
   "outputs": [
    {
     "name": "stdout",
     "output_type": "stream",
     "text": [
      "(72,)\n",
      "(72,)\n",
      "(72,)\n"
     ]
    }
   ],
   "source": [
    "%run itorch_recon_clean_siqi.py 0.1"
   ]
  },
  {
   "cell_type": "code",
   "execution_count": 12,
   "id": "e97c2d86-fa7a-489b-89e3-9a26e57a1d90",
   "metadata": {},
   "outputs": [
    {
     "name": "stdout",
     "output_type": "stream",
     "text": [
      "(72,)\n",
      "(72,)\n",
      "(72,)\n"
     ]
    }
   ],
   "source": [
    "%run itorch_recon_clean_siqi.py 0.15"
   ]
  },
  {
   "cell_type": "code",
   "execution_count": 17,
   "id": "34abccd9-81e0-40ba-89b3-742ba3a79c80",
   "metadata": {},
   "outputs": [],
   "source": [
    "#update mask for your experiment\n",
    "X,Y=np.meshgrid(np.arange(1024),np.arange(1024))\n",
    "rs=np.sqrt((X-512)**2+(Y-512)**2)\n",
    "maskhm=np.zeros((1024,1024))\n",
    "# maskhm[(rs>325-30) & (rs<420)]=1\n",
    "maskhm[rs>1*120]=1\n",
    "mask = rebin(rebin(maskhm,4),4)"
   ]
  },
  {
   "cell_type": "code",
   "execution_count": 18,
   "id": "252bad05-1951-48cd-a948-b6668fba6171",
   "metadata": {},
   "outputs": [
    {
     "data": {
      "text/plain": [
       "<matplotlib.collections.QuadMesh at 0x7f11187e52e0>"
      ]
     },
     "execution_count": 18,
     "metadata": {},
     "output_type": "execute_result"
    },
    {
     "data": {
      "image/png": "[encoded data removed]",
      "text/plain": [
       "<Figure size 640x480 with 1 Axes>"
      ]
     },
     "metadata": {},
     "output_type": "display_data"
    }
   ],
   "source": [
    "plt.pcolormesh(mask)"
   ]
  },
  {
   "cell_type": "code",
   "execution_count": null,
   "id": "4dbbb555-c845-4495-a1a7-7a427a984022",
   "metadata": {},
   "outputs": [],
   "source": []
  }
 ],
 "metadata": {
  "kernelspec": {
   "display_name": "Deeplearning8 py3",
   "language": "python",
   "name": "deeplearning8"
  },
  "language_info": {
   "codemirror_mode": {
    "name": "ipython",
    "version": 3
   },
   "file_extension": ".py",
   "mimetype": "text/x-python",
   "name": "python",
   "nbconvert_exporter": "python",
   "pygments_lexer": "ipython3",
   "version": "3.9.15"
  }
 },
 "nbformat": 4,
 "nbformat_minor": 5
}
