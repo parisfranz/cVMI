{
 "cells": [
  {
   "cell_type": "code",
   "execution_count": 1,
   "id": "04436cf5-9f10-46b3-91ff-40c7a826612a",
   "metadata": {},
   "outputs": [],
   "source": [
    "%load_ext autoreload\n",
    "%autoreload 2"
   ]
  },
  {
   "cell_type": "code",
   "execution_count": 36,
   "id": "e5bece14-40de-4204-aedf-9dc19bcceafb",
   "metadata": {},
   "outputs": [],
   "source": [
    "!mkdir /reg/d/psdm/tmo/tmox51020/results/paris/recon/torch_Jun15_unstreaked_dw0"
   ]
  },
  {
   "cell_type": "code",
   "execution_count": 37,
   "id": "2490ace4-842e-43e1-a9b4-224d75d65e3e",
   "metadata": {},
   "outputs": [
    {
     "name": "stdout",
     "output_type": "stream",
     "text": [
      "one done, eshift 1 for exp, 0 for sim\n",
      "one done, eshift 1 for exp, 0 for sim\n",
      "one done, eshift 1 for exp, 0 for sim\n",
      "one done, eshift 1 for exp, 0 for sim\n",
      "one done, eshift 1 for exp, 0 for sim\n"
     ]
    }
   ],
   "source": [
    "%run itorch_hole_dw0 0"
   ]
  },
  {
   "cell_type": "code",
   "execution_count": null,
   "id": "be31cccd-19a3-4d95-ba2c-5f6e890235cb",
   "metadata": {},
   "outputs": [],
   "source": [
    "%run itorch_hole_dw0 0.2"
   ]
  },
  {
   "cell_type": "code",
   "execution_count": null,
   "id": "b42ae470-4132-40c8-9da9-ecb31dc3c7ce",
   "metadata": {},
   "outputs": [],
   "source": []
  }
 ],
 "metadata": {
  "kernelspec": {
   "display_name": "Deeplearning8 py3",
   "language": "python",
   "name": "deeplearning8"
  },
  "language_info": {
   "codemirror_mode": {
    "name": "ipython",
    "version": 3
   },
   "file_extension": ".py",
   "mimetype": "text/x-python",
   "name": "python",
   "nbconvert_exporter": "python",
   "pygments_lexer": "ipython3",
   "version": "3.9.15"
  }
 },
 "nbformat": 4,
 "nbformat_minor": 5
}
