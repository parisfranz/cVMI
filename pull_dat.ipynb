{
 "cells": [
  {
   "cell_type": "code",
   "execution_count": 1,
   "id": "7d3184ce-b84b-4d9c-9497-283e07df7759",
   "metadata": {},
   "outputs": [],
   "source": [
    "%load_ext autoreload\n",
    "%autoreload 2"
   ]
  },
  {
   "cell_type": "code",
   "execution_count": 2,
   "id": "4e149d28-66f1-40e8-aa52-ff1184bc292c",
   "metadata": {},
   "outputs": [],
   "source": [
    "import numpy as np\n",
    "import sys\n",
    "import h5py\n",
    "#sys.path.append('/reg/neh/home/tdd14/tmo_repo') #this is a temporary home for the general TMO analysis code\n",
    "sys.path.append('/cds/home/p/paris/reconVMI')\n",
    "import psana as ps\n",
    "from matplotlib import pyplot as plt\n",
    "from tqdm import tqdm\n",
    "\n",
    "from matplotlib import cm\n",
    "import sys\n",
    "sys.path.append('/reg/neh/home/tdd14/modules/cart2pol/cart2pol')\n",
    "from datetime import datetime\n",
    "import cv2"
   ]
  },
  {
   "cell_type": "code",
   "execution_count": 19,
   "id": "873b42c4-e4f5-47f3-a3cd-46eef250aae4",
   "metadata": {},
   "outputs": [],
   "source": [
    "exp = \"tmox51020\" #\"tmoly9120\" #'tmox45719'\n",
    "runnum = 125 #122 #121 #112 #105 #76 #73 LY91, 141"
   ]
  },
  {
   "cell_type": "code",
   "execution_count": 23,
   "id": "c3a95391-2465-424f-8067-a071f716786a",
   "metadata": {},
   "outputs": [
    {
     "data": {
      "text/plain": [
       "{'ebeam',\n",
       " 'epicsinfo',\n",
       " 'epix100',\n",
       " 'gmd',\n",
       " 'hsd',\n",
       " 'pcav',\n",
       " 'timing',\n",
       " 'tmo_opal3',\n",
       " 'xgmd',\n",
       " 'xtcav'}"
      ]
     },
     "execution_count": 23,
     "metadata": {},
     "output_type": "execute_result"
    }
   ],
   "source": [
    "#ds=ps.DataSource(exp = 'tmox51020', run= runnum)\n",
    "ds=ps.DataSource(exp = 'tmolv1720', run= 325)\n",
    "run = next(ds.runs())\n",
    "run.detnames"
   ]
  },
  {
   "cell_type": "code",
   "execution_count": 26,
   "id": "deb41df8-8172-4d17-a568-d6abf07471e3",
   "metadata": {},
   "outputs": [
    {
     "name": "stdout",
     "output_type": "stream",
     "text": [
      "Bad EPICS: 0\n",
      "Bad EPICS: 1\n",
      "Bad EPICS: 2\n",
      "Bad EPICS: 3\n",
      "Bad EPICS: 4\n",
      "Bad EPICS: 5\n",
      "Bad EPICS: 6\n",
      "Bad EPICS: 7\n",
      "Bad EPICS: 8\n",
      "Bad EPICS: 9\n",
      "Bad EPICS: 10\n",
      "Bad EPICS: 11\n",
      "Bad EPICS: 12\n",
      "Bad EPICS: 13\n",
      "Bad EPICS: 14\n",
      "Bad EPICS: 15\n",
      "Bad EPICS: 16\n",
      "Bad EPICS: 17\n",
      "Bad EPICS: 18\n",
      "Bad EPICS: 19\n",
      "Bad EPICS: 20\n",
      "Bad EPICS: 21\n",
      "Bad EPICS: 22\n",
      "Bad EPICS: 23\n",
      "Bad EPICS: 24\n",
      "Bad EPICS: 25\n",
      "Bad EPICS: 26\n",
      "Bad EPICS: 27\n",
      "Bad EPICS: 28\n",
      "Bad EPICS: 29\n",
      "Bad EPICS: 30\n",
      "Bad EPICS: 31\n",
      "Bad EPICS: 32\n",
      "Bad EPICS: 33\n",
      "Bad EPICS: 34\n",
      "Bad EPICS: 35\n",
      "Bad EPICS: 36\n",
      "Bad EPICS: 37\n",
      "Bad EPICS: 38\n",
      "Bad EPICS: 39\n",
      "Bad EPICS: 40\n",
      "Bad EPICS: 41\n",
      "Bad EPICS: 42\n",
      "Bad EPICS: 43\n",
      "Bad EPICS: 44\n",
      "Bad EPICS: 45\n",
      "Bad EPICS: 46\n",
      "Bad EPICS: 47\n",
      "Bad EPICS: 48\n",
      "Bad EPICS: 49\n",
      "Bad EPICS: 50\n",
      "Bad EPICS: 51\n",
      "Bad EPICS: 52\n",
      "Bad EPICS: 53\n",
      "Bad EPICS: 54\n",
      "Bad EPICS: 55\n",
      "Bad EPICS: 56\n",
      "Bad EPICS: 57\n",
      "Bad EPICS: 58\n",
      "Bad EPICS: 59\n",
      "Bad EPICS: 60\n",
      "Bad EPICS: 61\n",
      "Bad EPICS: 62\n",
      "Bad EPICS: 63\n",
      "Bad EPICS: 64\n",
      "Bad EPICS: 65\n",
      "Bad EPICS: 66\n",
      "Bad EPICS: 67\n",
      "Bad EPICS: 68\n",
      "Bad EPICS: 69\n",
      "Bad EPICS: 70\n",
      "Bad EPICS: 71\n",
      "Bad EPICS: 72\n",
      "Bad EPICS: 73\n",
      "Bad EPICS: 74\n",
      "Bad EPICS: 75\n",
      "Bad EPICS: 76\n",
      "Bad EPICS: 77\n",
      "Bad EPICS: 78\n",
      "Bad EPICS: 79\n",
      "Bad EPICS: 80\n",
      "Bad EPICS: 81\n",
      "Bad EPICS: 82\n",
      "Bad EPICS: 83\n",
      "Bad EPICS: 84\n",
      "Bad EPICS: 85\n",
      "Bad EPICS: 86\n",
      "Bad EPICS: 87\n",
      "Bad EPICS: 88\n",
      "Bad EPICS: 89\n",
      "Bad EPICS: 90\n",
      "Bad EPICS: 91\n",
      "Bad EPICS: 92\n",
      "Bad EPICS: 93\n",
      "Bad EPICS: 94\n",
      "Bad EPICS: 95\n",
      "Bad EPICS: 96\n",
      "Bad EPICS: 97\n",
      "Bad EPICS: 98\n",
      "Bad EPICS: 99\n",
      "Bad EPICS: 100\n",
      "Bad EPICS: 101\n",
      "Bad EPICS: 102\n",
      "Bad EPICS: 103\n",
      "Bad EPICS: 104\n",
      "Bad EPICS: 105\n",
      "Bad EPICS: 106\n",
      "Bad EPICS: 107\n",
      "Bad EPICS: 108\n",
      "Bad EPICS: 109\n",
      "Bad EPICS: 110\n",
      "Bad EPICS: 111\n",
      "Bad EPICS: 112\n"
     ]
    }
   ],
   "source": [
    "runnum = 326\n",
    "#ds=ps.DataSource(exp = 'tmox51020', run= runnum)\n",
    "ds=ps.DataSource(exp = 'tmolv1720', run= runnum)\n",
    "run = next(ds.runs())\n",
    "\n",
    "# opal1 = run.Detector('tmo_opal1') # OPAL camera looking at the holey mirror\n",
    "# gmd = run.Detector(\"gmd\") # gas intensity detector \n",
    "timing = run.Detector('timing') # this gives access to evr codes\n",
    "\n",
    "tts = []\n",
    "\n",
    "if hasattr(run, 'epicsinfo'):\n",
    "    epics_strs = [item[0] for item in run.epicsinfo.keys()][1:] # first one is weird\n",
    "    epics_detectors = [run.Detector(item) for item in epics_strs]    \n",
    "\n",
    "for nevent, event in enumerate(run.events()):\n",
    "\n",
    "    data = {'epics_'+epic_str: epic_det(event) for epic_str, epic_det in zip(epics_strs, epics_detectors)}        \n",
    "    if any(type(val) not in [int, float] for val in data.values()):\n",
    "        print(\"Bad EPICS: %d\" % nevent)\n",
    "        #Nbad += 1\n",
    "        continue\n",
    "    \n",
    "    tts.append(event.datetime()) \n",
    "\n",
    "    if len(tts)>10: break"
   ]
  },
  {
   "cell_type": "code",
   "execution_count": 27,
   "id": "0eaccb3f-31c1-4f48-8fb1-76bf87641f42",
   "metadata": {},
   "outputs": [
    {
     "name": "stdout",
     "output_type": "stream",
     "text": [
      "326\n"
     ]
    },
    {
     "data": {
      "text/plain": [
       "[datetime.datetime(2022, 2, 28, 20, 25, 11, 298650),\n",
       " datetime.datetime(2022, 2, 28, 20, 25, 11, 307039),\n",
       " datetime.datetime(2022, 2, 28, 20, 25, 11, 315296),\n",
       " datetime.datetime(2022, 2, 28, 20, 25, 11, 323685),\n",
       " datetime.datetime(2022, 2, 28, 20, 25, 11, 331943),\n",
       " datetime.datetime(2022, 2, 28, 20, 25, 11, 340331),\n",
       " datetime.datetime(2022, 2, 28, 20, 25, 11, 348720),\n",
       " datetime.datetime(2022, 2, 28, 20, 25, 11, 356977),\n",
       " datetime.datetime(2022, 2, 28, 20, 25, 11, 365366),\n",
       " datetime.datetime(2022, 2, 28, 20, 25, 11, 373624),\n",
       " datetime.datetime(2022, 2, 28, 20, 25, 11, 382012)]"
      ]
     },
     "execution_count": 27,
     "metadata": {},
     "output_type": "execute_result"
    }
   ],
   "source": [
    "print(runnum)\n",
    "tts"
   ]
  },
  {
   "cell_type": "code",
   "execution_count": null,
   "id": "9295c5e7-001d-44e1-a4ca-480a8d95de6d",
   "metadata": {},
   "outputs": [],
   "source": []
  }
 ],
 "metadata": {
  "kernelspec": {
   "display_name": "LCLS-II py3",
   "language": "python",
   "name": "ana2-current"
  },
  "language_info": {
   "codemirror_mode": {
    "name": "ipython",
    "version": 3
   },
   "file_extension": ".py",
   "mimetype": "text/x-python",
   "name": "python",
   "nbconvert_exporter": "python",
   "pygments_lexer": "ipython3",
   "version": "3.9.15"
  }
 },
 "nbformat": 4,
 "nbformat_minor": 5
}
