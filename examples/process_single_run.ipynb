{
 "cells": [
  {
   "cell_type": "code",
   "execution_count": 1,
   "id": "1a0819b7-db5b-49be-848e-d1707b0c7d16",
   "metadata": {},
   "outputs": [],
   "source": [
    "#process the pytorch fitting outfit into single large data files with calcs for plotting"
   ]
  },
  {
   "cell_type": "code",
   "execution_count": 1,
   "id": "8b2f5016-eb33-46ca-84ce-b394a59f1de9",
   "metadata": {},
   "outputs": [],
   "source": [
    "%load_ext autoreload\n",
    "%autoreload 2"
   ]
  },
  {
   "cell_type": "code",
   "execution_count": 2,
   "id": "41ff70fa-83a9-4aaf-85a3-1141b948477c",
   "metadata": {},
   "outputs": [],
   "source": [
    "from __future__ import print_function\n",
    "import numpy as np\n",
    "#from tqdm import tqdm\n",
    "import matplotlib.colors as colors\n",
    "import matplotlib.pyplot as plt\n",
    "from matplotlib.dates import DateFormatter\n",
    "from matplotlib import cm\n",
    "plt.rcParams.update({'font.size': 14, 'lines.markersize' : 4})\n",
    "from scipy.interpolate import interp1d\n",
    "from scipy.optimize import curve_fit\n",
    "import sys, os\n",
    "import time, datetime\n",
    "from datetime import timedelta\n",
    "import pandas as pd\n",
    "sys.path.append('/reg/neh/home/tdd14/modules/cart2pol/cart2pol')\n",
    "import cart2pol\n",
    "from cart2pol import PolarRebin\n",
    "from torchrecon_funcs_clean import *"
   ]
  },
  {
   "cell_type": "code",
   "execution_count": 3,
   "id": "7554e9ca-a544-475c-96d3-e56d7d425aa9",
   "metadata": {},
   "outputs": [],
   "source": [
    "from matplotlib import cm\n",
    "from matplotlib.colors import ListedColormap\n",
    "my_cmap = cm.get_cmap('jet')\n",
    "xr = np.linspace(0, 1, 2000)\n",
    "my_cmap = my_cmap(xr)\n",
    "my_cmap[0:2,-1] = 0\n",
    "my_cmap = ListedColormap(my_cmap)"
   ]
  },
  {
   "cell_type": "code",
   "execution_count": 4,
   "id": "9fb0797c-e0fe-4cbb-a7ce-6f3e15d8a63c",
   "metadata": {},
   "outputs": [],
   "source": [
    "#where the vNbases are\n",
    "basesdir = '/reg/d/psdm/tmo/tmox51020/results/paris/circularpol_vNbases_dipole_Feb/'\n",
    "PR = PolarRebin('/reg/d/psdm/tmo/tmox51020/results/paris/recon/PR_c32_r32_th32.h5') \n"
   ]
  },
  {
   "cell_type": "code",
   "execution_count": 20,
   "id": "cd13ba0d-3c8c-4542-906c-76856e261b9b",
   "metadata": {},
   "outputs": [
    {
     "name": "stdout",
     "output_type": "stream",
     "text": [
      "180\n"
     ]
    },
    {
     "data": {
      "text/plain": [
       "array(['pytorchrecon_5_Up0.3_seed0.npy', 'pytorchrecon_0_Up1.0_seed1.npy',\n",
       "       'pytorchrecon_8_Up0.4_seed1.npy', 'pytorchrecon_1_Up0.2_seed2.npy',\n",
       "       'pytorchrecon_2_Up1.0_seed0.npy', 'pytorchrecon_7_Up0.3_seed1.npy',\n",
       "       'pytorchrecon_9_Up0.1_seed1.npy', 'pytorchrecon_5_Up0.2_seed0.npy',\n",
       "       'pytorchrecon_6_Up1.0_seed2.npy', 'pytorchrecon_7_Up0.2_seed1.npy',\n",
       "       'pytorchrecon_8_Up0.5_seed1.npy', 'pytorchrecon_1_Up0.3_seed2.npy',\n",
       "       'pytorchrecon_5_Up0.1_seed0.npy', 'pytorchrecon_4_Up0.4_seed0.npy',\n",
       "       'pytorchrecon_6_Up0.4_seed1.npy', 'pytorchrecon_9_Up0.3_seed1.npy',\n",
       "       'pytorchrecon_0_Up0.5_seed2.npy', 'pytorchrecon_7_Up0.1_seed1.npy',\n",
       "       'pytorchrecon_4_Up0.5_seed0.npy', 'pytorchrecon_8_Up1.0_seed2.npy',\n",
       "       'pytorchrecon_9_Up0.2_seed1.npy', 'pytorchrecon_0_Up0.4_seed2.npy',\n",
       "       'pytorchrecon_6_Up0.5_seed1.npy', 'pytorchrecon_1_Up0.1_seed2.npy',\n",
       "       'pytorchrecon_0_Up0.3_seed2.npy', 'pytorchrecon_9_Up0.5_seed1.npy',\n",
       "       'pytorchrecon_6_Up0.2_seed1.npy', 'pytorchrecon_7_Up1.0_seed2.npy',\n",
       "       'pytorchrecon_4_Up0.2_seed0.npy', 'pytorchrecon_6_Up0.3_seed1.npy',\n",
       "       'pytorchrecon_3_Up1.0_seed0.npy', 'pytorchrecon_0_Up0.2_seed2.npy',\n",
       "       'pytorchrecon_9_Up0.4_seed1.npy', 'pytorchrecon_8_Up0.1_seed1.npy',\n",
       "       'pytorchrecon_1_Up1.0_seed1.npy', 'pytorchrecon_4_Up0.3_seed0.npy',\n",
       "       'pytorchrecon_7_Up0.5_seed1.npy', 'pytorchrecon_1_Up0.4_seed2.npy',\n",
       "       'pytorchrecon_8_Up0.2_seed1.npy', 'pytorchrecon_0_Up0.1_seed2.npy',\n",
       "       'pytorchrecon_9_Up1.0_seed2.npy', 'pytorchrecon_5_Up0.5_seed0.npy',\n",
       "       'pytorchrecon_1_Up0.5_seed2.npy', 'pytorchrecon_8_Up0.3_seed1.npy',\n",
       "       'pytorchrecon_7_Up0.4_seed1.npy', 'pytorchrecon_6_Up0.1_seed1.npy',\n",
       "       'pytorchrecon_4_Up0.1_seed0.npy', 'pytorchrecon_5_Up0.4_seed0.npy',\n",
       "       'pytorchrecon_9_Up0.2_seed0.npy', 'pytorchrecon_6_Up0.5_seed0.npy',\n",
       "       'pytorchrecon_3_Up0.1_seed2.npy', 'pytorchrecon_4_Up0.5_seed1.npy',\n",
       "       'pytorchrecon_2_Up0.4_seed2.npy', 'pytorchrecon_6_Up0.4_seed0.npy',\n",
       "       'pytorchrecon_9_Up0.3_seed0.npy', 'pytorchrecon_7_Up0.1_seed0.npy',\n",
       "       'pytorchrecon_5_Up0.1_seed1.npy', 'pytorchrecon_2_Up0.5_seed2.npy',\n",
       "       'pytorchrecon_4_Up0.4_seed1.npy', 'pytorchrecon_4_Up1.0_seed2.npy',\n",
       "       'pytorchrecon_7_Up0.2_seed0.npy', 'pytorchrecon_8_Up0.5_seed0.npy',\n",
       "       'pytorchrecon_3_Up0.3_seed2.npy', 'pytorchrecon_5_Up0.2_seed1.npy',\n",
       "       'pytorchrecon_8_Up0.4_seed0.npy', 'pytorchrecon_2_Up1.0_seed1.npy',\n",
       "       'pytorchrecon_7_Up0.3_seed0.npy', 'pytorchrecon_9_Up0.1_seed0.npy',\n",
       "       'pytorchrecon_5_Up0.3_seed1.npy', 'pytorchrecon_0_Up1.0_seed0.npy',\n",
       "       'pytorchrecon_3_Up0.2_seed2.npy', 'pytorchrecon_4_Up0.1_seed1.npy',\n",
       "       'pytorchrecon_5_Up0.4_seed1.npy', 'pytorchrecon_3_Up0.5_seed2.npy',\n",
       "       'pytorchrecon_8_Up0.3_seed0.npy', 'pytorchrecon_7_Up0.4_seed0.npy',\n",
       "       'pytorchrecon_6_Up0.1_seed0.npy', 'pytorchrecon_2_Up0.1_seed2.npy',\n",
       "       'pytorchrecon_3_Up0.4_seed2.npy', 'pytorchrecon_5_Up0.5_seed1.npy',\n",
       "       'pytorchrecon_7_Up0.5_seed0.npy', 'pytorchrecon_8_Up0.2_seed0.npy',\n",
       "       'pytorchrecon_2_Up0.2_seed2.npy', 'pytorchrecon_1_Up1.0_seed0.npy',\n",
       "       'pytorchrecon_4_Up0.3_seed1.npy', 'pytorchrecon_6_Up0.3_seed0.npy',\n",
       "       'pytorchrecon_3_Up1.0_seed1.npy', 'pytorchrecon_9_Up0.4_seed0.npy',\n",
       "       'pytorchrecon_8_Up0.1_seed0.npy', 'pytorchrecon_4_Up0.2_seed1.npy',\n",
       "       'pytorchrecon_2_Up0.3_seed2.npy', 'pytorchrecon_9_Up0.5_seed0.npy',\n",
       "       'pytorchrecon_6_Up0.2_seed0.npy', 'pytorchrecon_5_Up1.0_seed2.npy',\n",
       "       'pytorchrecon_1_Up0.5_seed0.npy', 'pytorchrecon_4_Up0.1_seed2.npy',\n",
       "       'pytorchrecon_5_Up0.4_seed2.npy', 'pytorchrecon_3_Up0.5_seed1.npy',\n",
       "       'pytorchrecon_1_Up0.4_seed0.npy', 'pytorchrecon_0_Up0.1_seed0.npy',\n",
       "       'pytorchrecon_2_Up0.1_seed1.npy', 'pytorchrecon_3_Up0.4_seed1.npy',\n",
       "       'pytorchrecon_9_Up1.0_seed0.npy', 'pytorchrecon_5_Up0.5_seed2.npy',\n",
       "       'pytorchrecon_3_Up1.0_seed2.npy', 'pytorchrecon_0_Up0.2_seed0.npy',\n",
       "       'pytorchrecon_2_Up0.2_seed1.npy', 'pytorchrecon_4_Up0.3_seed2.npy',\n",
       "       'pytorchrecon_0_Up0.3_seed0.npy', 'pytorchrecon_5_Up1.0_seed1.npy',\n",
       "       'pytorchrecon_7_Up1.0_seed0.npy', 'pytorchrecon_4_Up0.2_seed2.npy',\n",
       "       'pytorchrecon_2_Up0.3_seed1.npy', 'pytorchrecon_3_Up0.1_seed1.npy',\n",
       "       'pytorchrecon_4_Up0.5_seed2.npy', 'pytorchrecon_8_Up1.0_seed0.npy',\n",
       "       'pytorchrecon_2_Up0.4_seed1.npy', 'pytorchrecon_0_Up0.4_seed0.npy',\n",
       "       'pytorchrecon_1_Up0.1_seed0.npy', 'pytorchrecon_5_Up0.1_seed2.npy',\n",
       "       'pytorchrecon_2_Up0.5_seed1.npy', 'pytorchrecon_4_Up0.4_seed2.npy',\n",
       "       'pytorchrecon_0_Up0.5_seed0.npy', 'pytorchrecon_3_Up0.3_seed1.npy',\n",
       "       'pytorchrecon_5_Up0.2_seed2.npy', 'pytorchrecon_6_Up1.0_seed0.npy',\n",
       "       'pytorchrecon_4_Up1.0_seed1.npy', 'pytorchrecon_1_Up0.3_seed0.npy',\n",
       "       'pytorchrecon_5_Up0.3_seed2.npy', 'pytorchrecon_3_Up0.2_seed1.npy',\n",
       "       'pytorchrecon_1_Up0.2_seed0.npy', 'pytorchrecon_2_Up1.0_seed2.npy',\n",
       "       'pytorchrecon_7_Up1.0_seed1.npy', 'pytorchrecon_2_Up0.3_seed0.npy',\n",
       "       'pytorchrecon_9_Up0.5_seed2.npy', 'pytorchrecon_0_Up0.3_seed1.npy',\n",
       "       'pytorchrecon_6_Up0.2_seed2.npy', 'pytorchrecon_5_Up1.0_seed0.npy',\n",
       "       'pytorchrecon_2_Up0.2_seed0.npy', 'pytorchrecon_1_Up1.0_seed2.npy',\n",
       "       'pytorchrecon_6_Up0.3_seed2.npy', 'pytorchrecon_9_Up0.4_seed2.npy',\n",
       "       'pytorchrecon_0_Up0.2_seed1.npy', 'pytorchrecon_8_Up0.1_seed2.npy',\n",
       "       'pytorchrecon_2_Up0.1_seed0.npy', 'pytorchrecon_3_Up0.4_seed0.npy',\n",
       "       'pytorchrecon_9_Up1.0_seed1.npy', 'pytorchrecon_7_Up0.5_seed2.npy',\n",
       "       'pytorchrecon_8_Up0.2_seed2.npy', 'pytorchrecon_1_Up0.4_seed1.npy',\n",
       "       'pytorchrecon_0_Up0.1_seed1.npy', 'pytorchrecon_3_Up0.5_seed0.npy',\n",
       "       'pytorchrecon_8_Up0.3_seed2.npy', 'pytorchrecon_1_Up0.5_seed1.npy',\n",
       "       'pytorchrecon_7_Up0.4_seed2.npy', 'pytorchrecon_6_Up0.1_seed2.npy',\n",
       "       'pytorchrecon_1_Up0.2_seed1.npy', 'pytorchrecon_8_Up0.4_seed2.npy',\n",
       "       'pytorchrecon_7_Up0.3_seed2.npy', 'pytorchrecon_9_Up0.1_seed2.npy',\n",
       "       'pytorchrecon_0_Up1.0_seed2.npy', 'pytorchrecon_3_Up0.2_seed0.npy',\n",
       "       'pytorchrecon_4_Up1.0_seed0.npy', 'pytorchrecon_7_Up0.2_seed2.npy',\n",
       "       'pytorchrecon_1_Up0.3_seed1.npy', 'pytorchrecon_8_Up0.5_seed2.npy',\n",
       "       'pytorchrecon_3_Up0.3_seed0.npy', 'pytorchrecon_6_Up1.0_seed1.npy',\n",
       "       'pytorchrecon_6_Up0.4_seed2.npy', 'pytorchrecon_0_Up0.5_seed1.npy',\n",
       "       'pytorchrecon_9_Up0.3_seed2.npy', 'pytorchrecon_7_Up0.1_seed2.npy',\n",
       "       'pytorchrecon_2_Up0.5_seed0.npy', 'pytorchrecon_0_Up0.4_seed1.npy',\n",
       "       'pytorchrecon_9_Up0.2_seed2.npy', 'pytorchrecon_6_Up0.5_seed2.npy',\n",
       "       'pytorchrecon_1_Up0.1_seed1.npy', 'pytorchrecon_3_Up0.1_seed0.npy',\n",
       "       'pytorchrecon_8_Up1.0_seed1.npy', 'pytorchrecon_2_Up0.4_seed0.npy'],\n",
       "      dtype='<U30')"
      ]
     },
     "execution_count": 20,
     "metadata": {},
     "output_type": "execute_result"
    }
   ],
   "source": [
    "#where the recon output files are saved\n",
    "basedir = '/reg/d/psdm/tmo/tmox51020/results/paris/recon/torch_test_clean'\n",
    "\n",
    "files = np.array(os.listdir(basedir))\n",
    "files = files[np.array(['.npy' in file for file in files])]\n",
    "#files = sorted(files, key=lambda f: float(f.split('run')[0]))\n",
    "print(len(files))\n",
    "files"
   ]
  },
  {
   "cell_type": "code",
   "execution_count": 6,
   "id": "87c89904-8444-440f-9548-8d743d6eb699",
   "metadata": {},
   "outputs": [],
   "source": [
    "l = 13\n",
    "dat = np.ndarray(len(files), dtype = [('seed', int),('ID', int),('Up', float), ('Qs', float, 2*36-1),\\\n",
    "                                      ('costs', float,l), ('costM', float,l), ('costW', float,l), ('costS', float,l),\\\n",
    "                                      ('costQ', float, l), ('eshift',float), ('M_wght', float), ('Spec_wght', float),\\\n",
    "                                      ('Smooth_wght', float),\\\n",
    "                                      ('costMn', float,l), ('costWn', float,l), ('costSn', float,l),\\\n",
    "                                           ])"
   ]
  },
  {
   "cell_type": "code",
   "execution_count": 7,
   "id": "6fba52a5-c663-4db0-b765-99f9d1ef5bf9",
   "metadata": {},
   "outputs": [],
   "source": [
    "for i,f in enumerate(files):\n",
    "    test = np.load(os.path.join(basedir,f), allow_pickle=True).item()\n",
    "    for n in dat.dtype.names[:]:\n",
    "        try:\n",
    "            dat[i][n]=test[n]\n",
    "        except:\n",
    "            if n == 'costMn':\n",
    "                try:\n",
    "                    dat[i][n]=np.array(test['costM'])/test['M_wght']\n",
    "                except:\n",
    "                    dat[i][n] = 0\n",
    "            elif n == 'costWn':\n",
    "                try:\n",
    "                    dat[i][n]=np.array(test['costW'])/test['Spec_wght']\n",
    "                except:\n",
    "                    dat[i][n] = 0\n",
    "            elif n == 'costSn':\n",
    "                try:\n",
    "                    dat[i][n]=np.array(test['costS'])/test['Smooth_wght']\n",
    "                except:\n",
    "                    dat[i][n] = 0 \n",
    "                \n",
    "            elif n == 'Etvar':\n",
    "                continue\n",
    "            else: print(n)"
   ]
  },
  {
   "cell_type": "code",
   "execution_count": 8,
   "id": "a01b8439-d57a-44a5-b0c3-6d27a131ef71",
   "metadata": {},
   "outputs": [
    {
     "name": "stdout",
     "output_type": "stream",
     "text": [
      "ID 0, # files 6\n",
      "ID 1, # files 6\n",
      "ID 2, # files 6\n",
      "ID 3, # files 6\n",
      "ID 4, # files 6\n",
      "ID 5, # files 6\n",
      "ID 6, # files 6\n",
      "ID 7, # files 6\n",
      "ID 8, # files 6\n",
      "ID 9, # files 6\n"
     ]
    }
   ],
   "source": [
    "for i,j in enumerate(np.unique(dat['ID'])):\n",
    "    print('ID %1.0f, # files %1.0f' %(j,len(dat[dat['ID'] == j])))"
   ]
  },
  {
   "cell_type": "code",
   "execution_count": 9,
   "id": "124055e2-f0b3-4b5d-a5b5-9415bf662a5c",
   "metadata": {},
   "outputs": [
    {
     "data": {
      "text/plain": [
       "array([0.4, 1. ])"
      ]
     },
     "execution_count": 9,
     "metadata": {},
     "output_type": "execute_result"
    }
   ],
   "source": [
    "Ups = np.unique(dat['Up'])\n",
    "Ups"
   ]
  },
  {
   "cell_type": "code",
   "execution_count": 10,
   "id": "6a336218-c6d8-44f2-9053-94c2b8220eb3",
   "metadata": {},
   "outputs": [
    {
     "name": "stdout",
     "output_type": "stream",
     "text": [
      "25 15 0.985 0\n"
     ]
    }
   ],
   "source": [
    "mfn = test['mfn'] \n",
    "gfn = test['gfn'] \n",
    "gfsig = test['gfsig']\n",
    "eshift = test['eshift']\n",
    "print(mfn,gfn,gfsig, eshift)\n",
    "runnum = test['runnum']\n",
    "gfcart = 0.25 #applied to the simulated image to try to make it match the measured\n",
    "mfcart = 1\n",
    "mdatname = test['mdatname']\n",
    "specdatname = test['specdatname']\n",
    "thresh = test['thresh']\n",
    "mask = test['mask']\n",
    "maskhm = test['maskhm']\n",
    "pixpereV = test['pixpereV']"
   ]
  },
  {
   "cell_type": "code",
   "execution_count": 16,
   "id": "a5d40c76-7d48-4b8e-b467-0776f1667fc6",
   "metadata": {},
   "outputs": [],
   "source": [
    "dats = {'dat': dat, 'mask': mask, 'maskhm': maskhm, 'mdatname': mdatname, 'specdatname': specdatname,\\\n",
    "        'gfsig':gfsig, 'eshift':eshift, 'sc': test['sc'],'thresh': thresh, 'runnum':runnum, 'pixpereV': pixpereV}"
   ]
  },
  {
   "cell_type": "code",
   "execution_count": 17,
   "id": "2d9d11d4-d7b8-4f30-9472-13105868597d",
   "metadata": {},
   "outputs": [
    {
     "name": "stdout",
     "output_type": "stream",
     "text": [
      "torch_test_clean.npy\n"
     ]
    }
   ],
   "source": [
    "fname = basedir.split('recon/')[1].split('/')[0]\n",
    "fname = fname + '.npy'\n",
    "print(fname)"
   ]
  },
  {
   "cell_type": "code",
   "execution_count": 18,
   "id": "cac93c87-0730-488d-8d54-4e1f948799bf",
   "metadata": {},
   "outputs": [
    {
     "name": "stdout",
     "output_type": "stream",
     "text": [
      "/reg/d/psdm/tmo/tmox51020/results/paris/recon/torch_test_clean.npy\n"
     ]
    }
   ],
   "source": [
    "savedir = '/reg/d/psdm/tmo/tmox51020/results/paris/recon' #save in recon folder (one up)\n",
    "print(os.path.join(savedir,fname))"
   ]
  },
  {
   "cell_type": "code",
   "execution_count": 19,
   "id": "5e525872-aee4-46b0-a5a4-5d7e51799d41",
   "metadata": {},
   "outputs": [],
   "source": [
    "np.save(os.path.join(savedir,fname),dats)"
   ]
  },
  {
   "cell_type": "code",
   "execution_count": 15,
   "id": "fbc90d67-e444-4899-955b-edd7100142f6",
   "metadata": {},
   "outputs": [
    {
     "data": {
      "text/plain": [
       "'/reg/d/psdm/tmo/tmox51020/results/paris/recon/torch_test_clean'"
      ]
     },
     "execution_count": 15,
     "metadata": {},
     "output_type": "execute_result"
    }
   ],
   "source": [
    "basedir"
   ]
  },
  {
   "cell_type": "code",
   "execution_count": 70,
   "id": "ee7b0f75-125d-4624-baf1-ee920696a803",
   "metadata": {},
   "outputs": [],
   "source": [
    "#make sure you delete output files so you don't run out of space in the results file\n",
    "! rm -r /reg/d/psdm/tmo/tmox51020/results/paris/recon/torch_test_clean/*.npy"
   ]
  }
 ],
 "metadata": {
  "kernelspec": {
   "display_name": "Deeplearning py3",
   "language": "python",
   "name": "deeplearning"
  },
  "language_info": {
   "codemirror_mode": {
    "name": "ipython",
    "version": 3
   },
   "file_extension": ".py",
   "mimetype": "text/x-python",
   "name": "python",
   "nbconvert_exporter": "python",
   "pygments_lexer": "ipython3",
   "version": "3.7.3"
  }
 },
 "nbformat": 4,
 "nbformat_minor": 5
}
