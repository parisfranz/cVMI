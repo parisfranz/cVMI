{
 "cells": [
  {
   "cell_type": "code",
   "execution_count": 1,
   "id": "8c8460cf-598a-4082-b416-4dbeb4993197",
   "metadata": {},
   "outputs": [],
   "source": [
    "%load_ext autoreload\n",
    "%autoreload 2"
   ]
  },
  {
   "cell_type": "code",
   "execution_count": 3,
   "id": "13191940-7e2f-4d37-91f0-563592b7b447",
   "metadata": {},
   "outputs": [],
   "source": [
    "#make savedir\n",
    "! mkdir /reg/d/psdm/tmo/tmox51020/results/paris/recon/torch_test_clean"
   ]
  },
  {
   "cell_type": "code",
   "execution_count": 4,
   "id": "60fe607a-819b-4e45-a795-777f725da1a8",
   "metadata": {},
   "outputs": [
    {
     "name": "stdout",
     "output_type": "stream",
     "text": [
      "one done\n",
      "one done\n",
      "one done\n",
      "one done\n",
      "one done\n",
      "one done\n",
      "one done\n",
      "one done\n",
      "one done\n",
      "one done\n",
      "one done\n",
      "one done\n",
      "one done\n",
      "one done\n",
      "one done\n",
      "one done\n",
      "one done\n",
      "one done\n",
      "one done\n",
      "one done\n",
      "one done\n",
      "one done\n",
      "one done\n",
      "one done\n",
      "one done\n",
      "one done\n",
      "one done\n",
      "one done\n",
      "one done\n",
      "one done\n"
     ]
    }
   ],
   "source": [
    "#run at a certain Up\n",
    "%run itorch_recon_clean 0.4"
   ]
  },
  {
   "cell_type": "code",
   "execution_count": 5,
   "id": "123ffc8e-5dd8-4763-9896-98f8eb52a5b3",
   "metadata": {},
   "outputs": [
    {
     "name": "stdout",
     "output_type": "stream",
     "text": [
      "one done\n",
      "one done\n",
      "one done\n",
      "one done\n",
      "one done\n",
      "one done\n",
      "one done\n",
      "one done\n",
      "one done\n",
      "one done\n",
      "one done\n",
      "one done\n",
      "one done\n",
      "one done\n",
      "one done\n",
      "one done\n",
      "one done\n",
      "one done\n",
      "one done\n",
      "one done\n",
      "one done\n",
      "one done\n",
      "one done\n",
      "one done\n",
      "one done\n",
      "one done\n",
      "one done\n",
      "one done\n",
      "one done\n",
      "one done\n"
     ]
    }
   ],
   "source": [
    "%run itorch_recon_clean 1.0"
   ]
  },
  {
   "cell_type": "code",
   "execution_count": null,
   "id": "53f32b1f-3b00-4d70-8817-b570b4083d68",
   "metadata": {},
   "outputs": [],
   "source": []
  }
 ],
 "metadata": {
  "kernelspec": {
   "display_name": "Deeplearning py3",
   "language": "python",
   "name": "deeplearning"
  },
  "language_info": {
   "codemirror_mode": {
    "name": "ipython",
    "version": 3
   },
   "file_extension": ".py",
   "mimetype": "text/x-python",
   "name": "python",
   "nbconvert_exporter": "python",
   "pygments_lexer": "ipython3",
   "version": "3.7.3"
  }
 },
 "nbformat": 4,
 "nbformat_minor": 5
}
